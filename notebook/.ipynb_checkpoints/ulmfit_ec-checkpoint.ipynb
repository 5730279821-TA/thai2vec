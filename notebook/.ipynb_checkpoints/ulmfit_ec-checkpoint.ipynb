{
 "cells": [
  {
   "cell_type": "markdown",
   "metadata": {},
   "source": [
    "# Thai2Vec Text Feature Extraction Using ULMFit\n",
    "\n",
    "This notebook demonstrates how to use `thai2vec` to convert Thai texts into vectors (roll credits!), after which said vectors can be used for various machine learning tasks such as classification, clustering, translation, question answering and so on. The idea is to train a language model that \"understands\" the texts then extract certain vectors that the model \"thinks\" represents the texts we want. We use 113,962 product reviews scraped from an ecommerce website as our sample dataset. \n",
    "\n",
    "Our workflow is as follows:\n",
    "\n",
    "* Perform 80/20 train-validation split\n",
    "* Minimal text cleaning and tokenization using `newmm` engine of `pyThaiNLP`\n",
    "* Get embeddings of ecommerce dataset from train set\n",
    "* Load pretrained Thai Wikipedia embeddings; for those embeddings which exist only in ecommerce dataset, we use the average of Wikipedia embeddings instead\n",
    "* Train language model\n",
    "* Cut out the encoder and extract vectors from there."
   ]
  },
  {
   "cell_type": "markdown",
   "metadata": {},
   "source": [
    "## Imports"
   ]
  },
  {
   "cell_type": "code",
   "execution_count": 56,
   "metadata": {},
   "outputs": [],
   "source": [
    "%reload_ext autoreload\n",
    "%autoreload 2\n",
    "%matplotlib inline\n",
    "\n",
    "import re\n",
    "import html\n",
    "import dill as pickle\n",
    "from IPython.display import Image\n",
    "from IPython.core.display import HTML \n",
    "from collections import Counter\n",
    "from sklearn.model_selection import train_test_split\n",
    "\n",
    "from fastai.text import *\n",
    "from pythainlp.tokenize import word_tokenize\n",
    "from utils import *\n",
    "\n",
    "DATA_PATH='/home/ubuntu/Projects/new2vec/ec_data/'\n",
    "RAW_PATH = f'{DATA_PATH}raw/'\n",
    "MODEL_PATH = f'{DATA_PATH}models/'\n",
    "\n",
    "raw_files = !ls {RAW_PATH}"
   ]
  },
  {
   "cell_type": "markdown",
   "metadata": {},
   "source": [
    "## Raw Texts to CSVs"
   ]
  },
  {
   "cell_type": "code",
   "execution_count": 2,
   "metadata": {},
   "outputs": [],
   "source": [
    "# dfs = []\n",
    "# j = 0\n",
    "# for i in range(len(raw_files)):\n",
    "#     raw_file = raw_files[i]\n",
    "#     star = i+1\n",
    "#     with open(f'{RAW_PATH}{raw_file}') as f:\n",
    "#         lines = f.readlines()\n",
    "#         for line in lines:\n",
    "#             df = pd.DataFrame({'target':star,'text':line},index=[j])\n",
    "#             dfs.append(df)\n",
    "#             j+=1\n",
    "# df_raw = pd.concat(dfs)"
   ]
  },
  {
   "cell_type": "code",
   "execution_count": 3,
   "metadata": {},
   "outputs": [
    {
     "data": {
      "text/html": [
       "<div>\n",
       "<style scoped>\n",
       "    .dataframe tbody tr th:only-of-type {\n",
       "        vertical-align: middle;\n",
       "    }\n",
       "\n",
       "    .dataframe tbody tr th {\n",
       "        vertical-align: top;\n",
       "    }\n",
       "\n",
       "    .dataframe thead th {\n",
       "        text-align: right;\n",
       "    }\n",
       "</style>\n",
       "<table border=\"1\" class=\"dataframe\">\n",
       "  <thead>\n",
       "    <tr style=\"text-align: right;\">\n",
       "      <th></th>\n",
       "      <th>target</th>\n",
       "      <th>text</th>\n",
       "    </tr>\n",
       "  </thead>\n",
       "  <tbody>\n",
       "    <tr>\n",
       "      <th>0</th>\n",
       "      <td>1</td>\n",
       "      <td>﻿น่าจะมีที่ให้รีวิวรูปนะผ้าต่างกันหมดเลยไม่เหม...</td>\n",
       "    </tr>\n",
       "    <tr>\n",
       "      <th>1</th>\n",
       "      <td>1</td>\n",
       "      <td>สั่งไปตั้งแต่วันที่1ตอนนี้วันที่8แล้วยังไม่ได้...</td>\n",
       "    </tr>\n",
       "    <tr>\n",
       "      <th>2</th>\n",
       "      <td>1</td>\n",
       "      <td>ของนี่ถ้าลงเปิดตัวขนาดนี้สต็อคน่าจะเยอะนะคะ\\n</td>\n",
       "    </tr>\n",
       "    <tr>\n",
       "      <th>3</th>\n",
       "      <td>1</td>\n",
       "      <td>วันที่ ไม่เดิน แย่มาก\\n</td>\n",
       "    </tr>\n",
       "    <tr>\n",
       "      <th>4</th>\n",
       "      <td>1</td>\n",
       "      <td>ของจริงแน่หรอค่ะ\\n</td>\n",
       "    </tr>\n",
       "  </tbody>\n",
       "</table>\n",
       "</div>"
      ],
      "text/plain": [
       "   target                                               text\n",
       "0       1  ﻿น่าจะมีที่ให้รีวิวรูปนะผ้าต่างกันหมดเลยไม่เหม...\n",
       "1       1  สั่งไปตั้งแต่วันที่1ตอนนี้วันที่8แล้วยังไม่ได้...\n",
       "2       1      ของนี่ถ้าลงเปิดตัวขนาดนี้สต็อคน่าจะเยอะนะคะ\\n\n",
       "3       1                            วันที่ ไม่เดิน แย่มาก\\n\n",
       "4       1                                 ของจริงแน่หรอค่ะ\\n"
      ]
     },
     "execution_count": 3,
     "metadata": {},
     "output_type": "execute_result"
    }
   ],
   "source": [
    "#df_raw.to_csv(f'{DATA_PATH}raw.csv',index=False)\n",
    "df_raw = pd.read_csv(f'{DATA_PATH}raw.csv')\n",
    "df_raw.head()"
   ]
  },
  {
   "cell_type": "code",
   "execution_count": 4,
   "metadata": {},
   "outputs": [
    {
     "data": {
      "text/plain": [
       "((113962, 2), Counter({1: 11329, 2: 4280, 3: 10421, 4: 21066, 5: 66866}))"
      ]
     },
     "execution_count": 4,
     "metadata": {},
     "output_type": "execute_result"
    }
   ],
   "source": [
    "df_raw.shape, Counter(df_raw['target'])"
   ]
  },
  {
   "cell_type": "markdown",
   "metadata": {},
   "source": [
    "## Data Preparation"
   ]
  },
  {
   "cell_type": "markdown",
   "metadata": {},
   "source": [
    "We use the format of `(label, text)` for our train and validation csvs. We regroup the labels a little after some eyeballing since there are a lot of overlapping in meaning for the labels:\n",
    "\n",
    "* `good`: 4-5 stars\n",
    "* `neutral`: 3 star\n",
    "* `bad`: 1-2 stars\n",
    "\n",
    "We use 80/20 train-validation split."
   ]
  },
  {
   "cell_type": "code",
   "execution_count": 5,
   "metadata": {},
   "outputs": [
    {
     "data": {
      "text/html": [
       "<div>\n",
       "<style scoped>\n",
       "    .dataframe tbody tr th:only-of-type {\n",
       "        vertical-align: middle;\n",
       "    }\n",
       "\n",
       "    .dataframe tbody tr th {\n",
       "        vertical-align: top;\n",
       "    }\n",
       "\n",
       "    .dataframe thead th {\n",
       "        text-align: right;\n",
       "    }\n",
       "</style>\n",
       "<table border=\"1\" class=\"dataframe\">\n",
       "  <thead>\n",
       "    <tr style=\"text-align: right;\">\n",
       "      <th></th>\n",
       "      <th>target</th>\n",
       "      <th>text</th>\n",
       "    </tr>\n",
       "  </thead>\n",
       "  <tbody>\n",
       "    <tr>\n",
       "      <th>47096</th>\n",
       "      <td>5</td>\n",
       "      <td>﻿สินค้าใส่กล่องมีใบรับประกันเหมือนซื้อที่ร้าน ...</td>\n",
       "    </tr>\n",
       "    <tr>\n",
       "      <th>47097</th>\n",
       "      <td>5</td>\n",
       "      <td>สินค้าดีมีคุณภาพตรงตามภาพ จัดส่งรวดเร็ว\\n</td>\n",
       "    </tr>\n",
       "    <tr>\n",
       "      <th>47098</th>\n",
       "      <td>5</td>\n",
       "      <td>ดีมาก ราคาประยัด\\n</td>\n",
       "    </tr>\n",
       "    <tr>\n",
       "      <th>47099</th>\n",
       "      <td>5</td>\n",
       "      <td>ทดสอบ\\n</td>\n",
       "    </tr>\n",
       "    <tr>\n",
       "      <th>47100</th>\n",
       "      <td>5</td>\n",
       "      <td>แนะนำว่าไม่ผิดหวังอย่างแน่นอน คุ้มค่า คุ้มราคา\\n</td>\n",
       "    </tr>\n",
       "    <tr>\n",
       "      <th>47101</th>\n",
       "      <td>5</td>\n",
       "      <td>เสียงเงียบ ทำได้เยอะ ผู้เริ่มต้นใช้งานได้ง่ายม...</td>\n",
       "    </tr>\n",
       "    <tr>\n",
       "      <th>47102</th>\n",
       "      <td>5</td>\n",
       "      <td>พึ่งใช้มา 5 วัน ถือว่าคุ้มมากกกก เล่นลื่นดี ห้...</td>\n",
       "    </tr>\n",
       "    <tr>\n",
       "      <th>47103</th>\n",
       "      <td>5</td>\n",
       "      <td>ส่วนคุณภาพเรียกเยี่ยม ออกกำลังกายเฉพาะจุดได้ดี...</td>\n",
       "    </tr>\n",
       "    <tr>\n",
       "      <th>47104</th>\n",
       "      <td>5</td>\n",
       "      <td>ไม่โดน\\n</td>\n",
       "    </tr>\n",
       "    <tr>\n",
       "      <th>47105</th>\n",
       "      <td>5</td>\n",
       "      <td>ของใหม่แกะกล่องเลย สวยมากค้บ ชอบ!!!\\n</td>\n",
       "    </tr>\n",
       "  </tbody>\n",
       "</table>\n",
       "</div>"
      ],
      "text/plain": [
       "       target                                               text\n",
       "47096       5  ﻿สินค้าใส่กล่องมีใบรับประกันเหมือนซื้อที่ร้าน ...\n",
       "47097       5          สินค้าดีมีคุณภาพตรงตามภาพ จัดส่งรวดเร็ว\\n\n",
       "47098       5                                 ดีมาก ราคาประยัด\\n\n",
       "47099       5                                            ทดสอบ\\n\n",
       "47100       5   แนะนำว่าไม่ผิดหวังอย่างแน่นอน คุ้มค่า คุ้มราคา\\n\n",
       "47101       5  เสียงเงียบ ทำได้เยอะ ผู้เริ่มต้นใช้งานได้ง่ายม...\n",
       "47102       5  พึ่งใช้มา 5 วัน ถือว่าคุ้มมากกกก เล่นลื่นดี ห้...\n",
       "47103       5  ส่วนคุณภาพเรียกเยี่ยม ออกกำลังกายเฉพาะจุดได้ดี...\n",
       "47104       5                                           ไม่โดน\\n\n",
       "47105       5              ของใหม่แกะกล่องเลย สวยมากค้บ ชอบ!!!\\n"
      ]
     },
     "execution_count": 5,
     "metadata": {},
     "output_type": "execute_result"
    }
   ],
   "source": [
    "df_raw.query('target==5').head(10)"
   ]
  },
  {
   "cell_type": "code",
   "execution_count": 6,
   "metadata": {},
   "outputs": [
    {
     "data": {
      "text/html": [
       "<div>\n",
       "<style scoped>\n",
       "    .dataframe tbody tr th:only-of-type {\n",
       "        vertical-align: middle;\n",
       "    }\n",
       "\n",
       "    .dataframe tbody tr th {\n",
       "        vertical-align: top;\n",
       "    }\n",
       "\n",
       "    .dataframe thead th {\n",
       "        text-align: right;\n",
       "    }\n",
       "</style>\n",
       "<table border=\"1\" class=\"dataframe\">\n",
       "  <thead>\n",
       "    <tr style=\"text-align: right;\">\n",
       "      <th></th>\n",
       "      <th>target</th>\n",
       "      <th>text</th>\n",
       "    </tr>\n",
       "  </thead>\n",
       "  <tbody>\n",
       "    <tr>\n",
       "      <th>26030</th>\n",
       "      <td>4</td>\n",
       "      <td>﻿เครื่องกะทัดรัดเหมาะสำหรับหอหรือคอนโดที่พื้นท...</td>\n",
       "    </tr>\n",
       "    <tr>\n",
       "      <th>26031</th>\n",
       "      <td>4</td>\n",
       "      <td>ขนาดกำลังพอดี เบา\\n</td>\n",
       "    </tr>\n",
       "    <tr>\n",
       "      <th>26032</th>\n",
       "      <td>4</td>\n",
       "      <td>ใช้ได้ดี\\n</td>\n",
       "    </tr>\n",
       "    <tr>\n",
       "      <th>26033</th>\n",
       "      <td>4</td>\n",
       "      <td>ดีทุกอย่าง ใช้แล้วชอบหมด น้ำฉีดแรง มีหลายหัวให...</td>\n",
       "    </tr>\n",
       "    <tr>\n",
       "      <th>26034</th>\n",
       "      <td>4</td>\n",
       "      <td>ทำไมไม่มีเเถม ของรสน้ำผึ้งด้วย\\n</td>\n",
       "    </tr>\n",
       "    <tr>\n",
       "      <th>26035</th>\n",
       "      <td>4</td>\n",
       "      <td>สั่งหลายรอบแล้ว Good\\n</td>\n",
       "    </tr>\n",
       "    <tr>\n",
       "      <th>26036</th>\n",
       "      <td>4</td>\n",
       "      <td>&lt;a href=http://polahs.net/adderall/&gt;buy addera...</td>\n",
       "    </tr>\n",
       "    <tr>\n",
       "      <th>26037</th>\n",
       "      <td>4</td>\n",
       "      <td>ยอดเยี่ยมค่ะ ราคาเหมาะสม บอกต่อได้เลยค่ะ\\n</td>\n",
       "    </tr>\n",
       "    <tr>\n",
       "      <th>26038</th>\n",
       "      <td>4</td>\n",
       "      <td>ตอนนั้นซื้อในราคา 299 ฿ ถูกมาก ได้สินค้าที่เร็...</td>\n",
       "    </tr>\n",
       "    <tr>\n",
       "      <th>26039</th>\n",
       "      <td>4</td>\n",
       "      <td>ราคาเท่านี้หาไม่ได้เเล้ว ดีกว่ากล้องจีน\\n</td>\n",
       "    </tr>\n",
       "  </tbody>\n",
       "</table>\n",
       "</div>"
      ],
      "text/plain": [
       "       target                                               text\n",
       "26030       4  ﻿เครื่องกะทัดรัดเหมาะสำหรับหอหรือคอนโดที่พื้นท...\n",
       "26031       4                                ขนาดกำลังพอดี เบา\\n\n",
       "26032       4                                         ใช้ได้ดี\\n\n",
       "26033       4  ดีทุกอย่าง ใช้แล้วชอบหมด น้ำฉีดแรง มีหลายหัวให...\n",
       "26034       4                   ทำไมไม่มีเเถม ของรสน้ำผึ้งด้วย\\n\n",
       "26035       4                             สั่งหลายรอบแล้ว Good\\n\n",
       "26036       4  <a href=http://polahs.net/adderall/>buy addera...\n",
       "26037       4         ยอดเยี่ยมค่ะ ราคาเหมาะสม บอกต่อได้เลยค่ะ\\n\n",
       "26038       4  ตอนนั้นซื้อในราคา 299 ฿ ถูกมาก ได้สินค้าที่เร็...\n",
       "26039       4          ราคาเท่านี้หาไม่ได้เเล้ว ดีกว่ากล้องจีน\\n"
      ]
     },
     "execution_count": 6,
     "metadata": {},
     "output_type": "execute_result"
    }
   ],
   "source": [
    "df_raw.query('target==4').head(10)"
   ]
  },
  {
   "cell_type": "code",
   "execution_count": 7,
   "metadata": {},
   "outputs": [
    {
     "data": {
      "text/html": [
       "<div>\n",
       "<style scoped>\n",
       "    .dataframe tbody tr th:only-of-type {\n",
       "        vertical-align: middle;\n",
       "    }\n",
       "\n",
       "    .dataframe tbody tr th {\n",
       "        vertical-align: top;\n",
       "    }\n",
       "\n",
       "    .dataframe thead th {\n",
       "        text-align: right;\n",
       "    }\n",
       "</style>\n",
       "<table border=\"1\" class=\"dataframe\">\n",
       "  <thead>\n",
       "    <tr style=\"text-align: right;\">\n",
       "      <th></th>\n",
       "      <th>target</th>\n",
       "      <th>text</th>\n",
       "    </tr>\n",
       "  </thead>\n",
       "  <tbody>\n",
       "    <tr>\n",
       "      <th>15609</th>\n",
       "      <td>3</td>\n",
       "      <td>﻿แต่กล่องค่อนข้างเก่า แผ่นกำมะหยี่ใต้ตัวหมากรุ...</td>\n",
       "    </tr>\n",
       "    <tr>\n",
       "      <th>15610</th>\n",
       "      <td>3</td>\n",
       "      <td>ดีคับ แต่บางช่องไม่มี\\n</td>\n",
       "    </tr>\n",
       "    <tr>\n",
       "      <th>15611</th>\n",
       "      <td>3</td>\n",
       "      <td>ไม่เหมาะสำหรับคนที่ต้องการใช้แปรงแบบนุ่ม not g...</td>\n",
       "    </tr>\n",
       "    <tr>\n",
       "      <th>15612</th>\n",
       "      <td>3</td>\n",
       "      <td>กำลังสั่ง รอของมาครับ ถ้าลองใช้แล้ว งานดี งานค...</td>\n",
       "    </tr>\n",
       "    <tr>\n",
       "      <th>15613</th>\n",
       "      <td>3</td>\n",
       "      <td>ได้รับของแล้ว แต่ยังติดตั้งไม่ได้ ติดต่อกลับwi...</td>\n",
       "    </tr>\n",
       "    <tr>\n",
       "      <th>15614</th>\n",
       "      <td>3</td>\n",
       "      <td>แขวนเสื้อผ้าเยอะๆ ไม่ได้\\n</td>\n",
       "    </tr>\n",
       "    <tr>\n",
       "      <th>15615</th>\n",
       "      <td>3</td>\n",
       "      <td>พอใช้\\n</td>\n",
       "    </tr>\n",
       "    <tr>\n",
       "      <th>15616</th>\n",
       "      <td>3</td>\n",
       "      <td>คุ้มค่ากับคุณภาพที่ได้ แนะนำให้ใช้\\n</td>\n",
       "    </tr>\n",
       "    <tr>\n",
       "      <th>15617</th>\n",
       "      <td>3</td>\n",
       "      <td>ส่งของช้ากว่ากำหนด เปิดกล่องมา แบตหมดเกลี้ยง ซ...</td>\n",
       "    </tr>\n",
       "    <tr>\n",
       "      <th>15618</th>\n",
       "      <td>3</td>\n",
       "      <td>ไม่พอใจในสินค้าชิ้นเลยครับ\\n</td>\n",
       "    </tr>\n",
       "  </tbody>\n",
       "</table>\n",
       "</div>"
      ],
      "text/plain": [
       "       target                                               text\n",
       "15609       3  ﻿แต่กล่องค่อนข้างเก่า แผ่นกำมะหยี่ใต้ตัวหมากรุ...\n",
       "15610       3                            ดีคับ แต่บางช่องไม่มี\\n\n",
       "15611       3  ไม่เหมาะสำหรับคนที่ต้องการใช้แปรงแบบนุ่ม not g...\n",
       "15612       3  กำลังสั่ง รอของมาครับ ถ้าลองใช้แล้ว งานดี งานค...\n",
       "15613       3  ได้รับของแล้ว แต่ยังติดตั้งไม่ได้ ติดต่อกลับwi...\n",
       "15614       3                         แขวนเสื้อผ้าเยอะๆ ไม่ได้\\n\n",
       "15615       3                                            พอใช้\\n\n",
       "15616       3               คุ้มค่ากับคุณภาพที่ได้ แนะนำให้ใช้\\n\n",
       "15617       3  ส่งของช้ากว่ากำหนด เปิดกล่องมา แบตหมดเกลี้ยง ซ...\n",
       "15618       3                       ไม่พอใจในสินค้าชิ้นเลยครับ\\n"
      ]
     },
     "execution_count": 7,
     "metadata": {},
     "output_type": "execute_result"
    }
   ],
   "source": [
    "df_raw.query('target==3').head(10)"
   ]
  },
  {
   "cell_type": "code",
   "execution_count": 8,
   "metadata": {},
   "outputs": [
    {
     "data": {
      "text/html": [
       "<div>\n",
       "<style scoped>\n",
       "    .dataframe tbody tr th:only-of-type {\n",
       "        vertical-align: middle;\n",
       "    }\n",
       "\n",
       "    .dataframe tbody tr th {\n",
       "        vertical-align: top;\n",
       "    }\n",
       "\n",
       "    .dataframe thead th {\n",
       "        text-align: right;\n",
       "    }\n",
       "</style>\n",
       "<table border=\"1\" class=\"dataframe\">\n",
       "  <thead>\n",
       "    <tr style=\"text-align: right;\">\n",
       "      <th></th>\n",
       "      <th>target</th>\n",
       "      <th>text</th>\n",
       "    </tr>\n",
       "  </thead>\n",
       "  <tbody>\n",
       "    <tr>\n",
       "      <th>11329</th>\n",
       "      <td>2</td>\n",
       "      <td>﻿ทำความสะอาดพอใช้ได้ หัวฉีดสเปรย์พังเร็วมาก\\n</td>\n",
       "    </tr>\n",
       "    <tr>\n",
       "      <th>11330</th>\n",
       "      <td>2</td>\n",
       "      <td>สายลายทหารไม่เห็นมี สายรัดข้อมือใส่ยากควรจะพัฒ...</td>\n",
       "    </tr>\n",
       "    <tr>\n",
       "      <th>11331</th>\n",
       "      <td>2</td>\n",
       "      <td>อยากรู้ว่าผ่อนต้องทำไง\\n</td>\n",
       "    </tr>\n",
       "    <tr>\n",
       "      <th>11332</th>\n",
       "      <td>2</td>\n",
       "      <td>ส่งอุปกรณ์ให้ไม่ครบประกอบใช้งานจริงได้แค่ 3 ชั...</td>\n",
       "    </tr>\n",
       "    <tr>\n",
       "      <th>11333</th>\n",
       "      <td>2</td>\n",
       "      <td>No feel good.\\n</td>\n",
       "    </tr>\n",
       "    <tr>\n",
       "      <th>11334</th>\n",
       "      <td>2</td>\n",
       "      <td>ผมซื้ออีกเวปนึง3อัน100 พอผ้าไหม้หมด โยนทิ้ง สร...</td>\n",
       "    </tr>\n",
       "    <tr>\n",
       "      <th>11335</th>\n",
       "      <td>2</td>\n",
       "      <td>ด้วยราคาแสนถูก ก็เอามาใส่เล่นๆแล้วกัน โทรเข้า-...</td>\n",
       "    </tr>\n",
       "    <tr>\n",
       "      <th>11336</th>\n",
       "      <td>2</td>\n",
       "      <td>ไม่โอเคอ่ะ ขนาดเล็กกว่า ส่วนโลหะของกระเป๋าทั้ง...</td>\n",
       "    </tr>\n",
       "    <tr>\n",
       "      <th>11337</th>\n",
       "      <td>2</td>\n",
       "      <td>ของเเท้ไม่ครับ\\n</td>\n",
       "    </tr>\n",
       "    <tr>\n",
       "      <th>11338</th>\n",
       "      <td>2</td>\n",
       "      <td>นมใกล้หมดอายุ 5/61 \\n</td>\n",
       "    </tr>\n",
       "  </tbody>\n",
       "</table>\n",
       "</div>"
      ],
      "text/plain": [
       "       target                                               text\n",
       "11329       2      ﻿ทำความสะอาดพอใช้ได้ หัวฉีดสเปรย์พังเร็วมาก\\n\n",
       "11330       2  สายลายทหารไม่เห็นมี สายรัดข้อมือใส่ยากควรจะพัฒ...\n",
       "11331       2                           อยากรู้ว่าผ่อนต้องทำไง\\n\n",
       "11332       2  ส่งอุปกรณ์ให้ไม่ครบประกอบใช้งานจริงได้แค่ 3 ชั...\n",
       "11333       2                                    No feel good.\\n\n",
       "11334       2  ผมซื้ออีกเวปนึง3อัน100 พอผ้าไหม้หมด โยนทิ้ง สร...\n",
       "11335       2  ด้วยราคาแสนถูก ก็เอามาใส่เล่นๆแล้วกัน โทรเข้า-...\n",
       "11336       2  ไม่โอเคอ่ะ ขนาดเล็กกว่า ส่วนโลหะของกระเป๋าทั้ง...\n",
       "11337       2                                   ของเเท้ไม่ครับ\\n\n",
       "11338       2                              นมใกล้หมดอายุ 5/61 \\n"
      ]
     },
     "execution_count": 8,
     "metadata": {},
     "output_type": "execute_result"
    }
   ],
   "source": [
    "df_raw.query('target==2').head(10)"
   ]
  },
  {
   "cell_type": "code",
   "execution_count": 9,
   "metadata": {},
   "outputs": [
    {
     "data": {
      "text/html": [
       "<div>\n",
       "<style scoped>\n",
       "    .dataframe tbody tr th:only-of-type {\n",
       "        vertical-align: middle;\n",
       "    }\n",
       "\n",
       "    .dataframe tbody tr th {\n",
       "        vertical-align: top;\n",
       "    }\n",
       "\n",
       "    .dataframe thead th {\n",
       "        text-align: right;\n",
       "    }\n",
       "</style>\n",
       "<table border=\"1\" class=\"dataframe\">\n",
       "  <thead>\n",
       "    <tr style=\"text-align: right;\">\n",
       "      <th></th>\n",
       "      <th>target</th>\n",
       "      <th>text</th>\n",
       "    </tr>\n",
       "  </thead>\n",
       "  <tbody>\n",
       "    <tr>\n",
       "      <th>0</th>\n",
       "      <td>1</td>\n",
       "      <td>﻿น่าจะมีที่ให้รีวิวรูปนะผ้าต่างกันหมดเลยไม่เหม...</td>\n",
       "    </tr>\n",
       "    <tr>\n",
       "      <th>1</th>\n",
       "      <td>1</td>\n",
       "      <td>สั่งไปตั้งแต่วันที่1ตอนนี้วันที่8แล้วยังไม่ได้...</td>\n",
       "    </tr>\n",
       "    <tr>\n",
       "      <th>2</th>\n",
       "      <td>1</td>\n",
       "      <td>ของนี่ถ้าลงเปิดตัวขนาดนี้สต็อคน่าจะเยอะนะคะ\\n</td>\n",
       "    </tr>\n",
       "    <tr>\n",
       "      <th>3</th>\n",
       "      <td>1</td>\n",
       "      <td>วันที่ ไม่เดิน แย่มาก\\n</td>\n",
       "    </tr>\n",
       "    <tr>\n",
       "      <th>4</th>\n",
       "      <td>1</td>\n",
       "      <td>ของจริงแน่หรอค่ะ\\n</td>\n",
       "    </tr>\n",
       "    <tr>\n",
       "      <th>5</th>\n",
       "      <td>1</td>\n",
       "      <td>เกลียด ชอบหลอกให้สั่งซื้อ ที่ไหนได้ไม่มีสิ้นค้า\\n</td>\n",
       "    </tr>\n",
       "    <tr>\n",
       "      <th>6</th>\n",
       "      <td>1</td>\n",
       "      <td>Samsung A7 2017\\n</td>\n",
       "    </tr>\n",
       "    <tr>\n",
       "      <th>7</th>\n",
       "      <td>1</td>\n",
       "      <td>คงต้องลองใช้สักพักดูก่อนนะครับ ดาวยังไม่ให้นะค...</td>\n",
       "    </tr>\n",
       "    <tr>\n",
       "      <th>8</th>\n",
       "      <td>1</td>\n",
       "      <td>ที่จุดเกส ใช่ ได้ หัวเดียว  ไม่ผ่าน\\n</td>\n",
       "    </tr>\n",
       "    <tr>\n",
       "      <th>9</th>\n",
       "      <td>1</td>\n",
       "      <td>สิ้นค้าใช้ได้ แต่ไม่ปลื้มคอลเซนเตอร์เลยโทรไปสอ...</td>\n",
       "    </tr>\n",
       "  </tbody>\n",
       "</table>\n",
       "</div>"
      ],
      "text/plain": [
       "   target                                               text\n",
       "0       1  ﻿น่าจะมีที่ให้รีวิวรูปนะผ้าต่างกันหมดเลยไม่เหม...\n",
       "1       1  สั่งไปตั้งแต่วันที่1ตอนนี้วันที่8แล้วยังไม่ได้...\n",
       "2       1      ของนี่ถ้าลงเปิดตัวขนาดนี้สต็อคน่าจะเยอะนะคะ\\n\n",
       "3       1                            วันที่ ไม่เดิน แย่มาก\\n\n",
       "4       1                                 ของจริงแน่หรอค่ะ\\n\n",
       "5       1  เกลียด ชอบหลอกให้สั่งซื้อ ที่ไหนได้ไม่มีสิ้นค้า\\n\n",
       "6       1                                  Samsung A7 2017\\n\n",
       "7       1  คงต้องลองใช้สักพักดูก่อนนะครับ ดาวยังไม่ให้นะค...\n",
       "8       1              ที่จุดเกส ใช่ ได้ หัวเดียว  ไม่ผ่าน\\n\n",
       "9       1  สิ้นค้าใช้ได้ แต่ไม่ปลื้มคอลเซนเตอร์เลยโทรไปสอ..."
      ]
     },
     "execution_count": 9,
     "metadata": {},
     "output_type": "execute_result"
    }
   ],
   "source": [
    "df_raw.query('target==1').head(10)"
   ]
  },
  {
   "cell_type": "code",
   "execution_count": 10,
   "metadata": {},
   "outputs": [
    {
     "data": {
      "text/html": [
       "<div>\n",
       "<style scoped>\n",
       "    .dataframe tbody tr th:only-of-type {\n",
       "        vertical-align: middle;\n",
       "    }\n",
       "\n",
       "    .dataframe tbody tr th {\n",
       "        vertical-align: top;\n",
       "    }\n",
       "\n",
       "    .dataframe thead th {\n",
       "        text-align: right;\n",
       "    }\n",
       "</style>\n",
       "<table border=\"1\" class=\"dataframe\">\n",
       "  <thead>\n",
       "    <tr style=\"text-align: right;\">\n",
       "      <th></th>\n",
       "      <th>target</th>\n",
       "      <th>text</th>\n",
       "    </tr>\n",
       "  </thead>\n",
       "  <tbody>\n",
       "    <tr>\n",
       "      <th>0</th>\n",
       "      <td>0</td>\n",
       "      <td>﻿น่าจะมีที่ให้รีวิวรูปนะผ้าต่างกันหมดเลยไม่เหม...</td>\n",
       "    </tr>\n",
       "    <tr>\n",
       "      <th>1</th>\n",
       "      <td>0</td>\n",
       "      <td>สั่งไปตั้งแต่วันที่1ตอนนี้วันที่8แล้วยังไม่ได้...</td>\n",
       "    </tr>\n",
       "    <tr>\n",
       "      <th>2</th>\n",
       "      <td>0</td>\n",
       "      <td>ของนี่ถ้าลงเปิดตัวขนาดนี้สต็อคน่าจะเยอะนะคะ\\n</td>\n",
       "    </tr>\n",
       "    <tr>\n",
       "      <th>3</th>\n",
       "      <td>0</td>\n",
       "      <td>วันที่ ไม่เดิน แย่มาก\\n</td>\n",
       "    </tr>\n",
       "    <tr>\n",
       "      <th>4</th>\n",
       "      <td>0</td>\n",
       "      <td>ของจริงแน่หรอค่ะ\\n</td>\n",
       "    </tr>\n",
       "  </tbody>\n",
       "</table>\n",
       "</div>"
      ],
      "text/plain": [
       "   target                                               text\n",
       "0       0  ﻿น่าจะมีที่ให้รีวิวรูปนะผ้าต่างกันหมดเลยไม่เหม...\n",
       "1       0  สั่งไปตั้งแต่วันที่1ตอนนี้วันที่8แล้วยังไม่ได้...\n",
       "2       0      ของนี่ถ้าลงเปิดตัวขนาดนี้สต็อคน่าจะเยอะนะคะ\\n\n",
       "3       0                            วันที่ ไม่เดิน แย่มาก\\n\n",
       "4       0                                 ของจริงแน่หรอค่ะ\\n"
      ]
     },
     "execution_count": 10,
     "metadata": {},
     "output_type": "execute_result"
    }
   ],
   "source": [
    "def star_to_rating(star):\n",
    "    if star > 3:\n",
    "        rating = 2\n",
    "    elif star < 3:\n",
    "        rating = 0\n",
    "    else:\n",
    "        rating = 1\n",
    "    return(rating)\n",
    "\n",
    "df_raw.iloc[:,0] = df_raw.iloc[:,0].apply(star_to_rating)\n",
    "df_raw.head()"
   ]
  },
  {
   "cell_type": "code",
   "execution_count": 11,
   "metadata": {},
   "outputs": [
    {
     "data": {
      "text/plain": [
       "Counter({0: 15609, 1: 10421, 2: 87932})"
      ]
     },
     "execution_count": 11,
     "metadata": {},
     "output_type": "execute_result"
    }
   ],
   "source": [
    "Counter(df_raw['target'])"
   ]
  },
  {
   "cell_type": "code",
   "execution_count": 12,
   "metadata": {},
   "outputs": [],
   "source": [
    "# #train/validation split\n",
    "# df_trn, df_val = train_test_split(df_raw, test_size = 0.2, random_state=1412)\n",
    "\n",
    "# df_trn.to_csv(f'{DATA_PATH}train.csv', index=False)\n",
    "# df_val.to_csv(f'{DATA_PATH}valid.csv', index=False)"
   ]
  },
  {
   "cell_type": "code",
   "execution_count": 13,
   "metadata": {},
   "outputs": [],
   "source": [
    "df_trn = pd.read_csv(f'{DATA_PATH}train.csv')\n",
    "df_val = pd.read_csv(f'{DATA_PATH}valid.csv')"
   ]
  },
  {
   "cell_type": "code",
   "execution_count": 14,
   "metadata": {},
   "outputs": [
    {
     "data": {
      "text/plain": [
       "((91169, 2), (22793, 2))"
      ]
     },
     "execution_count": 14,
     "metadata": {},
     "output_type": "execute_result"
    }
   ],
   "source": [
    "df_trn.shape, df_val.shape"
   ]
  },
  {
   "cell_type": "code",
   "execution_count": 15,
   "metadata": {},
   "outputs": [
    {
     "data": {
      "text/html": [
       "<div>\n",
       "<style scoped>\n",
       "    .dataframe tbody tr th:only-of-type {\n",
       "        vertical-align: middle;\n",
       "    }\n",
       "\n",
       "    .dataframe tbody tr th {\n",
       "        vertical-align: top;\n",
       "    }\n",
       "\n",
       "    .dataframe thead th {\n",
       "        text-align: right;\n",
       "    }\n",
       "</style>\n",
       "<table border=\"1\" class=\"dataframe\">\n",
       "  <thead>\n",
       "    <tr style=\"text-align: right;\">\n",
       "      <th></th>\n",
       "      <th>target</th>\n",
       "      <th>text</th>\n",
       "    </tr>\n",
       "  </thead>\n",
       "  <tbody>\n",
       "    <tr>\n",
       "      <th>0</th>\n",
       "      <td>2</td>\n",
       "      <td>ใช้ดีค่ะ\\n</td>\n",
       "    </tr>\n",
       "    <tr>\n",
       "      <th>1</th>\n",
       "      <td>2</td>\n",
       "      <td>ใช้ดีมากค่ะ ไม่เหนอะหนะผิว ซึมไวมาก ใช้ตอนกลาง...</td>\n",
       "    </tr>\n",
       "    <tr>\n",
       "      <th>2</th>\n",
       "      <td>2</td>\n",
       "      <td>แพ็คของดี เรียบร้อย สวยงาม ส่งไว\\n</td>\n",
       "    </tr>\n",
       "    <tr>\n",
       "      <th>3</th>\n",
       "      <td>2</td>\n",
       "      <td>รุ่นนี้คงเอาอยู่นะ\\n</td>\n",
       "    </tr>\n",
       "    <tr>\n",
       "      <th>4</th>\n",
       "      <td>2</td>\n",
       "      <td>สินค้าคุณภาพดี\\n</td>\n",
       "    </tr>\n",
       "  </tbody>\n",
       "</table>\n",
       "</div>"
      ],
      "text/plain": [
       "   target                                               text\n",
       "0       2                                         ใช้ดีค่ะ\\n\n",
       "1       2  ใช้ดีมากค่ะ ไม่เหนอะหนะผิว ซึมไวมาก ใช้ตอนกลาง...\n",
       "2       2                 แพ็คของดี เรียบร้อย สวยงาม ส่งไว\\n\n",
       "3       2                               รุ่นนี้คงเอาอยู่นะ\\n\n",
       "4       2                                   สินค้าคุณภาพดี\\n"
      ]
     },
     "execution_count": 15,
     "metadata": {},
     "output_type": "execute_result"
    }
   ],
   "source": [
    "df_trn.head()"
   ]
  },
  {
   "cell_type": "markdown",
   "metadata": {},
   "source": [
    "## Language Modeling"
   ]
  },
  {
   "cell_type": "markdown",
   "metadata": {},
   "source": [
    "### Text Processing"
   ]
  },
  {
   "cell_type": "markdown",
   "metadata": {},
   "source": [
    "We first determine the vocab for the reviews, then train a language model based on our training set. We perform the following minimal text processing:\n",
    "* The token `xbos` is used to note start of a text since we will be chaining them together for the language model training. \n",
    "* `pyThaiNLP`'s `newmm` word tokenizer is used to tokenize the texts.\n",
    "* `tkrep` is used to replace repetitive characters such as `อร่อยมากกกกกก` becoming `อรอ่ยมาtkrep6ก`"
   ]
  },
  {
   "cell_type": "code",
   "execution_count": 16,
   "metadata": {},
   "outputs": [],
   "source": [
    "max_vocab = 60000\n",
    "min_freq = 2\n",
    "\n",
    "df_trn = pd.read_csv(f'{DATA_PATH}train.csv',chunksize=30000)\n",
    "df_val = pd.read_csv(f'{DATA_PATH}valid.csv',chunksize=30000)\n",
    "\n",
    "trn_lm,trn_tok,trn_labels,itos_cls,stoi_cls,freq = numericalizer(df_trn)\n",
    "val_lm,val_tok,val_labels,itos_cls,stoi_cls,freq = numericalizer(df_val)"
   ]
  },
  {
   "cell_type": "code",
   "execution_count": 17,
   "metadata": {},
   "outputs": [],
   "source": [
    "# np.save(f'{MODEL_PATH}trn_tok.npy', trn_tok)\n",
    "# np.save(f'{MODEL_PATH}val_tok.npy', val_tok)\n",
    "# np.save(f'{MODEL_PATH}trn_lm.npy', trn_lm)\n",
    "# np.save(f'{MODEL_PATH}val_lm.npy', val_lm)\n",
    "# pickle.dump(itos_cls, open(f'{MODEL_PATH}itos_cls.pkl', 'wb'))"
   ]
  },
  {
   "cell_type": "code",
   "execution_count": 18,
   "metadata": {},
   "outputs": [],
   "source": [
    "trn_lm = np.load(f'{MODEL_PATH}trn_lm.npy')\n",
    "val_lm = np.load(f'{MODEL_PATH}val_lm.npy')\n",
    "itos_cls = pickle.load(open(f'{MODEL_PATH}itos_cls.pkl', 'rb'))\n",
    "vocab_size=len(itos_cls)"
   ]
  },
  {
   "cell_type": "code",
   "execution_count": 19,
   "metadata": {},
   "outputs": [
    {
     "data": {
      "text/plain": [
       "((91169,), (22793,), 10862)"
      ]
     },
     "execution_count": 19,
     "metadata": {},
     "output_type": "execute_result"
    }
   ],
   "source": [
    "trn_lm.shape,val_lm.shape,vocab_size"
   ]
  },
  {
   "cell_type": "code",
   "execution_count": 20,
   "metadata": {},
   "outputs": [
    {
     "data": {
      "text/plain": [
       "array([list([3, 13, 4, 5]),\n",
       "       list([3, 13, 27, 5, 2, 8, 907, 172, 2, 607, 41, 6, 2, 13, 1042, 1012, 383, 15, 172, 143, 6, 21, 5, 2, 550, 26, 81, 50, 19, 22, 1279, 493, 59, 394, 2, 385, 481, 15, 262, 285, 53, 5])],\n",
       "      dtype=object)"
      ]
     },
     "execution_count": 20,
     "metadata": {},
     "output_type": "execute_result"
    }
   ],
   "source": [
    "trn_lm[:2]"
   ]
  },
  {
   "cell_type": "markdown",
   "metadata": {},
   "source": [
    "### Load Pretrained Language Model"
   ]
  },
  {
   "cell_type": "markdown",
   "metadata": {},
   "source": [
    "Instead of starting from random weights, we import the language model pretrained on Wikipedia (see `pretrained_wiki.ipynb`). For words that appear only in the Wongnai dataset but not Wikipedia, we start with the average of all embeddings instead. Max vocab size is set at 60,000 and minimum frequency of 2 consistent with the pretrained model. We ended up with 19,998 embeddings for all reviews."
   ]
  },
  {
   "cell_type": "code",
   "execution_count": 21,
   "metadata": {},
   "outputs": [],
   "source": [
    "em_sz = 300\n",
    "vocab_size = len(itos_cls)\n",
    "wgts = torch.load(f'{MODEL_PATH}thwiki_model2.h5', map_location=lambda storage, loc: storage)\n",
    "itos_pre = pickle.load(open(f'{MODEL_PATH}itos_pre.pkl','rb'))\n",
    "stoi_pre = collections.defaultdict(lambda:-1, {v:k for k,v in enumerate(itos_pre)})"
   ]
  },
  {
   "cell_type": "code",
   "execution_count": 22,
   "metadata": {},
   "outputs": [],
   "source": [
    "#pretrained weights\n",
    "wgts = pretrained_wgts(em_sz, wgts, itos_pre, itos_cls)"
   ]
  },
  {
   "cell_type": "markdown",
   "metadata": {},
   "source": [
    "### Train Language Model"
   ]
  },
  {
   "cell_type": "code",
   "execution_count": 23,
   "metadata": {},
   "outputs": [],
   "source": [
    "#model parameters\n",
    "em_sz,nh,nl = 300,1150,3\n",
    "wd=1e-7\n",
    "bptt=70\n",
    "bs=64\n",
    "opt_fn = partial(optim.Adam, betas=(0.8, 0.99))\n",
    "weight_factor = 0.7\n",
    "drops = np.array([0.25, 0.1, 0.2, 0.02, 0.15])*weight_factor"
   ]
  },
  {
   "cell_type": "code",
   "execution_count": 24,
   "metadata": {},
   "outputs": [],
   "source": [
    "#data loader\n",
    "trn_dl = LanguageModelLoader(np.concatenate(trn_lm), bs, bptt)\n",
    "val_dl = LanguageModelLoader(np.concatenate(val_lm), bs, bptt)\n",
    "md = LanguageModelData(path=DATA_PATH, pad_idx=1, n_tok=vocab_size, \n",
    "                       trn_dl=trn_dl, val_dl=val_dl, bs=bs, bptt=bptt)"
   ]
  },
  {
   "cell_type": "code",
   "execution_count": 25,
   "metadata": {},
   "outputs": [],
   "source": [
    "#model fitter\n",
    "learner= md.get_model(opt_fn, em_sz, nh, nl, \n",
    "    dropouti=drops[0], dropout=drops[1], wdrop=drops[2], dropoute=drops[3], dropouth=drops[4])\n",
    "learner.metrics = [accuracy]"
   ]
  },
  {
   "cell_type": "code",
   "execution_count": 26,
   "metadata": {},
   "outputs": [],
   "source": [
    "#load the saved models + new embeddings\n",
    "learner.model.load_state_dict(wgts)"
   ]
  },
  {
   "cell_type": "code",
   "execution_count": 119,
   "metadata": {},
   "outputs": [
    {
     "data": {
      "application/vnd.jupyter.widget-view+json": {
       "model_id": "6dc63c04debf4636abeb3640f6dfb0bd",
       "version_major": 2,
       "version_minor": 0
      },
      "text/plain": [
       "HBox(children=(IntProgress(value=0, description='Epoch', max=1), HTML(value='')))"
      ]
     },
     "metadata": {},
     "output_type": "display_data"
    },
    {
     "name": "stdout",
     "output_type": "stream",
     "text": [
      "  1%|▏         | 5/378 [00:03<03:50,  1.62it/s, loss=6.25]\n",
      " 26%|██▋       | 100/378 [00:57<02:38,  1.75it/s, loss=5.81]"
     ]
    },
    {
     "data": {
      "image/png": "[encoded data removed]",
      "text/plain": [
       "<Figure size 432x864 with 3 Axes>"
      ]
     },
     "metadata": {},
     "output_type": "display_data"
    }
   ],
   "source": [
    "#find optimal learning rate\n",
    "learner.lr_find2(start_lr = 1e-6, end_lr=0.1)\n",
    "learner.sched.plot()"
   ]
  },
  {
   "cell_type": "code",
   "execution_count": 35,
   "metadata": {},
   "outputs": [
    {
     "data": {
      "text/plain": [
       "0.003"
      ]
     },
     "execution_count": 35,
     "metadata": {},
     "output_type": "execute_result"
    }
   ],
   "source": [
    "lr=0.03/10\n",
    "lr"
   ]
  },
  {
   "cell_type": "code",
   "execution_count": 122,
   "metadata": {},
   "outputs": [
    {
     "data": {
      "application/vnd.jupyter.widget-view+json": {
       "model_id": "f3bc18bb5481413fb5b9d1f4e6540657",
       "version_major": 2,
       "version_minor": 0
      },
      "text/plain": [
       "HBox(children=(IntProgress(value=0, description='Epoch', max=1), HTML(value='')))"
      ]
     },
     "metadata": {},
     "output_type": "display_data"
    },
    {
     "name": "stdout",
     "output_type": "stream",
     "text": [
      "  0%|          | 1/378 [00:00<04:01,  1.56it/s, loss=6.3]\n",
      "epoch      trn_loss   val_loss   accuracy   \n",
      "    0      4.153442   3.948536   0.286036  \n",
      "\n"
     ]
    },
    {
     "data": {
      "text/plain": [
       "[array([3.94854]), 0.28603612556150537]"
      ]
     },
     "execution_count": 122,
     "metadata": {},
     "output_type": "execute_result"
    }
   ],
   "source": [
    "#train to warmup\n",
    "learner.fit(lr, 1, wds=wd, use_clr=(10,3), cycle_len=1)"
   ]
  },
  {
   "cell_type": "code",
   "execution_count": 123,
   "metadata": {},
   "outputs": [
    {
     "data": {
      "application/vnd.jupyter.widget-view+json": {
       "model_id": "49dcc350fc1b4c78b9b5c149ede21a37",
       "version_major": 2,
       "version_minor": 0
      },
      "text/plain": [
       "HBox(children=(IntProgress(value=0, description='Epoch', max=10), HTML(value='')))"
      ]
     },
     "metadata": {},
     "output_type": "display_data"
    },
    {
     "name": "stdout",
     "output_type": "stream",
     "text": [
      "epoch      trn_loss   val_loss   accuracy   \n",
      "    0      4.028019   3.881032   0.288224  \n",
      "    1      3.857194   3.782694   0.29687   \n",
      "    2      3.716377   3.741782   0.301279  \n",
      "    3      3.616535   3.711578   0.304254  \n",
      "    4      3.525272   3.695269   0.306684  \n",
      "    5      3.450997   3.683582   0.308133  \n",
      "    6      3.390288   3.677789   0.309542  \n",
      "    7      3.318893   3.684881   0.310124  \n",
      "    8      3.272255   3.685835   0.31061   \n",
      "    9      3.223912   3.690464   0.311039  \n",
      "\n"
     ]
    },
    {
     "data": {
      "text/plain": [
       "[array([3.69046]), 0.31103937654446545]"
      ]
     },
     "execution_count": 123,
     "metadata": {},
     "output_type": "execute_result"
    }
   ],
   "source": [
    "#use_clr (peak as ratio of lr, iterations to grow and descend e.g. 10 is 1/10 grow and 9/10 descend)\n",
    "learner.unfreeze()\n",
    "learner.fit(lr, 1, wds=wd, use_clr=(8,10), cycle_len=10)"
   ]
  },
  {
   "cell_type": "code",
   "execution_count": 124,
   "metadata": {},
   "outputs": [
    {
     "data": {
      "image/png": "[encoded data removed]",
      "text/plain": [
       "<Figure size 432x288 with 1 Axes>"
      ]
     },
     "metadata": {},
     "output_type": "display_data"
    }
   ],
   "source": [
    "learner.sched.plot_loss()"
   ]
  },
  {
   "cell_type": "code",
   "execution_count": 125,
   "metadata": {},
   "outputs": [],
   "source": [
    "learner.save('ec_lm')\n",
    "learner.save_encoder('ec_enc')"
   ]
  },
  {
   "cell_type": "markdown",
   "metadata": {},
   "source": [
    "## Text Feature Extraction"
   ]
  },
  {
   "cell_type": "markdown",
   "metadata": {},
   "source": [
    "Note that we are converting text to vectors without teaching the model any label. Thus, similar sentence structures describing negative and positive sentiments will have \"similar\" vectors, as opposed to two different sentence structures describing the same sentiment."
   ]
  },
  {
   "cell_type": "code",
   "execution_count": 231,
   "metadata": {},
   "outputs": [
    {
     "data": {
      "text/plain": [
       "((300,),\n",
       " array([ 0.17238, -0.15722,  0.11952,  0.04186, -0.02267,  0.1325 , -0.10043, -0.0065 , -0.09647,  0.01713],\n",
       "       dtype=float32))"
      ]
     },
     "execution_count": 231,
     "metadata": {},
     "output_type": "execute_result"
    }
   ],
   "source": [
    "from utils import *\n",
    "#load, adjust batch size and set model to eval mode\n",
    "learner.load('ec_lm')\n",
    "m = learner.model\n",
    "m[0].bs=1\n",
    "m.eval()\n",
    "\n",
    "#sample sentence\n",
    "ss = 'สวัสดีครับพี่น้องเสื้อ'\n",
    "v = document_vector(ss,m,stoi_cls)\n",
    "v.shape,v[:10]"
   ]
  },
  {
   "cell_type": "code",
   "execution_count": 242,
   "metadata": {},
   "outputs": [
    {
     "name": "stdout",
     "output_type": "stream",
     "text": [
      "Same structure; different sentiments:  0.75125444\n",
      "Different structures; same sentiment:  0.08146612\n",
      "Same structure; same sentiment:  0.6695422\n",
      "Different structures; different sentiments:  0.052667953\n"
     ]
    }
   ],
   "source": [
    "from numpy import dot\n",
    "from numpy.linalg import norm\n",
    "\n",
    "def cosine_sim(a,b):\n",
    "    return(dot(a, b)/(norm(a)*norm(b)))\n",
    "\n",
    "v1 = document_vector('สินค้าดีมาก',m,stoi_cls)\n",
    "v2 = document_vector('สินค้าแย่มาก',m,stoi_cls)\n",
    "v3 = document_vector('ใช้ดีมากมาย',m,stoi_cls)\n",
    "v4 = document_vector('สินค้าใช้ดี',m,stoi_cls)\n",
    "\n",
    "print('Same structure; different sentiments: ',cosine_sim(v1,v2))\n",
    "print('Different structures; same sentiment: ',cosine_sim(v1,v3))\n",
    "print('Same structure; same sentiment: ',cosine_sim(v1,v4))\n",
    "print('Different structures; different sentiments: ',cosine_sim(v3,v2))"
   ]
  },
  {
   "cell_type": "markdown",
   "metadata": {},
   "source": [
    "## Clustering"
   ]
  },
  {
   "cell_type": "markdown",
   "metadata": {},
   "source": [
    "In cases where we do not know any labels to our data and want to group them solely on their semantic meanings, we can use the features extracted to perform clustering algorithms such as K-means. "
   ]
  },
  {
   "cell_type": "code",
   "execution_count": 172,
   "metadata": {},
   "outputs": [
    {
     "data": {
      "text/plain": [
       "Counter({2: 17587, 0: 3151, 1: 2055})"
      ]
     },
     "execution_count": 172,
     "metadata": {},
     "output_type": "execute_result"
    }
   ],
   "source": [
    "df_val = pd.read_csv(f'{DATA_PATH}valid.csv')\n",
    "Counter(df_val['target'])"
   ]
  },
  {
   "cell_type": "code",
   "execution_count": 173,
   "metadata": {},
   "outputs": [],
   "source": [
    "#get all vectors from validation texts\n",
    "vec_val = []\n",
    "for i in range(df_val.shape[0]):\n",
    "    vec_val.append(document_vector(df_val.iloc[i,1],m,stoi_cls).reshape(1,-1))"
   ]
  },
  {
   "cell_type": "code",
   "execution_count": 176,
   "metadata": {},
   "outputs": [
    {
     "data": {
      "text/html": [
       "<div>\n",
       "<style scoped>\n",
       "    .dataframe tbody tr th:only-of-type {\n",
       "        vertical-align: middle;\n",
       "    }\n",
       "\n",
       "    .dataframe tbody tr th {\n",
       "        vertical-align: top;\n",
       "    }\n",
       "\n",
       "    .dataframe thead th {\n",
       "        text-align: right;\n",
       "    }\n",
       "</style>\n",
       "<table border=\"1\" class=\"dataframe\">\n",
       "  <thead>\n",
       "    <tr style=\"text-align: right;\">\n",
       "      <th></th>\n",
       "      <th>0</th>\n",
       "      <th>1</th>\n",
       "      <th>2</th>\n",
       "      <th>3</th>\n",
       "      <th>4</th>\n",
       "      <th>5</th>\n",
       "      <th>6</th>\n",
       "      <th>7</th>\n",
       "      <th>8</th>\n",
       "      <th>9</th>\n",
       "      <th>...</th>\n",
       "      <th>290</th>\n",
       "      <th>291</th>\n",
       "      <th>292</th>\n",
       "      <th>293</th>\n",
       "      <th>294</th>\n",
       "      <th>295</th>\n",
       "      <th>296</th>\n",
       "      <th>297</th>\n",
       "      <th>298</th>\n",
       "      <th>299</th>\n",
       "    </tr>\n",
       "  </thead>\n",
       "  <tbody>\n",
       "    <tr>\n",
       "      <th>0</th>\n",
       "      <td>-0.046731</td>\n",
       "      <td>-0.197447</td>\n",
       "      <td>-0.424650</td>\n",
       "      <td>0.028547</td>\n",
       "      <td>-0.037529</td>\n",
       "      <td>0.003348</td>\n",
       "      <td>0.015726</td>\n",
       "      <td>0.186771</td>\n",
       "      <td>0.072046</td>\n",
       "      <td>-0.074422</td>\n",
       "      <td>...</td>\n",
       "      <td>0.126439</td>\n",
       "      <td>-0.322560</td>\n",
       "      <td>-0.018412</td>\n",
       "      <td>0.197850</td>\n",
       "      <td>0.290965</td>\n",
       "      <td>-0.131281</td>\n",
       "      <td>-0.020462</td>\n",
       "      <td>0.160918</td>\n",
       "      <td>0.000428</td>\n",
       "      <td>-0.093532</td>\n",
       "    </tr>\n",
       "    <tr>\n",
       "      <th>1</th>\n",
       "      <td>0.240934</td>\n",
       "      <td>-0.085974</td>\n",
       "      <td>-0.297231</td>\n",
       "      <td>0.060195</td>\n",
       "      <td>-0.088649</td>\n",
       "      <td>0.057319</td>\n",
       "      <td>-0.190614</td>\n",
       "      <td>0.018629</td>\n",
       "      <td>0.155768</td>\n",
       "      <td>-0.126031</td>\n",
       "      <td>...</td>\n",
       "      <td>0.019631</td>\n",
       "      <td>0.066019</td>\n",
       "      <td>0.281470</td>\n",
       "      <td>0.146224</td>\n",
       "      <td>0.061539</td>\n",
       "      <td>-0.109484</td>\n",
       "      <td>-0.035197</td>\n",
       "      <td>-0.467500</td>\n",
       "      <td>0.076279</td>\n",
       "      <td>-0.027816</td>\n",
       "    </tr>\n",
       "    <tr>\n",
       "      <th>2</th>\n",
       "      <td>0.148800</td>\n",
       "      <td>-0.056105</td>\n",
       "      <td>-0.138830</td>\n",
       "      <td>0.046669</td>\n",
       "      <td>-0.076180</td>\n",
       "      <td>-0.043523</td>\n",
       "      <td>-0.110911</td>\n",
       "      <td>0.023336</td>\n",
       "      <td>0.104849</td>\n",
       "      <td>-0.027768</td>\n",
       "      <td>...</td>\n",
       "      <td>0.063007</td>\n",
       "      <td>-0.182152</td>\n",
       "      <td>0.225865</td>\n",
       "      <td>0.073495</td>\n",
       "      <td>0.068014</td>\n",
       "      <td>-0.014308</td>\n",
       "      <td>-0.066706</td>\n",
       "      <td>-0.148948</td>\n",
       "      <td>-0.156206</td>\n",
       "      <td>-0.036086</td>\n",
       "    </tr>\n",
       "    <tr>\n",
       "      <th>3</th>\n",
       "      <td>0.216122</td>\n",
       "      <td>-0.129568</td>\n",
       "      <td>-0.218635</td>\n",
       "      <td>0.029970</td>\n",
       "      <td>-0.070733</td>\n",
       "      <td>0.398075</td>\n",
       "      <td>-0.009381</td>\n",
       "      <td>0.098886</td>\n",
       "      <td>0.124678</td>\n",
       "      <td>-0.064802</td>\n",
       "      <td>...</td>\n",
       "      <td>0.075774</td>\n",
       "      <td>0.003717</td>\n",
       "      <td>0.191718</td>\n",
       "      <td>0.122202</td>\n",
       "      <td>0.155368</td>\n",
       "      <td>0.083326</td>\n",
       "      <td>-0.050565</td>\n",
       "      <td>-0.125395</td>\n",
       "      <td>-0.135701</td>\n",
       "      <td>-0.025060</td>\n",
       "    </tr>\n",
       "    <tr>\n",
       "      <th>4</th>\n",
       "      <td>0.103442</td>\n",
       "      <td>-0.062810</td>\n",
       "      <td>0.124339</td>\n",
       "      <td>0.032326</td>\n",
       "      <td>-0.029349</td>\n",
       "      <td>-0.378117</td>\n",
       "      <td>-0.168641</td>\n",
       "      <td>0.047713</td>\n",
       "      <td>-0.002807</td>\n",
       "      <td>-0.608670</td>\n",
       "      <td>...</td>\n",
       "      <td>0.096221</td>\n",
       "      <td>-0.271478</td>\n",
       "      <td>0.257875</td>\n",
       "      <td>-0.007913</td>\n",
       "      <td>0.237176</td>\n",
       "      <td>-0.067467</td>\n",
       "      <td>-0.015509</td>\n",
       "      <td>0.328679</td>\n",
       "      <td>-0.043824</td>\n",
       "      <td>-0.052832</td>\n",
       "    </tr>\n",
       "  </tbody>\n",
       "</table>\n",
       "<p>5 rows × 300 columns</p>\n",
       "</div>"
      ],
      "text/plain": [
       "        0         1         2         3         4         5         6    \\\n",
       "0 -0.046731 -0.197447 -0.424650  0.028547 -0.037529  0.003348  0.015726   \n",
       "1  0.240934 -0.085974 -0.297231  0.060195 -0.088649  0.057319 -0.190614   \n",
       "2  0.148800 -0.056105 -0.138830  0.046669 -0.076180 -0.043523 -0.110911   \n",
       "3  0.216122 -0.129568 -0.218635  0.029970 -0.070733  0.398075 -0.009381   \n",
       "4  0.103442 -0.062810  0.124339  0.032326 -0.029349 -0.378117 -0.168641   \n",
       "\n",
       "        7         8         9      ...          290       291       292  \\\n",
       "0  0.186771  0.072046 -0.074422    ...     0.126439 -0.322560 -0.018412   \n",
       "1  0.018629  0.155768 -0.126031    ...     0.019631  0.066019  0.281470   \n",
       "2  0.023336  0.104849 -0.027768    ...     0.063007 -0.182152  0.225865   \n",
       "3  0.098886  0.124678 -0.064802    ...     0.075774  0.003717  0.191718   \n",
       "4  0.047713 -0.002807 -0.608670    ...     0.096221 -0.271478  0.257875   \n",
       "\n",
       "        293       294       295       296       297       298       299  \n",
       "0  0.197850  0.290965 -0.131281 -0.020462  0.160918  0.000428 -0.093532  \n",
       "1  0.146224  0.061539 -0.109484 -0.035197 -0.467500  0.076279 -0.027816  \n",
       "2  0.073495  0.068014 -0.014308 -0.066706 -0.148948 -0.156206 -0.036086  \n",
       "3  0.122202  0.155368  0.083326 -0.050565 -0.125395 -0.135701 -0.025060  \n",
       "4 -0.007913  0.237176 -0.067467 -0.015509  0.328679 -0.043824 -0.052832  \n",
       "\n",
       "[5 rows x 300 columns]"
      ]
     },
     "execution_count": 176,
     "metadata": {},
     "output_type": "execute_result"
    }
   ],
   "source": [
    "cluster_val = pd.DataFrame(np.concatenate(vec_val,axis=0))\n",
    "cluster_val.head()"
   ]
  },
  {
   "cell_type": "code",
   "execution_count": 246,
   "metadata": {},
   "outputs": [
    {
     "data": {
      "text/plain": [
       "[<matplotlib.lines.Line2D at 0x7f04122f7e80>]"
      ]
     },
     "execution_count": 246,
     "metadata": {},
     "output_type": "execute_result"
    },
    {
     "data": {
      "image/png": "[encoded data removed]",
      "text/plain": [
       "<Figure size 1080x360 with 1 Axes>"
      ]
     },
     "metadata": {},
     "output_type": "display_data"
    }
   ],
   "source": [
    "#find optimal number of clusters\n",
    "from sklearn.cluster import KMeans\n",
    "\n",
    "inertia = []\n",
    "for k in range(2, 50):\n",
    "    print(k)\n",
    "    kmeans = KMeans(n_clusters=k)\n",
    "    kmeans.fit(cluster_val)\n",
    "    inertia.append(kmeans.inertia_)\n",
    "\n",
    "fig = plt.figure(figsize=(15, 5))\n",
    "plt.plot(range(2, 50), inertia)"
   ]
  },
  {
   "cell_type": "code",
   "execution_count": 249,
   "metadata": {},
   "outputs": [
    {
     "data": {
      "text/plain": [
       "KMeans(algorithm='auto', copy_x=True, init='k-means++', max_iter=300,\n",
       "    n_clusters=10, n_init=10, n_jobs=1, precompute_distances='auto',\n",
       "    random_state=None, tol=0.0001, verbose=0)"
      ]
     },
     "execution_count": 249,
     "metadata": {},
     "output_type": "execute_result"
    }
   ],
   "source": [
    "kmeans = KMeans(n_clusters=10)\n",
    "kmeans.fit(cluster_val)"
   ]
  },
  {
   "cell_type": "code",
   "execution_count": 250,
   "metadata": {},
   "outputs": [
    {
     "data": {
      "text/plain": [
       "Counter({5: 4571,\n",
       "         7: 2245,\n",
       "         8: 4266,\n",
       "         6: 1631,\n",
       "         3: 1250,\n",
       "         2: 3009,\n",
       "         4: 2117,\n",
       "         1: 1379,\n",
       "         9: 2172,\n",
       "         0: 153})"
      ]
     },
     "execution_count": 250,
     "metadata": {},
     "output_type": "execute_result"
    }
   ],
   "source": [
    "Counter(kmeans.labels_)"
   ]
  },
  {
   "cell_type": "code",
   "execution_count": 253,
   "metadata": {},
   "outputs": [],
   "source": [
    "df_val['kmeans_lab']=kmeans.labels_"
   ]
  },
  {
   "cell_type": "code",
   "execution_count": 265,
   "metadata": {},
   "outputs": [
    {
     "data": {
      "text/html": [
       "<div>\n",
       "<style scoped>\n",
       "    .dataframe tbody tr th:only-of-type {\n",
       "        vertical-align: middle;\n",
       "    }\n",
       "\n",
       "    .dataframe tbody tr th {\n",
       "        vertical-align: top;\n",
       "    }\n",
       "\n",
       "    .dataframe thead th {\n",
       "        text-align: right;\n",
       "    }\n",
       "</style>\n",
       "<table border=\"1\" class=\"dataframe\">\n",
       "  <thead>\n",
       "    <tr style=\"text-align: right;\">\n",
       "      <th></th>\n",
       "      <th>target</th>\n",
       "      <th>text</th>\n",
       "      <th>kmeans_lab</th>\n",
       "    </tr>\n",
       "  </thead>\n",
       "  <tbody>\n",
       "    <tr>\n",
       "      <th>46</th>\n",
       "      <td>2</td>\n",
       "      <td>good\\n</td>\n",
       "      <td>0</td>\n",
       "    </tr>\n",
       "    <tr>\n",
       "      <th>321</th>\n",
       "      <td>2</td>\n",
       "      <td>good\\n</td>\n",
       "      <td>0</td>\n",
       "    </tr>\n",
       "    <tr>\n",
       "      <th>367</th>\n",
       "      <td>2</td>\n",
       "      <td>Really good drive. Test shows read speed 125MB...</td>\n",
       "      <td>0</td>\n",
       "    </tr>\n",
       "    <tr>\n",
       "      <th>423</th>\n",
       "      <td>2</td>\n",
       "      <td>very good.\\n</td>\n",
       "      <td>0</td>\n",
       "    </tr>\n",
       "    <tr>\n",
       "      <th>557</th>\n",
       "      <td>2</td>\n",
       "      <td>good produsts, my wife loves it\\n</td>\n",
       "      <td>0</td>\n",
       "    </tr>\n",
       "    <tr>\n",
       "      <th>663</th>\n",
       "      <td>2</td>\n",
       "      <td>good size to protect my big table. easy to clo...</td>\n",
       "      <td>0</td>\n",
       "    </tr>\n",
       "    <tr>\n",
       "      <th>813</th>\n",
       "      <td>2</td>\n",
       "      <td>good\\n</td>\n",
       "      <td>0</td>\n",
       "    </tr>\n",
       "    <tr>\n",
       "      <th>837</th>\n",
       "      <td>2</td>\n",
       "      <td>good.\\n</td>\n",
       "      <td>0</td>\n",
       "    </tr>\n",
       "    <tr>\n",
       "      <th>857</th>\n",
       "      <td>2</td>\n",
       "      <td>good\\n</td>\n",
       "      <td>0</td>\n",
       "    </tr>\n",
       "    <tr>\n",
       "      <th>878</th>\n",
       "      <td>2</td>\n",
       "      <td>good\\n</td>\n",
       "      <td>0</td>\n",
       "    </tr>\n",
       "  </tbody>\n",
       "</table>\n",
       "</div>"
      ],
      "text/plain": [
       "     target                                               text  kmeans_lab\n",
       "46        2                                             good\\n           0\n",
       "321       2                                             good\\n           0\n",
       "367       2  Really good drive. Test shows read speed 125MB...           0\n",
       "423       2                                       very good.\\n           0\n",
       "557       2                  good produsts, my wife loves it\\n           0\n",
       "663       2  good size to protect my big table. easy to clo...           0\n",
       "813       2                                             good\\n           0\n",
       "837       2                                            good.\\n           0\n",
       "857       2                                             good\\n           0\n",
       "878       2                                             good\\n           0"
      ]
     },
     "execution_count": 265,
     "metadata": {},
     "output_type": "execute_result"
    }
   ],
   "source": [
    "#cluster containing a lot of english reviews\n",
    "df_val.query('kmeans_lab==0').head(10)"
   ]
  }
 ],
 "metadata": {
  "kernelspec": {
   "display_name": "Python 3",
   "language": "python",
   "name": "python3"
  },
  "language_info": {
   "codemirror_mode": {
    "name": "ipython",
    "version": 3
   },
   "file_extension": ".py",
   "mimetype": "text/x-python",
   "name": "python",
   "nbconvert_exporter": "python",
   "pygments_lexer": "ipython3",
   "version": "3.6.5"
  }
 },
 "nbformat": 4,
 "nbformat_minor": 2
}
