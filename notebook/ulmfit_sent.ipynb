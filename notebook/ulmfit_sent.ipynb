{
 "cells": [
  {
   "cell_type": "markdown",
   "metadata": {},
   "source": [
    "# Sentiment Analyzer Using ULMFit\n",
    "\n",
    "This notebook demonstrates how to use the [ULMFit model](https://arxiv.org/abs/1801.06146) implemented by `thai2vec` for sentiment analysis. We use a consolidated dataset with 34,607 online reviews including those from [JagerV3](https://github.com/JagerV3/sentiment_analysis_thai). We undersampled the reviews to have roughly 50/50 split.\n",
    "\n",
    "Our workflow is as follows:\n",
    "\n",
    "* Perform 75/15 train-validation split\n",
    "* Minimal text cleaning and tokenization using `newmm` engine of `pyThaiNLP`\n",
    "* Get embeddings of Wongnai dataset from all the data available (train and test sets)\n",
    "* Load pretrained Thai Wikipedia embeddings; for those embeddings which exist only in Wongnai dataset, we use the average of Wikipedia embeddings instead\n",
    "* Train language model based on all the data available on Wongnai dataset\n",
    "* Replace the top and train the classifier based on the training set by gradual unfreezing\n",
    "\n",
    "We achieved validation perplexity at 56.66598 and validation accuracy at 89%. FastText benchmark has the performance of 72%."
   ]
  },
  {
   "cell_type": "markdown",
   "metadata": {},
   "source": [
    "## Imports"
   ]
  },
  {
   "cell_type": "code",
   "execution_count": 2,
   "metadata": {},
   "outputs": [
    {
     "name": "stdout",
     "output_type": "stream",
     "text": [
      "Collecting https://github.com/PyThaiNLP/pythainlp/archive/dev.zip\n",
      "  Downloading https://github.com/PyThaiNLP/pythainlp/archive/dev.zip\n",
      "\u001b[K     | 16.5MB 68.6MB/s\n",
      "Requirement already satisfied (use --upgrade to upgrade): pythainlp==1.7 from https://github.com/PyThaiNLP/pythainlp/archive/dev.zip in /home/ubuntu/src/anaconda3/envs/fastai/lib/python3.6/site-packages\n",
      "Requirement already satisfied: nltk>=3.2.2 in /home/ubuntu/src/anaconda3/envs/fastai/lib/python3.6/site-packages (from pythainlp==1.7) (3.3)\n",
      "Requirement already satisfied: future>=0.16.0 in /home/ubuntu/src/anaconda3/envs/fastai/lib/python3.6/site-packages (from pythainlp==1.7) (0.16.0)\n",
      "Requirement already satisfied: six in /home/ubuntu/src/anaconda3/envs/fastai/lib/python3.6/site-packages (from pythainlp==1.7) (1.11.0)\n",
      "Requirement already satisfied: marisa_trie<=0.7.4 in /home/ubuntu/src/anaconda3/envs/fastai/lib/python3.6/site-packages (from pythainlp==1.7) (0.7.4)\n",
      "Requirement already satisfied: requests in /home/ubuntu/src/anaconda3/envs/fastai/lib/python3.6/site-packages (from pythainlp==1.7) (2.18.4)\n",
      "Requirement already satisfied: dill in /home/ubuntu/src/anaconda3/envs/fastai/lib/python3.6/site-packages (from pythainlp==1.7) (0.2.7.1)\n",
      "Requirement already satisfied: pytz in /home/ubuntu/src/anaconda3/envs/fastai/lib/python3.6/site-packages (from pythainlp==1.7) (2018.4)\n",
      "Requirement already satisfied: conllu in /home/ubuntu/src/anaconda3/envs/fastai/lib/python3.6/site-packages (from pythainlp==1.7) (0.10.6)\n",
      "Requirement already satisfied: tinydb in /home/ubuntu/src/anaconda3/envs/fastai/lib/python3.6/site-packages (from pythainlp==1.7) (3.9.0.post1)\n",
      "Requirement already satisfied: tqdm in /home/ubuntu/src/anaconda3/envs/fastai/lib/python3.6/site-packages (from pythainlp==1.7) (4.23.0)\n",
      "Requirement already satisfied: chardet<3.1.0,>=3.0.2 in /home/ubuntu/src/anaconda3/envs/fastai/lib/python3.6/site-packages (from requests->pythainlp==1.7) (3.0.4)\n",
      "Requirement already satisfied: idna<2.7,>=2.5 in /home/ubuntu/src/anaconda3/envs/fastai/lib/python3.6/site-packages (from requests->pythainlp==1.7) (2.6)\n",
      "Requirement already satisfied: urllib3<1.23,>=1.21.1 in /home/ubuntu/src/anaconda3/envs/fastai/lib/python3.6/site-packages (from requests->pythainlp==1.7) (1.22)\n",
      "Requirement already satisfied: certifi>=2017.4.17 in /home/ubuntu/src/anaconda3/envs/fastai/lib/python3.6/site-packages (from requests->pythainlp==1.7) (2018.4.16)\n",
      "Building wheels for collected packages: pythainlp\n",
      "  Running setup.py bdist_wheel for pythainlp ... \u001b[?25ldone\n",
      "\u001b[?25h  Stored in directory: /tmp/pip-ephem-wheel-cache-m24u2t3k/wheels/79/4e/1e/26f3198c6712ecfbee92928ed1dde923a078da3d222401cc78\n",
      "Successfully built pythainlp\n",
      "\u001b[31mmsgpack-numpy 0.4.3 requires msgpack>=0.3.0, which is not installed.\u001b[0m\n",
      "\u001b[31mthinc 6.10.2 has requirement msgpack-numpy==0.4.1, but you'll have msgpack-numpy 0.4.3 which is incompatible.\u001b[0m\n",
      "\u001b[31mspacy 2.0.11 has requirement regex==2017.4.5, but you'll have regex 2017.11.9 which is incompatible.\u001b[0m\n",
      "\u001b[31mawscli 1.15.4 has requirement botocore==1.10.4, but you'll have botocore 1.10.35 which is incompatible.\u001b[0m\n",
      "\u001b[33mYou are using pip version 10.0.0, however version 10.0.1 is available.\n",
      "You should consider upgrading via the 'pip install --upgrade pip' command.\u001b[0m\n"
     ]
    }
   ],
   "source": [
    "!pip install https://github.com/PyThaiNLP/pythainlp/archive/dev.zip"
   ]
  },
  {
   "cell_type": "code",
   "execution_count": 3,
   "metadata": {},
   "outputs": [],
   "source": [
    "%reload_ext autoreload\n",
    "%autoreload 2\n",
    "%matplotlib inline\n",
    "\n",
    "import re\n",
    "import html\n",
    "import numpy as np\n",
    "import dill as pickle\n",
    "from IPython.display import Image\n",
    "from IPython.core.display import HTML \n",
    "from collections import Counter\n",
    "from sklearn.model_selection import train_test_split\n",
    "\n",
    "from fastai.text import *\n",
    "from pythainlp.tokenize import word_tokenize\n",
    "from utils import *\n",
    "\n",
    "DATA_PATH='/home/ubuntu/Projects/thai2dev/sent_data/'\n",
    "RAW_PATH = f'{DATA_PATH}raw/'\n",
    "MODEL_PATH = f'{DATA_PATH}models/'"
   ]
  },
  {
   "cell_type": "markdown",
   "metadata": {},
   "source": [
    "## Tran/Validation Sets\n",
    "\n",
    "The training data consists of 29,415 reviews from unknown number of reviewers relabled by us as positive (`1`) or negative (`0`). We use 75/15 train-validation split. The validation set has 5,192 reviews. No information accuracy is 52.5%."
   ]
  },
  {
   "cell_type": "code",
   "execution_count": 4,
   "metadata": {},
   "outputs": [
    {
     "data": {
      "text/html": [
       "<div>\n",
       "<style scoped>\n",
       "    .dataframe tbody tr th:only-of-type {\n",
       "        vertical-align: middle;\n",
       "    }\n",
       "\n",
       "    .dataframe tbody tr th {\n",
       "        vertical-align: top;\n",
       "    }\n",
       "\n",
       "    .dataframe thead th {\n",
       "        text-align: right;\n",
       "    }\n",
       "</style>\n",
       "<table border=\"1\" class=\"dataframe\">\n",
       "  <thead>\n",
       "    <tr style=\"text-align: right;\">\n",
       "      <th></th>\n",
       "      <th>target</th>\n",
       "      <th>text</th>\n",
       "    </tr>\n",
       "  </thead>\n",
       "  <tbody>\n",
       "    <tr>\n",
       "      <th>34526</th>\n",
       "      <td>1</td>\n",
       "      <td>พึ่งไปทานมาเมื่ออาทิตย์ที่แล้ว อร่อยมากเลยค่ะ</td>\n",
       "    </tr>\n",
       "    <tr>\n",
       "      <th>34527</th>\n",
       "      <td>1</td>\n",
       "      <td>เมื่อวานไปทานที่the mall บางกะปิ พนักงานน่ารัก...</td>\n",
       "    </tr>\n",
       "    <tr>\n",
       "      <th>34528</th>\n",
       "      <td>1</td>\n",
       "      <td>กินที่บางกะปิมา พนักงานใจดีทุกคนเลย</td>\n",
       "    </tr>\n",
       "    <tr>\n",
       "      <th>34529</th>\n",
       "      <td>1</td>\n",
       "      <td>ดีมากๆเรย สาขาเซนแจ้งพนักงานเฟรนลี่ทุกคนเรย</td>\n",
       "    </tr>\n",
       "    <tr>\n",
       "      <th>34530</th>\n",
       "      <td>1</td>\n",
       "      <td>อาหารอร่อยมีให้เลือกเยอะมาก</td>\n",
       "    </tr>\n",
       "  </tbody>\n",
       "</table>\n",
       "</div>"
      ],
      "text/plain": [
       "       target                                               text\n",
       "34526       1      พึ่งไปทานมาเมื่ออาทิตย์ที่แล้ว อร่อยมากเลยค่ะ\n",
       "34527       1  เมื่อวานไปทานที่the mall บางกะปิ พนักงานน่ารัก...\n",
       "34528       1                กินที่บางกะปิมา พนักงานใจดีทุกคนเลย\n",
       "34529       1   ดีมากๆเรย สาขาเซนแจ้งพนักงานเฟรนลี่ทุกคนเรย     \n",
       "34530       1                        อาหารอร่อยมีให้เลือกเยอะมาก"
      ]
     },
     "execution_count": 4,
     "metadata": {},
     "output_type": "execute_result"
    }
   ],
   "source": [
    "df_raw = pd.read_csv(f'{RAW_PATH}sent_raw.csv')\n",
    "df_raw = df_raw.drop('src',1)\n",
    "df_raw.query('target==1').tail()"
   ]
  },
  {
   "cell_type": "code",
   "execution_count": 5,
   "metadata": {},
   "outputs": [
    {
     "data": {
      "text/html": [
       "<div>\n",
       "<style scoped>\n",
       "    .dataframe tbody tr th:only-of-type {\n",
       "        vertical-align: middle;\n",
       "    }\n",
       "\n",
       "    .dataframe tbody tr th {\n",
       "        vertical-align: top;\n",
       "    }\n",
       "\n",
       "    .dataframe thead th {\n",
       "        text-align: right;\n",
       "    }\n",
       "</style>\n",
       "<table border=\"1\" class=\"dataframe\">\n",
       "  <thead>\n",
       "    <tr style=\"text-align: right;\">\n",
       "      <th></th>\n",
       "      <th>target</th>\n",
       "      <th>text</th>\n",
       "    </tr>\n",
       "  </thead>\n",
       "  <tbody>\n",
       "    <tr>\n",
       "      <th>34602</th>\n",
       "      <td>0</td>\n",
       "      <td>เอาของเก่ามาขาย ใช้น้ำมันเก่ามาทอด ขายให้ลูกค้...</td>\n",
       "    </tr>\n",
       "    <tr>\n",
       "      <th>34603</th>\n",
       "      <td>0</td>\n",
       "      <td>แอดมินเพจทำงานแย่มากนะคะ ไม่อินบ๊อกซ์แจ้งผู้โช...</td>\n",
       "    </tr>\n",
       "    <tr>\n",
       "      <th>34604</th>\n",
       "      <td>0</td>\n",
       "      <td>ไปซื้อพิซซ่า สาขาถ.จันทร์ สั่งพิซซ่ามาสองกล่อง...</td>\n",
       "    </tr>\n",
       "    <tr>\n",
       "      <th>34605</th>\n",
       "      <td>0</td>\n",
       "      <td>พนักงานน่ายังกะส้นตีน สงสัยทะเลาะกับผัวมา พูดอ...</td>\n",
       "    </tr>\n",
       "    <tr>\n",
       "      <th>34606</th>\n",
       "      <td>0</td>\n",
       "      <td>รับปรุงด่วนเลยครับ เรื่องเวลาเสริฟให้ลูกค้า นา...</td>\n",
       "    </tr>\n",
       "  </tbody>\n",
       "</table>\n",
       "</div>"
      ],
      "text/plain": [
       "       target                                               text\n",
       "34602       0  เอาของเก่ามาขาย ใช้น้ำมันเก่ามาทอด ขายให้ลูกค้...\n",
       "34603       0  แอดมินเพจทำงานแย่มากนะคะ ไม่อินบ๊อกซ์แจ้งผู้โช...\n",
       "34604       0  ไปซื้อพิซซ่า สาขาถ.จันทร์ สั่งพิซซ่ามาสองกล่อง...\n",
       "34605       0  พนักงานน่ายังกะส้นตีน สงสัยทะเลาะกับผัวมา พูดอ...\n",
       "34606       0  รับปรุงด่วนเลยครับ เรื่องเวลาเสริฟให้ลูกค้า นา..."
      ]
     },
     "execution_count": 5,
     "metadata": {},
     "output_type": "execute_result"
    }
   ],
   "source": [
    "df_raw.query('target==0').tail()"
   ]
  },
  {
   "cell_type": "code",
   "execution_count": 6,
   "metadata": {},
   "outputs": [
    {
     "name": "stdout",
     "output_type": "stream",
     "text": [
      "(34607, 2)\n"
     ]
    },
    {
     "data": {
      "text/plain": [
       "Counter({1: 16451, 0: 18156})"
      ]
     },
     "execution_count": 6,
     "metadata": {},
     "output_type": "execute_result"
    }
   ],
   "source": [
    "print(df_raw.shape)\n",
    "cnt = Counter(df_raw['target'])\n",
    "cnt"
   ]
  },
  {
   "cell_type": "code",
   "execution_count": 7,
   "metadata": {},
   "outputs": [
    {
     "data": {
      "text/plain": [
       "0.5246337446181408"
      ]
     },
     "execution_count": 7,
     "metadata": {},
     "output_type": "execute_result"
    }
   ],
   "source": [
    "#baseline\n",
    "cnt.most_common(1)[0][1] / df_raw.shape[0]"
   ]
  },
  {
   "cell_type": "code",
   "execution_count": 8,
   "metadata": {},
   "outputs": [],
   "source": [
    "#train/validation/train_language_model split\n",
    "df_trn, df_val = train_test_split(df_raw, test_size = 0.15, random_state = 1412)\n",
    "\n",
    "df_trn.to_csv(f'{DATA_PATH}train.csv', header=False, index=False)\n",
    "df_val.to_csv(f'{DATA_PATH}valid.csv', header=False, index=False)"
   ]
  },
  {
   "cell_type": "code",
   "execution_count": 9,
   "metadata": {},
   "outputs": [
    {
     "data": {
      "text/plain": [
       "((29415, 2), (5192, 2))"
      ]
     },
     "execution_count": 9,
     "metadata": {},
     "output_type": "execute_result"
    }
   ],
   "source": [
    "df_trn.shape,df_val.shape"
   ]
  },
  {
   "cell_type": "markdown",
   "metadata": {},
   "source": [
    "## Language Modeling"
   ]
  },
  {
   "cell_type": "markdown",
   "metadata": {},
   "source": [
    "### Text Processing"
   ]
  },
  {
   "cell_type": "markdown",
   "metadata": {},
   "source": [
    "We first determine the vocab for the reviews, then train a language model based on our training set. We perform the following minimal text processing:\n",
    "* The token `xbos` is used to note start of a text since we will be chaining them together for the language model training. \n",
    "* `pyThaiNLP`'s `newmm` word tokenizer is used to tokenize the texts.\n",
    "* `tkrep` is used to replace repetitive characters such as `อร่อยมากกกกกก` becoming `อรอ่ยมาtkrep6ก`"
   ]
  },
  {
   "cell_type": "code",
   "execution_count": 10,
   "metadata": {},
   "outputs": [],
   "source": [
    "max_vocab = 60000\n",
    "min_freq = 2\n",
    "\n",
    "df_trn = pd.read_csv(f'{DATA_PATH}train.csv',header=None,chunksize=30000)\n",
    "df_val = pd.read_csv(f'{DATA_PATH}valid.csv',header=None,chunksize=30000)\n",
    "\n",
    "trn_lm,trn_tok,trn_labels,itos_cls,stoi_cls,freq_trn = numericalizer(df_trn)\n",
    "val_lm,val_tok,val_labels,itos_cls,stoi_cls,freq_val = numericalizer(df_val,itos_cls)"
   ]
  },
  {
   "cell_type": "code",
   "execution_count": 11,
   "metadata": {},
   "outputs": [],
   "source": [
    "# np.save(f'{MODEL_PATH}trn_tok.npy', trn_tok)\n",
    "# np.save(f'{MODEL_PATH}val_tok.npy', val_tok)\n",
    "# np.save(f'{MODEL_PATH}trn_lm.npy', trn_lm)\n",
    "# np.save(f'{MODEL_PATH}val_lm.npy', val_lm)\n",
    "# pickle.dump(itos_cls, open(f'{MODEL_PATH}itos_cls.pkl', 'wb'))"
   ]
  },
  {
   "cell_type": "code",
   "execution_count": 12,
   "metadata": {},
   "outputs": [],
   "source": [
    "trn_tok = np.load(f'{MODEL_PATH}trn_tok.npy')\n",
    "val_tok = np.load(f'{MODEL_PATH}val_tok.npy')"
   ]
  },
  {
   "cell_type": "code",
   "execution_count": 13,
   "metadata": {},
   "outputs": [
    {
     "data": {
      "text/plain": [
       "array([list(['xbos', 'ทำไม', 'ของ', 'ที่', 'ผม', 'ได้', 'ถึง', 'ไม่', 'ใกล้เคียง', 'คำ', 'ว่า', 'เสียง', 'ดี', 'เลย', 'ครับ', ' ', 'พ้น', 'เบิร์น', 'ก็', 'แล้ว', ' ', 'พยายาม', 'ทำใจ', 'ฟัง', 'ให้', 'เพราะ', 'ยังไง', 'มัน', 'ก็', 'ไม่', 'เพราะ', 'เลย', 'ครับ', ' ', 'ฟัง', 'ที', 'หู', 'แทบ', 'แตก', ' ', 'เสียง', 'น่ารำคาญ', 'มาก', ' ', 'เทียบ', 'กับ', 'หูฟัง', 'อัน', 'ล่ะ', '50', 'บาท', 'ที่', 'มี', 'อยู่', ' ', 'ยัง', 'เสียง', 'ดีกว่า', 'อีก', ' ', 'หรือ', 'ได้', 'ของปลอม', 'มา', '?'])],\n",
       "      dtype=object)"
      ]
     },
     "execution_count": 13,
     "metadata": {},
     "output_type": "execute_result"
    }
   ],
   "source": [
    "trn_tok[:1]"
   ]
  },
  {
   "cell_type": "code",
   "execution_count": 14,
   "metadata": {},
   "outputs": [
    {
     "data": {
      "text/plain": [
       "array([list([3, 198, 17, 7, 64, 15, 80, 4, 2223, 330, 26, 245, 18, 6, 19, 2, 2805, 3848, 9, 21, 2, 1465, 1899, 829, 25, 57, 250, 69, 9, 4, 57, 6, 19, 2, 829, 410, 1159, 737, 559, 2, 245, 5052, 11, 2, 387, 32, 1037, 390, 378, 566, 62, 7, 16, 40, 2, 33, 245, 239, 45, 2, 102, 15, 1160, 5, 202])],\n",
       "      dtype=object)"
      ]
     },
     "execution_count": 14,
     "metadata": {},
     "output_type": "execute_result"
    }
   ],
   "source": [
    "#numericalized tokenized texts\n",
    "trn_lm[:1]"
   ]
  },
  {
   "cell_type": "code",
   "execution_count": 15,
   "metadata": {},
   "outputs": [
    {
     "data": {
      "text/plain": [
       "['_unk_', '_pad_', ' ', 'xbos', 'ไม่', 'มา', 'เลย', 'ที่', 'ค่ะ', 'ก็']"
      ]
     },
     "execution_count": 15,
     "metadata": {},
     "output_type": "execute_result"
    }
   ],
   "source": [
    "#index to token\n",
    "itos_cls[:10]"
   ]
  },
  {
   "cell_type": "code",
   "execution_count": 16,
   "metadata": {},
   "outputs": [
    {
     "data": {
      "text/plain": [
       "[(' ', 215439),\n",
       " ('xbos', 28328),\n",
       " ('ไม่', 16816),\n",
       " ('มา', 15341),\n",
       " ('เลย', 13051),\n",
       " ('ที่', 12616),\n",
       " ('ค่ะ', 11771),\n",
       " ('ก็', 11258),\n",
       " ('แต่', 11198),\n",
       " ('มาก', 11190)]"
      ]
     },
     "execution_count": 16,
     "metadata": {},
     "output_type": "execute_result"
    }
   ],
   "source": [
    "#most common words in train\n",
    "freq_trn.most_common(10)"
   ]
  },
  {
   "cell_type": "code",
   "execution_count": 17,
   "metadata": {},
   "outputs": [
    {
     "data": {
      "text/plain": [
       "[(' ', 35759),\n",
       " ('xbos', 5006),\n",
       " ('ไม่', 2854),\n",
       " ('มา', 2455),\n",
       " ('เลย', 2216),\n",
       " ('ที่', 2012),\n",
       " ('ค่ะ', 1979),\n",
       " ('แต่', 1943),\n",
       " ('มาก', 1910),\n",
       " ('ก็', 1822)]"
      ]
     },
     "execution_count": 17,
     "metadata": {},
     "output_type": "execute_result"
    }
   ],
   "source": [
    "#most common words in validation\n",
    "freq_val.most_common(10)"
   ]
  },
  {
   "cell_type": "markdown",
   "metadata": {},
   "source": [
    "### Load Pretrained Language Model"
   ]
  },
  {
   "cell_type": "markdown",
   "metadata": {},
   "source": [
    "Instead of starting from random weights, we import the language model pretrained on Wikipedia (see `pretrained_wiki.ipynb`). For words that appear only in this dataset but not Wikipedia, we start with the average of all embeddings instead. Max vocab size is set at 60,000 and minimum frequency of 2 consistent with the pretrained model. We ended up with X embeddings for all reviews."
   ]
  },
  {
   "cell_type": "code",
   "execution_count": 18,
   "metadata": {},
   "outputs": [],
   "source": [
    "em_sz = 300\n",
    "vocab_size = len(itos_cls)\n",
    "wgts = torch.load(f'{MODEL_PATH}thwiki_model2.h5', map_location=lambda storage, loc: storage)\n",
    "itos_pre = pickle.load(open(f'{MODEL_PATH}itos_pre.pkl','rb'))\n",
    "stoi_pre = collections.defaultdict(lambda:-1, {v:k for k,v in enumerate(itos_pre)})"
   ]
  },
  {
   "cell_type": "code",
   "execution_count": 19,
   "metadata": {},
   "outputs": [],
   "source": [
    "#pretrained weights\n",
    "wgts = merge_wgts(em_sz, wgts, itos_pre, itos_cls)"
   ]
  },
  {
   "cell_type": "markdown",
   "metadata": {},
   "source": [
    "### Train Language Model"
   ]
  },
  {
   "cell_type": "code",
   "execution_count": 20,
   "metadata": {},
   "outputs": [],
   "source": [
    "em_sz,nh,nl = 300,1150,3\n",
    "wd=1e-7\n",
    "bptt=70\n",
    "bs=60\n",
    "opt_fn = partial(optim.Adam, betas=(0.8, 0.99))\n",
    "weight_factor = 0.7\n",
    "drops = np.array([0.25, 0.1, 0.2, 0.02, 0.15])*weight_factor"
   ]
  },
  {
   "cell_type": "code",
   "execution_count": 21,
   "metadata": {},
   "outputs": [],
   "source": [
    "#data loader\n",
    "trn_dl = LanguageModelLoader(np.concatenate(trn_lm), bs, bptt)\n",
    "val_dl = LanguageModelLoader(np.concatenate(val_lm), bs, bptt)\n",
    "md = LanguageModelData(path=DATA_PATH, pad_idx=1, n_tok=vocab_size, \n",
    "                       trn_dl=trn_dl, val_dl=val_dl, bs=bs, bptt=bptt)"
   ]
  },
  {
   "cell_type": "code",
   "execution_count": 22,
   "metadata": {},
   "outputs": [],
   "source": [
    "#model fitter\n",
    "learner= md.get_model(opt_fn, em_sz, nh, nl, \n",
    "    dropouti=drops[0], dropout=drops[1], wdrop=drops[2], dropoute=drops[3], dropouth=drops[4])\n",
    "learner.metrics = [accuracy]"
   ]
  },
  {
   "cell_type": "code",
   "execution_count": 23,
   "metadata": {},
   "outputs": [],
   "source": [
    "#load the saved models + new embeddings\n",
    "learner.model.load_state_dict(wgts)"
   ]
  },
  {
   "cell_type": "code",
   "execution_count": 39,
   "metadata": {},
   "outputs": [
    {
     "data": {
      "application/vnd.jupyter.widget-view+json": {
       "model_id": "2af4b8cebc8f4dad90922d8500cc136b",
       "version_major": 2,
       "version_minor": 0
      },
      "text/plain": [
       "HBox(children=(IntProgress(value=0, description='Epoch', max=1), HTML(value='')))"
      ]
     },
     "metadata": {},
     "output_type": "display_data"
    },
    {
     "name": "stdout",
     "output_type": "stream",
     "text": [
      "  0%|          | 0/298 [00:00<?, ?it/s]\n",
      " 34%|███▎      | 100/298 [00:56<01:50,  1.79it/s, loss=6.18]"
     ]
    },
    {
     "data": {
      "image/png": "[encoded data removed]",
      "text/plain": [
       "<Figure size 432x864 with 3 Axes>"
      ]
     },
     "metadata": {},
     "output_type": "display_data"
    }
   ],
   "source": [
    "#find optimal learning rate\n",
    "learner.lr_find2(start_lr = 1e-6, end_lr=0.1,use_wd_sched=True,wds=wd)\n",
    "learner.sched.plot()"
   ]
  },
  {
   "cell_type": "code",
   "execution_count": 40,
   "metadata": {},
   "outputs": [
    {
     "data": {
      "text/plain": [
       "0.0025"
      ]
     },
     "execution_count": 40,
     "metadata": {},
     "output_type": "execute_result"
    }
   ],
   "source": [
    "#optimal learning rate\n",
    "lr=0.0025\n",
    "lr"
   ]
  },
  {
   "cell_type": "code",
   "execution_count": 42,
   "metadata": {},
   "outputs": [
    {
     "data": {
      "application/vnd.jupyter.widget-view+json": {
       "model_id": "fa0564cc6d58405aabf1cf22835d657b",
       "version_major": 2,
       "version_minor": 0
      },
      "text/plain": [
       "HBox(children=(IntProgress(value=0, description='Epoch', max=1), HTML(value='')))"
      ]
     },
     "metadata": {},
     "output_type": "display_data"
    },
    {
     "name": "stdout",
     "output_type": "stream",
     "text": [
      "  6%|▋         | 19/298 [00:06<01:39,  2.81it/s, loss=5.88]\n",
      "epoch      trn_loss   val_loss   accuracy   \n",
      "    0      4.985304   4.739737   0.237266  \n",
      "\n"
     ]
    },
    {
     "data": {
      "text/plain": [
       "[array([4.73974]), 0.23726609087262457]"
      ]
     },
     "execution_count": 42,
     "metadata": {},
     "output_type": "execute_result"
    }
   ],
   "source": [
    "#train while frozen once to warm up\n",
    "learner.freeze_to(-1)\n",
    "learner.fit(lr, 1, wds=wd, use_clr=(20,5), cycle_len=1,use_wd_sched=True)"
   ]
  },
  {
   "cell_type": "code",
   "execution_count": 43,
   "metadata": {},
   "outputs": [
    {
     "data": {
      "application/vnd.jupyter.widget-view+json": {
       "model_id": "c9703461f3cc432e8498c5eb965e7e1a",
       "version_major": 2,
       "version_minor": 0
      },
      "text/plain": [
       "HBox(children=(IntProgress(value=0, description='Epoch', max=5), HTML(value='')))"
      ]
     },
     "metadata": {},
     "output_type": "display_data"
    },
    {
     "name": "stdout",
     "output_type": "stream",
     "text": [
      "epoch      trn_loss   val_loss   accuracy   \n",
      "    0      4.58073    4.353202   0.265128  \n",
      "    1      4.281642   4.17429    0.278486  \n",
      "    2      4.080514   4.095785   0.28556   \n",
      "    3      3.934603   4.057507   0.289874  \n",
      "    4      3.838283   4.037174   0.292689  \n",
      "\n"
     ]
    },
    {
     "data": {
      "text/plain": [
       "[array([4.03717]), 0.2926886797671751]"
      ]
     },
     "execution_count": 43,
     "metadata": {},
     "output_type": "execute_result"
    }
   ],
   "source": [
    "#use_clr (peak as ratio of lr, iterations to grow and descend e.g. 10 is 1/10 grow and 9/10 descend)\n",
    "learner.unfreeze()\n",
    "learner.fit(lr, 1, wds=wd, use_clr=(20,5), cycle_len=5,use_wd_sched=True)"
   ]
  },
  {
   "cell_type": "code",
   "execution_count": 44,
   "metadata": {},
   "outputs": [
    {
     "data": {
      "image/png": "[encoded data removed]",
      "text/plain": [
       "<Figure size 432x288 with 1 Axes>"
      ]
     },
     "metadata": {},
     "output_type": "display_data"
    }
   ],
   "source": [
    "learner.sched.plot_loss()"
   ]
  },
  {
   "cell_type": "code",
   "execution_count": 45,
   "metadata": {},
   "outputs": [],
   "source": [
    "learner.save('sent_lm')\n",
    "learner.save_encoder('sent_enc')"
   ]
  },
  {
   "cell_type": "markdown",
   "metadata": {},
   "source": [
    "## Classification"
   ]
  },
  {
   "cell_type": "markdown",
   "metadata": {},
   "source": [
    "With the language model trained on the dataset, we use its embeddings to initialize the sentiment analyzer. We train the classifier using discriminative learning rates, slanted triangular learning rates, gradual unfreezing and a few other tricks detailed in the [ULMFit paper](https://arxiv.org/abs/1801.06146). We have found that training only the last two layers of the model seems to be the right balance for this dataset."
   ]
  },
  {
   "cell_type": "markdown",
   "metadata": {},
   "source": [
    "### Load Tokenized Texts and Labels"
   ]
  },
  {
   "cell_type": "code",
   "execution_count": 25,
   "metadata": {},
   "outputs": [],
   "source": [
    "#load csvs and tokenizer\n",
    "max_vocab = 60000\n",
    "min_freq = 2\n",
    "df_trn = pd.read_csv(f'{DATA_PATH}train.csv',header=None,chunksize=30000)\n",
    "df_val = pd.read_csv(f'{DATA_PATH}valid.csv',header=None,chunksize=30000)\n",
    "\n",
    "trn_cls,trn_tok,trn_labels,itos_cls,stoi_cls,freq_trn = numericalizer(df_trn)\n",
    "val_cls,val_tok,val_labels,itos_cls,stoi_cls,freq_val = numericalizer(df_val,itos_cls)"
   ]
  },
  {
   "cell_type": "code",
   "execution_count": 26,
   "metadata": {},
   "outputs": [],
   "source": [
    "#get labels\n",
    "trn_labels = np.squeeze(trn_labels)\n",
    "val_labels = np.squeeze(val_labels)\n",
    "min_lbl = trn_labels.min()\n",
    "trn_labels -= min_lbl\n",
    "val_labels -= min_lbl"
   ]
  },
  {
   "cell_type": "markdown",
   "metadata": {},
   "source": [
    "### Create Data Loader"
   ]
  },
  {
   "cell_type": "code",
   "execution_count": 27,
   "metadata": {},
   "outputs": [],
   "source": [
    "#dataset object\n",
    "bs = 60\n",
    "trn_ds = TextDataset(trn_cls, trn_labels)\n",
    "val_ds = TextDataset(val_cls, val_labels)\n",
    "\n",
    "#sampler\n",
    "trn_samp = SortishSampler(trn_cls, key=lambda x: len(trn_cls[x]), bs=bs//2)\n",
    "val_samp = SortSampler(val_cls, key=lambda x: len(val_cls[x]))\n",
    "\n",
    "#data loader\n",
    "trn_dl = DataLoader(trn_ds, bs//2, transpose=True, num_workers=1, pad_idx=1, sampler=trn_samp)\n",
    "val_dl = DataLoader(val_ds, bs, transpose=True, num_workers=1, pad_idx=1, sampler=val_samp)\n",
    "md = ModelData(DATA_PATH, trn_dl, val_dl)"
   ]
  },
  {
   "cell_type": "markdown",
   "metadata": {},
   "source": [
    "### Train Classifier"
   ]
  },
  {
   "cell_type": "code",
   "execution_count": 33,
   "metadata": {},
   "outputs": [],
   "source": [
    "#parameters\n",
    "weight_factor = 0.5\n",
    "drops = np.array([0.25, 0.1, 0.2, 0.02, 0.15])*weight_factor\n",
    "bptt = 70\n",
    "em_sz = 300\n",
    "nh = 1150\n",
    "nl = 3\n",
    "vocab_size = len(itos_cls)\n",
    "nb_class=int(trn_labels.max())+1\n",
    "opt_fn = partial(optim.Adam, betas=(0.7, 0.99))\n",
    "bs = 60\n",
    "wd = 1e-7\n",
    "\n",
    "#classifier model\n",
    "# em_sz*3 for max, mean, just activations\n",
    "m = get_rnn_classifer(bptt, max_seq=1000, n_class=nb_class, \n",
    "          n_tok=vocab_size, emb_sz=em_sz, n_hid=nh, n_layers=nl, pad_token=1,\n",
    "          layers=[em_sz*3, 50, nb_class], drops=[drops[4], 0.1],\n",
    "          dropouti=drops[0], wdrop=drops[1], dropoute=drops[2], dropouth=drops[3])"
   ]
  },
  {
   "cell_type": "code",
   "execution_count": 34,
   "metadata": {},
   "outputs": [],
   "source": [
    "#get learner\n",
    "learner = RNN_Learner(md, TextModel(to_gpu(m)), opt_fn=opt_fn)\n",
    "learner.reg_fn = partial(seq2seq_reg, alpha=2, beta=1)\n",
    "learner.clip=25.\n",
    "learner.metrics = [accuracy]\n",
    "#load encoder trained earlier\n",
    "learner.load_encoder('sent_enc')"
   ]
  },
  {
   "cell_type": "code",
   "execution_count": 51,
   "metadata": {},
   "outputs": [
    {
     "data": {
      "application/vnd.jupyter.widget-view+json": {
       "model_id": "fe8ff36bbf874c3798d35c959fda9176",
       "version_major": 2,
       "version_minor": 0
      },
      "text/plain": [
       "HBox(children=(IntProgress(value=0, description='Epoch', max=1), HTML(value='')))"
      ]
     },
     "metadata": {},
     "output_type": "display_data"
    },
    {
     "name": "stdout",
     "output_type": "stream",
     "text": [
      "  7%|▋         | 70/981 [00:26<05:43,  2.65it/s, loss=4.83]"
     ]
    },
    {
     "data": {
      "image/png": "[encoded data removed]",
      "text/plain": [
       "<Figure size 432x864 with 3 Axes>"
      ]
     },
     "metadata": {},
     "output_type": "display_data"
    }
   ],
   "source": [
    "#find learning rate\n",
    "learner.lr_find2()\n",
    "learner.sched.plot()"
   ]
  },
  {
   "cell_type": "code",
   "execution_count": 69,
   "metadata": {},
   "outputs": [
    {
     "data": {
      "text/plain": [
       "0.0005"
      ]
     },
     "execution_count": 69,
     "metadata": {},
     "output_type": "execute_result"
    }
   ],
   "source": [
    "lr = 0.005 / 10\n",
    "lr"
   ]
  },
  {
   "cell_type": "code",
   "execution_count": 59,
   "metadata": {},
   "outputs": [],
   "source": [
    "#set learning rate\n",
    "lr=1e-2\n",
    "lrm = 2.6\n",
    "lrs = np.array([lr/(lrm**4), lr/(lrm**3), lr/(lrm**2), lr/lrm, lr])"
   ]
  },
  {
   "cell_type": "code",
   "execution_count": 60,
   "metadata": {},
   "outputs": [
    {
     "data": {
      "application/vnd.jupyter.widget-view+json": {
       "model_id": "91ab87b963c6417d9f7a7904624d8c3e",
       "version_major": 2,
       "version_minor": 0
      },
      "text/plain": [
       "HBox(children=(IntProgress(value=0, description='Epoch', max=5), HTML(value='')))"
      ]
     },
     "metadata": {},
     "output_type": "display_data"
    },
    {
     "name": "stdout",
     "output_type": "stream",
     "text": [
      "epoch      trn_loss   val_loss   accuracy   \n",
      "    0      0.390054   0.425862   0.801781  \n",
      "    1      0.360087   0.45365    0.791234  \n",
      "    2      0.368968   0.383397   0.834824  \n",
      "    3      0.366293   0.452485   0.806655  \n",
      "    4      0.355971   0.389878   0.834002  \n",
      "\n"
     ]
    }
   ],
   "source": [
    "#train last layer\n",
    "learner.freeze_to(-1)\n",
    "learner.fit(lrs, 1, wds=wd, cycle_len=5, use_clr=(10,10),use_wd_sched=True)\n",
    "learner.save('last_layer')"
   ]
  },
  {
   "cell_type": "code",
   "execution_count": 82,
   "metadata": {},
   "outputs": [
    {
     "data": {
      "application/vnd.jupyter.widget-view+json": {
       "model_id": "fed8f09312234c0c91d3063a99e34f5a",
       "version_major": 2,
       "version_minor": 0
      },
      "text/plain": [
       "HBox(children=(IntProgress(value=0, description='Epoch', max=4), HTML(value='')))"
      ]
     },
     "metadata": {},
     "output_type": "display_data"
    },
    {
     "name": "stdout",
     "output_type": "stream",
     "text": [
      "epoch      trn_loss   val_loss   accuracy   \n",
      "    0      0.337998   0.301242   0.885841  \n",
      "    1      0.323219   0.274256   0.888518  \n",
      "    2      0.295462   0.312156   0.856681  \n",
      "    3      0.262367   0.263981   0.908637  \n",
      "\n"
     ]
    }
   ],
   "source": [
    "#train last two layers\n",
    "learner.load('last_layer')\n",
    "learner.freeze_to(-2)\n",
    "learner.fit(lrs, 1, wds=wd, cycle_len=4, use_clr=(10,3),use_wd_sched=True)\n",
    "learner.save('last_two_layers')"
   ]
  },
  {
   "cell_type": "markdown",
   "metadata": {},
   "source": [
    "## Validation Performance"
   ]
  },
  {
   "cell_type": "code",
   "execution_count": 35,
   "metadata": {},
   "outputs": [],
   "source": [
    "learner.load('last_two_layers')\n",
    "#get validation performance\n",
    "probs,y= learner.predict_with_targs()\n",
    "preds = np.argmax(np.exp(probs),1)"
   ]
  },
  {
   "cell_type": "code",
   "execution_count": 36,
   "metadata": {},
   "outputs": [
    {
     "data": {
      "text/plain": [
       "Counter({1: 2472, 0: 2720})"
      ]
     },
     "execution_count": 36,
     "metadata": {},
     "output_type": "execute_result"
    }
   ],
   "source": [
    "Counter(preds)"
   ]
  },
  {
   "cell_type": "code",
   "execution_count": 37,
   "metadata": {},
   "outputs": [
    {
     "data": {
      "text/plain": [
       "Counter({1: 2496, 0: 2696})"
      ]
     },
     "execution_count": 37,
     "metadata": {},
     "output_type": "execute_result"
    }
   ],
   "source": [
    "Counter(y)"
   ]
  },
  {
   "cell_type": "code",
   "execution_count": 38,
   "metadata": {},
   "outputs": [
    {
     "name": "stdout",
     "output_type": "stream",
     "text": [
      "Baseline Accuracy: 0.5192604006163328\n",
      "Micro Accuracy: 0.8906009244992296\n",
      "Confusion matrix, without normalization\n",
      "[[2424  272]\n",
      " [ 296 2200]]\n"
     ]
    },
    {
     "data": {
      "image/png": "[encoded data removed]",
      "text/plain": [
       "<Figure size 432x288 with 2 Axes>"
      ]
     },
     "metadata": {},
     "output_type": "display_data"
    }
   ],
   "source": [
    "from sklearn.metrics import confusion_matrix\n",
    "\n",
    "most_frequent = np.array([0]*len(preds))\n",
    "print(f'Baseline Accuracy: {np.mean(y==most_frequent)}')\n",
    "print(f'Micro Accuracy: {np.mean(y==preds)}')\n",
    "cm = confusion_matrix(y,preds)\n",
    "plot_confusion_matrix(cm,classes=['neg','pos'])"
   ]
  },
  {
   "cell_type": "markdown",
   "metadata": {},
   "source": [
    "## Benchmark with FastText"
   ]
  },
  {
   "cell_type": "markdown",
   "metadata": {},
   "source": [
    "We used [fastText](https://github.com/facebookresearch/fastText)'s own [pretrained embeddings](https://github.com/facebookresearch/fastText/blob/master/pretrained-vectors.md) and a relatively \"default\" settings in order to benchmark our results. This gave us the accuracy of 71%."
   ]
  },
  {
   "cell_type": "markdown",
   "metadata": {},
   "source": [
    "### Data Preparation"
   ]
  },
  {
   "cell_type": "code",
   "execution_count": 89,
   "metadata": {},
   "outputs": [],
   "source": [
    "df_trn = pd.read_csv(f'{DATA_PATH}train.csv',header=None)\n",
    "df_val = pd.read_csv(f'{DATA_PATH}valid.csv',header=None)"
   ]
  },
  {
   "cell_type": "code",
   "execution_count": 90,
   "metadata": {},
   "outputs": [],
   "source": [
    "train_set = []\n",
    "for i in range(df_trn.shape[0]):\n",
    "    label = df_trn.iloc[i,0]\n",
    "    line = df_trn.iloc[i,1].replace('\\n', ' ')\n",
    "    train_set.append(f'__label__{label} {line}')\n",
    "train_doc = '\\n'.join(train_set)\n",
    "with open(f'{DATA_PATH}train.txt','w') as f:\n",
    "    f.write(train_doc)"
   ]
  },
  {
   "cell_type": "code",
   "execution_count": 91,
   "metadata": {},
   "outputs": [],
   "source": [
    "valid_set = []\n",
    "for i in range(df_val.shape[0]):\n",
    "    label = df_val.iloc[i,0]\n",
    "    line = df_val.iloc[i,1].replace('\\n', ' ')\n",
    "    valid_set.append(f'__label__{label} {line}')\n",
    "valid_doc = '\\n'.join(valid_set)\n",
    "with open(f'{DATA_PATH}valid.txt','w') as f:\n",
    "    f.write(valid_doc)"
   ]
  },
  {
   "cell_type": "markdown",
   "metadata": {},
   "source": [
    "### Train FastText"
   ]
  },
  {
   "cell_type": "code",
   "execution_count": 96,
   "metadata": {},
   "outputs": [
    {
     "name": "stdout",
     "output_type": "stream",
     "text": [
      "Read 0M words\n",
      "Number of words:  163451\n",
      "Number of labels: 2\n",
      "Progress: 100.0%  words/sec/thread: 601576  lr: 0.000000  loss: 0.197588  eta: 0h0m \n"
     ]
    }
   ],
   "source": [
    "!/home/ubuntu/theFastText/fastText-0.1.0/fasttext supervised -input '{DATA_PATH}train.txt' -pretrainedVectors '{MODEL_PATH}wiki.th.vec' -epoch 10 -dim 300 -wordNgrams 2 -output '{MODEL_PATH}fasttext_model'"
   ]
  },
  {
   "cell_type": "code",
   "execution_count": 97,
   "metadata": {},
   "outputs": [
    {
     "name": "stdout",
     "output_type": "stream",
     "text": [
      "N\t5192\n",
      "P@1\t0.718\n",
      "R@1\t0.718\n",
      "Number of examples: 5192\n"
     ]
    }
   ],
   "source": [
    "!/home/ubuntu/theFastText/fastText-0.1.0/fasttext test '{MODEL_PATH}fasttext_model.bin' '{DATA_PATH}valid.txt'"
   ]
  },
  {
   "cell_type": "markdown",
   "metadata": {},
   "source": [
    "## Eyeballing"
   ]
  },
  {
   "cell_type": "code",
   "execution_count": 43,
   "metadata": {},
   "outputs": [],
   "source": [
    "#1 for positive and 0 for negative\n",
    "learner.load('last_two_layers')\n",
    "m = learner.model\n",
    "def get_sentiment(ss):\n",
    "    s = word_tokenize(ss)\n",
    "    t = LongTensor([stoi_cls[i] for i in s]).view(-1,1).cuda()\n",
    "    t = Variable(t,volatile=False)\n",
    "    m.reset()\n",
    "    pred,*_ = m(t)\n",
    "    return(np.argmax(pred.data.cpu().numpy()))"
   ]
  },
  {
   "cell_type": "code",
   "execution_count": 44,
   "metadata": {},
   "outputs": [
    {
     "data": {
      "text/plain": [
       "1"
      ]
     },
     "execution_count": 44,
     "metadata": {},
     "output_type": "execute_result"
    }
   ],
   "source": [
    "ss = 'สินค้าดีมาก'\n",
    "get_sentiment(ss)"
   ]
  },
  {
   "cell_type": "code",
   "execution_count": 45,
   "metadata": {},
   "outputs": [
    {
     "data": {
      "text/plain": [
       "0"
      ]
     },
     "execution_count": 45,
     "metadata": {},
     "output_type": "execute_result"
    }
   ],
   "source": [
    "ss = 'สินค้าห่วยมาก'\n",
    "get_sentiment(ss)"
   ]
  },
  {
   "cell_type": "code",
   "execution_count": 47,
   "metadata": {},
   "outputs": [
    {
     "data": {
      "text/plain": [
       "1"
      ]
     },
     "execution_count": 47,
     "metadata": {},
     "output_type": "execute_result"
    }
   ],
   "source": [
    "ss = 'สินค้าดีเหี้ยๆ'\n",
    "get_sentiment(ss)"
   ]
  },
  {
   "cell_type": "code",
   "execution_count": 48,
   "metadata": {},
   "outputs": [
    {
     "data": {
      "text/plain": [
       "0"
      ]
     },
     "execution_count": 48,
     "metadata": {},
     "output_type": "execute_result"
    }
   ],
   "source": [
    "ss = 'สินค้าห่วยดีจริงๆ'\n",
    "get_sentiment(ss)"
   ]
  },
  {
   "cell_type": "code",
   "execution_count": 50,
   "metadata": {},
   "outputs": [
    {
     "data": {
      "text/plain": [
       "0"
      ]
     },
     "execution_count": 50,
     "metadata": {},
     "output_type": "execute_result"
    }
   ],
   "source": [
    "ss = 'สินค้าไม่ดีเลย'\n",
    "get_sentiment(ss)"
   ]
  }
 ],
 "metadata": {
  "kernelspec": {
   "display_name": "Python 3",
   "language": "python",
   "name": "python3"
  },
  "language_info": {
   "codemirror_mode": {
    "name": "ipython",
    "version": 3
   },
   "file_extension": ".py",
   "mimetype": "text/x-python",
   "name": "python",
   "nbconvert_exporter": "python",
   "pygments_lexer": "ipython3",
   "version": "3.6.5"
  }
 },
 "nbformat": 4,
 "nbformat_minor": 2
}
