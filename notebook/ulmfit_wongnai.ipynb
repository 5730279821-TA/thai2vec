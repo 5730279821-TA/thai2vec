{
 "cells": [
  {
   "cell_type": "markdown",
   "metadata": {},
   "source": [
    "# Thai2Vec Classification Using ULMFit\n",
    "\n",
    "This notebook demonstrates how to use the [ULMFit model](https://arxiv.org/abs/1801.06146) implemented by`thai2vec` for text classification. We use [Wongnai Challenge: Review Rating Prediction](https://www.kaggle.com/c/wongnai-challenge-review-rating-prediction) as our benchmark as it is the only sizeable and publicly available text classification dataset at the time of writing (June 21, 2018). It has 39,999 reviews for training and validation, and 6,203 reviews for testing. Our workflow is as follows:\n",
    "\n",
    "* Perform 75/15 train-validation split\n",
    "* Minimal text cleaning and tokenization using `newmm` engine of `pyThaiNLP`\n",
    "* Get embeddings of Wongnai dataset from all the data available (train and test sets)\n",
    "* Load pretrained Thai Wikipedia embeddings; for those embeddings which exist only in Wongnai dataset, we use the average of Wikipedia embeddings instead\n",
    "* Train language model based on all the data available on Wongnai dataset\n",
    "* Replace the top and train the classifier based on the training set by gradual unfreezing\n",
    "\n",
    "We achieved validation perplexity at 35.75113 and validation micro F1 score at 0.598 for five-label classification. Micro F1 scores for public and private leaderboards are 0.61451 and 0.60925 respectively (supposedly we could train further with the 15% validation set we did not use), which are state-of-the-art as of the time of writing (June 21, 2018)."
   ]
  },
  {
   "cell_type": "markdown",
   "metadata": {},
   "source": [
    "![alt text](misc/submission.jpg \"Submission\")"
   ]
  },
  {
   "cell_type": "markdown",
   "metadata": {},
   "source": [
    "![alt text](misc/leaderboard.jpg \"Leaderboards\")"
   ]
  },
  {
   "cell_type": "markdown",
   "metadata": {},
   "source": [
    "## Imports"
   ]
  },
  {
   "cell_type": "code",
   "execution_count": 2,
   "metadata": {},
   "outputs": [],
   "source": [
    "%reload_ext autoreload\n",
    "%autoreload 2\n",
    "%matplotlib inline\n",
    "\n",
    "import re\n",
    "import html\n",
    "import numpy as np\n",
    "import dill as pickle\n",
    "from IPython.display import Image\n",
    "from IPython.core.display import HTML \n",
    "from collections import Counter\n",
    "from sklearn.model_selection import train_test_split\n",
    "\n",
    "from fastai.text import *\n",
    "from pythainlp.tokenize import word_tokenize\n",
    "from utils import *\n",
    "\n",
    "\n",
    "DATA_PATH='/home/ubuntu/Projects/new2vec/wongnai_data/'\n",
    "RAW_PATH = f'{DATA_PATH}raw/'\n",
    "MODEL_PATH = f'{DATA_PATH}models/'\n",
    "\n",
    "raw_files = !ls {RAW_PATH}"
   ]
  },
  {
   "cell_type": "markdown",
   "metadata": {},
   "source": [
    "## Tran/Validation Sets\n",
    "\n",
    "We use data from [Wongnai Challenge: Review Rating Prediction](https://www.kaggle.com/c/wongnai-challenge-review-rating-prediction). The training data consists of 39,999 restaurant reviews from unknown number of reviewers labeled one to five stars, with the schema `(label,review)`. We use 75/15 train-validation split. The test set has 6,203 reviews from the same number of reviewers. No information accuracy is 46.9%."
   ]
  },
  {
   "cell_type": "code",
   "execution_count": 2,
   "metadata": {},
   "outputs": [],
   "source": [
    "raw_train = pd.read_csv(f'{RAW_PATH}w_review_train.csv',sep=';',header=None)\n",
    "raw_train = raw_train.iloc[:,[1,0]]\n",
    "raw_train.columns = ['label','review']\n",
    "raw_test = pd.read_csv(f'{RAW_PATH}test_file.csv',sep=';')\n",
    "submission =  pd.read_csv(f'{RAW_PATH}sample_submission.csv',sep=',')"
   ]
  },
  {
   "cell_type": "code",
   "execution_count": 3,
   "metadata": {},
   "outputs": [
    {
     "name": "stdout",
     "output_type": "stream",
     "text": [
      "(40000, 2)\n"
     ]
    },
    {
     "data": {
      "text/html": [
       "<div>\n",
       "<style scoped>\n",
       "    .dataframe tbody tr th:only-of-type {\n",
       "        vertical-align: middle;\n",
       "    }\n",
       "\n",
       "    .dataframe tbody tr th {\n",
       "        vertical-align: top;\n",
       "    }\n",
       "\n",
       "    .dataframe thead th {\n",
       "        text-align: right;\n",
       "    }\n",
       "</style>\n",
       "<table border=\"1\" class=\"dataframe\">\n",
       "  <thead>\n",
       "    <tr style=\"text-align: right;\">\n",
       "      <th></th>\n",
       "      <th>label</th>\n",
       "      <th>review</th>\n",
       "    </tr>\n",
       "  </thead>\n",
       "  <tbody>\n",
       "    <tr>\n",
       "      <th>0</th>\n",
       "      <td>3</td>\n",
       "      <td>ร้านอาหารใหญ่มากกกกกกก \\nเลี้ยวเข้ามาเจอห้องน้...</td>\n",
       "    </tr>\n",
       "    <tr>\n",
       "      <th>1</th>\n",
       "      <td>4</td>\n",
       "      <td>อาหารที่นี่เป็นอาหารจีนแคะที่หากินยากในบ้านเรา...</td>\n",
       "    </tr>\n",
       "    <tr>\n",
       "      <th>2</th>\n",
       "      <td>3</td>\n",
       "      <td>ปอเปี๊ยะสด ทุกวันนี้รู้สึกว่าหากินยาก (ร้านที่...</td>\n",
       "    </tr>\n",
       "    <tr>\n",
       "      <th>3</th>\n",
       "      <td>5</td>\n",
       "      <td>รัานคัพเค้กในเมืองไทยมีไม่มาก หลายๆคนอาจจะสงสั...</td>\n",
       "    </tr>\n",
       "    <tr>\n",
       "      <th>4</th>\n",
       "      <td>5</td>\n",
       "      <td>อร่อย!!! เดินผ่านDigital gatewayทุกวัน ไม่ยักร...</td>\n",
       "    </tr>\n",
       "  </tbody>\n",
       "</table>\n",
       "</div>"
      ],
      "text/plain": [
       "   label                                             review\n",
       "0      3  ร้านอาหารใหญ่มากกกกกกก \\nเลี้ยวเข้ามาเจอห้องน้...\n",
       "1      4  อาหารที่นี่เป็นอาหารจีนแคะที่หากินยากในบ้านเรา...\n",
       "2      3  ปอเปี๊ยะสด ทุกวันนี้รู้สึกว่าหากินยาก (ร้านที่...\n",
       "3      5  รัานคัพเค้กในเมืองไทยมีไม่มาก หลายๆคนอาจจะสงสั...\n",
       "4      5  อร่อย!!! เดินผ่านDigital gatewayทุกวัน ไม่ยักร..."
      ]
     },
     "execution_count": 3,
     "metadata": {},
     "output_type": "execute_result"
    }
   ],
   "source": [
    "print(raw_train.shape)\n",
    "raw_train.head()"
   ]
  },
  {
   "cell_type": "code",
   "execution_count": 4,
   "metadata": {},
   "outputs": [
    {
     "data": {
      "text/plain": [
       "Counter({3: 12171, 4: 18770, 5: 6799, 2: 1845, 1: 415})"
      ]
     },
     "execution_count": 4,
     "metadata": {},
     "output_type": "execute_result"
    }
   ],
   "source": [
    "cnt = Counter(raw_train['label'])\n",
    "cnt"
   ]
  },
  {
   "cell_type": "code",
   "execution_count": 5,
   "metadata": {},
   "outputs": [
    {
     "data": {
      "text/plain": [
       "0.46925"
      ]
     },
     "execution_count": 5,
     "metadata": {},
     "output_type": "execute_result"
    }
   ],
   "source": [
    "#baseline\n",
    "cnt.most_common(1)[0][1] / raw_train.shape[0]"
   ]
  },
  {
   "cell_type": "code",
   "execution_count": 6,
   "metadata": {},
   "outputs": [
    {
     "data": {
      "text/html": [
       "<div>\n",
       "<style scoped>\n",
       "    .dataframe tbody tr th:only-of-type {\n",
       "        vertical-align: middle;\n",
       "    }\n",
       "\n",
       "    .dataframe tbody tr th {\n",
       "        vertical-align: top;\n",
       "    }\n",
       "\n",
       "    .dataframe thead th {\n",
       "        text-align: right;\n",
       "    }\n",
       "</style>\n",
       "<table border=\"1\" class=\"dataframe\">\n",
       "  <thead>\n",
       "    <tr style=\"text-align: right;\">\n",
       "      <th></th>\n",
       "      <th>reviewID</th>\n",
       "      <th>review</th>\n",
       "    </tr>\n",
       "  </thead>\n",
       "  <tbody>\n",
       "    <tr>\n",
       "      <th>0</th>\n",
       "      <td>1</td>\n",
       "      <td>ร้านนี้จะอยู่เส้นสันกำแพง-แม่ออน เลยแยกบ่...</td>\n",
       "    </tr>\n",
       "    <tr>\n",
       "      <th>1</th>\n",
       "      <td>2</td>\n",
       "      <td>สั่งไป2 เมนู คือมัชฉะลาเต้ร้อน กับ ไอศครีมชาเข...</td>\n",
       "    </tr>\n",
       "    <tr>\n",
       "      <th>2</th>\n",
       "      <td>3</td>\n",
       "      <td>ครัววงเดือน  \\n\\nหิวดึกๆ ตระเวนหาร้านทาน มาเจอ...</td>\n",
       "    </tr>\n",
       "    <tr>\n",
       "      <th>3</th>\n",
       "      <td>4</td>\n",
       "      <td>จะว่าเป็นเจ้าประจำก็คงไม่ผิด แต่ก็ไม่กล้า...</td>\n",
       "    </tr>\n",
       "    <tr>\n",
       "      <th>4</th>\n",
       "      <td>5</td>\n",
       "      <td>ถ้าคิดถึงสลัดผมคิดถึงร้านนี้เป็นร้านแรกๆเลยครั...</td>\n",
       "    </tr>\n",
       "  </tbody>\n",
       "</table>\n",
       "</div>"
      ],
      "text/plain": [
       "   reviewID                                             review\n",
       "0         1       ร้านนี้จะอยู่เส้นสันกำแพง-แม่ออน เลยแยกบ่...\n",
       "1         2  สั่งไป2 เมนู คือมัชฉะลาเต้ร้อน กับ ไอศครีมชาเข...\n",
       "2         3  ครัววงเดือน  \\n\\nหิวดึกๆ ตระเวนหาร้านทาน มาเจอ...\n",
       "3         4       จะว่าเป็นเจ้าประจำก็คงไม่ผิด แต่ก็ไม่กล้า...\n",
       "4         5  ถ้าคิดถึงสลัดผมคิดถึงร้านนี้เป็นร้านแรกๆเลยครั..."
      ]
     },
     "execution_count": 6,
     "metadata": {},
     "output_type": "execute_result"
    }
   ],
   "source": [
    "raw_test.head()"
   ]
  },
  {
   "cell_type": "code",
   "execution_count": 7,
   "metadata": {},
   "outputs": [
    {
     "data": {
      "text/html": [
       "<div>\n",
       "<style scoped>\n",
       "    .dataframe tbody tr th:only-of-type {\n",
       "        vertical-align: middle;\n",
       "    }\n",
       "\n",
       "    .dataframe tbody tr th {\n",
       "        vertical-align: top;\n",
       "    }\n",
       "\n",
       "    .dataframe thead th {\n",
       "        text-align: right;\n",
       "    }\n",
       "</style>\n",
       "<table border=\"1\" class=\"dataframe\">\n",
       "  <thead>\n",
       "    <tr style=\"text-align: right;\">\n",
       "      <th></th>\n",
       "      <th>reviewID</th>\n",
       "      <th>rating</th>\n",
       "    </tr>\n",
       "  </thead>\n",
       "  <tbody>\n",
       "    <tr>\n",
       "      <th>0</th>\n",
       "      <td>1</td>\n",
       "      <td>4</td>\n",
       "    </tr>\n",
       "    <tr>\n",
       "      <th>1</th>\n",
       "      <td>2</td>\n",
       "      <td>3</td>\n",
       "    </tr>\n",
       "    <tr>\n",
       "      <th>2</th>\n",
       "      <td>3</td>\n",
       "      <td>3</td>\n",
       "    </tr>\n",
       "    <tr>\n",
       "      <th>3</th>\n",
       "      <td>4</td>\n",
       "      <td>4</td>\n",
       "    </tr>\n",
       "  </tbody>\n",
       "</table>\n",
       "</div>"
      ],
      "text/plain": [
       "   reviewID  rating\n",
       "0         1       4\n",
       "1         2       3\n",
       "2         3       3\n",
       "3         4       4"
      ]
     },
     "execution_count": 7,
     "metadata": {},
     "output_type": "execute_result"
    }
   ],
   "source": [
    "submission.head()"
   ]
  },
  {
   "cell_type": "code",
   "execution_count": 91,
   "metadata": {},
   "outputs": [],
   "source": [
    "#test df\n",
    "raw_test = pd.read_csv(f'{RAW_PATH}test_file.csv',sep=';')\n",
    "raw_test.head()\n",
    "df_tst = pd.DataFrame({'label':raw_test['reviewID'],'review':raw_test['review']})\n",
    "df_tst.to_csv(f'{DATA_PATH}test.csv', header=False, index=False)"
   ]
  },
  {
   "cell_type": "code",
   "execution_count": 9,
   "metadata": {},
   "outputs": [],
   "source": [
    "#train/validation/train_language_model split\n",
    "df_trn, df_val = train_test_split(raw_train, test_size = 0.15, random_state = 1412)\n",
    "df_lm = pd.concat([df_trn,df_tst])\n",
    "\n",
    "df_lm.to_csv(f'{DATA_PATH}train_lm.csv', header=False, index=False)\n",
    "df_trn.to_csv(f'{DATA_PATH}train.csv', header=False, index=False)\n",
    "df_val.to_csv(f'{DATA_PATH}valid.csv', header=False, index=False)"
   ]
  },
  {
   "cell_type": "code",
   "execution_count": 10,
   "metadata": {},
   "outputs": [
    {
     "data": {
      "text/plain": [
       "((34000, 2), (6000, 2), (40203, 2))"
      ]
     },
     "execution_count": 10,
     "metadata": {},
     "output_type": "execute_result"
    }
   ],
   "source": [
    "df_trn.shape,df_val.shape,df_lm.shape"
   ]
  },
  {
   "cell_type": "markdown",
   "metadata": {},
   "source": [
    "## Language Modeling"
   ]
  },
  {
   "cell_type": "markdown",
   "metadata": {},
   "source": [
    "### Text Processing"
   ]
  },
  {
   "cell_type": "markdown",
   "metadata": {},
   "source": [
    "We first determine the vocab for the reviews, then train a language model based on our training set. We perform the following minimal text processing:\n",
    "* The token `xbos` is used to note start of a text since we will be chaining them together for the language model training. \n",
    "* `pyThaiNLP`'s `newmm` word tokenizer is used to tokenize the texts.\n",
    "* `tkrep` is used to replace repetitive characters such as `อร่อยมากกกกกก` becoming `อรอ่ยมาtkrep6ก`"
   ]
  },
  {
   "cell_type": "code",
   "execution_count": null,
   "metadata": {},
   "outputs": [],
   "source": [
    "max_vocab = 60000\n",
    "min_freq = 2\n",
    "\n",
    "df_lm = pd.read_csv(f'{DATA_PATH}train_lm.csv',header=None,chunksize=30000)\n",
    "df_val = pd.read_csv(f'{DATA_PATH}valid.csv',header=None,chunksize=30000)\n",
    "\n",
    "trn_lm,trn_tok,trn_labels,itos_cls,stoi_cls,freq = numericalizer(df_trn)\n",
    "val_lm,val_tok,val_labels,itos_cls,stoi_cls,freq = numericalizer(df_val)"
   ]
  },
  {
   "cell_type": "code",
   "execution_count": 12,
   "metadata": {},
   "outputs": [],
   "source": [
    "# np.save(f'{MODEL_PATH}trn_tok.npy', trn_tok)\n",
    "# np.save(f'{MODEL_PATH}val_tok.npy', val_tok)\n",
    "# np.save(f'{MODEL_PATH}trn_lm.npy', trn_lm)\n",
    "# np.save(f'{MODEL_PATH}val_lm.npy', val_lm)\n",
    "# pickle.dump(itos_cls, open(f'{MODEL_PATH}itos_cls.pkl', 'wb'))"
   ]
  },
  {
   "cell_type": "code",
   "execution_count": 13,
   "metadata": {},
   "outputs": [],
   "source": [
    "tok_lm = np.load(f'{MODEL_PATH}tok_lm.npy')\n",
    "tok_val = np.load(f'{MODEL_PATH}tok_val.npy')"
   ]
  },
  {
   "cell_type": "code",
   "execution_count": 20,
   "metadata": {},
   "outputs": [
    {
     "data": {
      "text/plain": [
       "array([list(['xbos', 'ถ้า', 'ใคร', 'เกิด', 'ทัน', 'ก็', 'จะ', 'รู้จัก', 'เพลง', 'นี้', 'ของ', 'พี่', 'เจมส์', 'เค้า', ' ', 'นู๋', 'ไม่', 'รู้จัก', 'หรอก', 'ค่ะ', ' ', 'พอดี', 'คุณพ่อ', 'เปิด', 'ให้', 'ฟัง', ' ', '^^', ' ', '(', 'ทำ', 'หน้า', 'บ๊อง', 'แบ๊ว)', '\\n', '\\n', 'มา', 'เข้าเรื่อง', 'กัน', 'ดีกว่า', 'ค่ะ', ' ', 'ข้าวมันไก่', 'ร้าน', 'นี้', 'ทราบ', 'มา', 'นาน', 'แล้ว', 'ค่ะ', ' ', 'จาก', 'จอ', 'ทีวี', ' ', 'แต่', 'ไม่', 'มีโอกาส', 'ได้', 'กิน', 'ซะ', 'ที', ' ', 'เพราะ', 'ไก', 'ล๊', ' ', 'ไกล', 'จาก', 'บ้าน', ' ', 'แต่', 'แล้ว', 'วัน', 'นึง', 'โชคชะตา', 'ก็', 'พา', 'มา', 'ให้', 'พา', 'นพ', 'บ.', '..', ' ', 'จนได้', 'กิน', ' ', '!', ' ', '\\n', '\\n', '\\n', 'ร้าน', 'นี้', 'เค้า', 'มี', 'ทั้ง', 'ไก่', 'ต้ม', 'และ', 'ไก่ทอด', 'ค่ะ', ' ', 'แต่', 'ชอบ', 'กิน', 'ไก่', 'ต้ม', 'มากกว่า', ' ', 'เลย', 'ขอ', 'เล่าเรื่อง', 'ไก่', 'ให้', 'ฟัง', 'ดังนี้', ' ', 'tkrep', '4.', ' ', '\\n', '\\n', 'ไก่', 'สับ', 'ที่นี่', 'เค้า', 'ไม่', 'บี้', ' ', 'ไม่', ' ', 'slide', ' ', 'ไม่', 'ตบ', 'แบน', 'ติด', 'เขียง', ' ', 'เรียก', 'ว่า', 'เลาะ', 'ออก', 'มาจาก', 'ตัว', 'ไก่', 'ยังไง', 'ก็', 'จัด', 'สวย', 'ลง', 'จาน', 'เลย', ' ', 'เนื้อไก่', 'จึง', 'เป็น', 'ฟู', 'เป็น', 'ชิ้นๆ', ' ', 'เนื้อ', 'ไม่', 'เละ', ' ', 'พอดี', 'คำโต', 'ๆ', ' ', '\\n', '\\n', 'เครื่องใน', 'เค้า', 'ก็', 'เด็ด', 'นะคะ', ' ', 'ไม่', 'เหนียว', 'จน', 'เกินไป', ' ', 'พอดี', 'เคี้ยว', 'กำลัง', 'มัน', ' ', 'ที่', 'สำคัญ', 'ไม่มี', 'กลิ่น', 'เครื่องใน', 'ให้', 'ลำบากใจ', 'เวลา', 'กิน', ' ', '\\n', '\\n', 'ข้าวมัน', ' ', 'อีก', 'ปัจจัยหลัก', 'ของ', 'เมนู', 'นี้', ' ', 'ข้าว', 'ไม่', 'นิ่ม', ' ', 'ไม่', 'แข็ง', ' ', 'ออก', 'แนว', 'ร่วน', 'ๆ', ' ', 'เมื่อ', 'ราด', 'ด้วย', 'ซีอิ้ว', 'หวาน', 'จึง', 'หนึบ', 'หนับ', ' ', 'กำลังดี', '\\n', '\\n', 'น้ำแกง', 'จัด', 'ให้', ' ', '2', ' ', 'รส', 'ชาด', ' ', 'จัดจ้าน', 'กับ', 'ดั้งเดิม', ' ', '\\n', 'ที่', 'บอ', 'กว่า', 'จัดจ้าน', 'นี่', 'น้ำ', 'ซุป', 'ต้มยำ', 'น้ำ', 'ใส', 'นี่เอง', ' ', 'เผ็ด', ' ', 'เด็ด', ' ', 'ได้ใจ', ' ', 'ทาน', 'กับ', 'ไก่', ' ', 'เพลิน', 'ๆ', ' ', 'ไป', ' ', '\\n', '\\n', 'สำหรับ', 'รส', 'ชาด', 'ดั้งเดิม', ' ', 'น้ำแกง', 'กลมกล่อม', ' ', 'เชงๆ', ' ', 'ดี', 'ค่ะ', ' ', '\\n', '\\n', 'และ', 'ที่', 'ขาดไม่ได้', 'เลย', 'คือ', 'น้ำจิ้ม', ' ', 'อันนี้', 'พี่', 'เค้า', 'ใจดี', ' ', 'ให้', 'พริก', ' ', 'ให้', 'ขิง', 'มา', 'เป็น', 'ถ้วย', ' ', 'แบบ', 'ว่า', 'ไม่ต้อง', 'ขอ', 'เพิ่ม', ' ', 'จะ', 'กิน', 'กะ', 'ข้าว', 'แทน', 'ไก่', 'เลย', 'ก็ได้', ' ', 'อิอิ', ' ', '\\n', '\\n', 'ร้าน', 'นี้', 'เค้า', 'มี', 'ลูกชิ้น', 'ปิ้ง', 'ด้วย', 'นะคะ', ' ', 'แต่', 'รส', 'ชาด', 'แล้วแต่', 'อารมณ์', 'ค่ะ', ' ', 'ไป', 'กิน', 'มา', 'แต่ละ', 'สัปดาห์', ' ', 'รส', 'ชาด', 'ไม่', 'เหมือนกัน', 'ซะ', 'ที', ' ', 'จึง', 'ขอ', 'ยก', 'ฉายา', 'ลูก', 'ขิ้', 'น', ' ', 'Random', ' ', 'ให้', 'ไป', 'เล้ย', 'ยย', ' ', '\\n', '\\n', 'ผ่าน', 'ไป', 'แถว', 'นั้น', 'ก็', 'แวะ', 'ซะ', 'หน่อย', 'นะคะ', ' ', 'อยาก', 'กิน', 'ของ', 'อร่อย', 'ก็', 'ต้อง', 'ไป', 'ไกล', 'กัน', 'นิ', 'ส', 'นึง', 'นะคะ', ' ', 'เอาเป็นว่า', 'อย่า', 'ทาน', 'ไก่', 'เยอะ', ' ', 'เด่', 'ว', 'เป็น', \"'เก๊า'\", 'tkrep', '5.', ' ', '\"เก๊า', 'รัก', 'ตะเอง', 'อ่ะ', 'ค๊', 'tkrep', '4', 'า\"'])],\n",
       "      dtype=object)"
      ]
     },
     "execution_count": 20,
     "metadata": {},
     "output_type": "execute_result"
    }
   ],
   "source": [
    "tok_lm[:1]"
   ]
  },
  {
   "cell_type": "code",
   "execution_count": 27,
   "metadata": {},
   "outputs": [
    {
     "data": {
      "text/plain": [
       "array([list([22, 60, 134, 1310, 2493, 9, 18, 865, 890, 16, 38, 534, 10325, 126, 2, 7671, 10, 865, 1758, 12, 2, 236, 2500, 111, 25, 929, 2, 517, 2, 45, 121, 109, 0, 0, 3, 3, 5, 4613, 51, 396, 12, 2, 672, 4, 16, 1870, 5, 190, 37, 12, 2, 97, 2367, 2787, 2, 14, 10, 456, 21, 34, 377, 470, 2, 57, 2052, 4526, 2, 637, 97, 213, 2, 14, 37, 255, 285, 14227, 9, 389, 5, 25, 389, 9310, 1050, 231, 2, 2788, 34, 2, 466, 2, 3, 3, 3, 4, 16, 126, 8, 71, 127, 353, 20, 393, 12, 2, 14, 47, 34, 127, 353, 335, 2, 11, 166, 11857, 127, 25, 929, 1848, 2, 58, 550, 2, 3, 3, 127, 1154, 113, 126, 10, 4407, 2, 10, 2, 16979, 2, 10, 3201, 2451, 215, 5024, 2, 352, 32, 3881, 139, 403, 91, 127, 670, 9, 141, 299, 288, 65, 11, 2, 1090, 454, 13, 725, 13, 2098, 2, 55, 10, 994, 2, 236, 4527, 7, 2, 3, 3, 1081, 126, 9, 267, 78, 2, 10, 295, 168, 354, 2, 236, 737, 603, 66, 2, 6, 576, 140, 259, 1081, 25, 15430, 252, 34, 2, 3, 3, 1596, 2, 61, 15431, 38, 28, 16, 2, 85, 10, 504, 2, 10, 500, 2, 139, 404, 1673, 7, 2, 322, 188, 39, 1570, 59, 454, 997, 2288, 2, 229, 3, 3, 1675, 141, 25, 2, 83, 2, 63, 356, 2, 495, 30, 1293, 2, 3, 6, 254, 75, 495, 136, 56, 120, 247, 56, 483, 2414, 2, 171, 2, 267, 2, 1629, 2, 23, 30, 127, 2, 505, 7, 2, 15, 2, 3, 3, 99, 63, 356, 1293, 2, 1675, 276, 2, 0, 2, 24, 12, 2, 3, 3, 20, 6, 2271, 11, 49, 164, 2, 298, 534, 126, 960, 2, 25, 303, 2, 25, 1197, 5, 13, 355, 2, 41, 32, 292, 166, 177, 2, 18, 34, 385, 85, 733, 127, 11, 333, 2, 837, 2, 3, 3, 4, 16, 126, 8, 309, 283, 39, 78, 2, 14, 63, 356, 862, 976, 12, 2, 15, 34, 5, 575, 3439, 2, 63, 356, 10, 359, 377, 470, 2, 454, 166, 756, 15432, 394, 8465, 90, 2, 0, 2, 25, 15, 4823, 1424, 2, 3, 3, 178, 15, 264, 217, 9, 145, 377, 79, 78, 2, 104, 34, 38, 17, 9, 52, 15, 637, 51, 525, 128, 285, 78, 2, 1552, 462, 23, 127, 43, 2, 5352, 475, 13, 0, 58, 1058, 2, 0, 1152, 13286, 430, 4873, 58, 69, 0])],\n",
       "      dtype=object)"
      ]
     },
     "execution_count": 27,
     "metadata": {},
     "output_type": "execute_result"
    }
   ],
   "source": [
    "#numericalized tokenized texts\n",
    "trn_lm[:1]"
   ]
  },
  {
   "cell_type": "code",
   "execution_count": 28,
   "metadata": {},
   "outputs": [
    {
     "data": {
      "text/plain": [
       "['_unk_', '_pad_', ' ', '\\n', 'ร้าน', 'มา', 'ที่', 'ๆ', 'มี', 'ก็']"
      ]
     },
     "execution_count": 28,
     "metadata": {},
     "output_type": "execute_result"
    }
   ],
   "source": [
    "#index to token\n",
    "itos_cls[:10]"
   ]
  },
  {
   "cell_type": "markdown",
   "metadata": {},
   "source": [
    "### Load Pretrained Language Model"
   ]
  },
  {
   "cell_type": "markdown",
   "metadata": {},
   "source": [
    "Instead of starting from random weights, we import the language model pretrained on Wikipedia (see `pretrained_wiki.ipynb`). For words that appear only in the Wongnai dataset but not Wikipedia, we start with the average of all embeddings instead. Max vocab size is set at 60,000 and minimum frequency of 2 consistent with the pretrained model. We ended up with 19,998 embeddings for all reviews."
   ]
  },
  {
   "cell_type": "code",
   "execution_count": 29,
   "metadata": {},
   "outputs": [],
   "source": [
    "em_sz = 300\n",
    "vocab_size = len(itos_cls)\n",
    "wgts = torch.load(f'{MODEL_PATH}thwiki_model2.h5', map_location=lambda storage, loc: storage)\n",
    "itos_pre = pickle.load(open(f'{MODEL_PATH}itos_pre.pkl','rb'))\n",
    "stoi_pre = collections.defaultdict(lambda:-1, {v:k for k,v in enumerate(itos_pre)})"
   ]
  },
  {
   "cell_type": "code",
   "execution_count": 30,
   "metadata": {},
   "outputs": [],
   "source": [
    "#pretrained weights\n",
    "wgts = pretrained_wgts(em_sz, wgts, itos_pre, itos_cls)"
   ]
  },
  {
   "cell_type": "markdown",
   "metadata": {},
   "source": [
    "### Train Language Model"
   ]
  },
  {
   "cell_type": "code",
   "execution_count": 35,
   "metadata": {},
   "outputs": [],
   "source": [
    "em_sz,nh,nl = 300,1150,3\n",
    "wd=1e-7\n",
    "bptt=70\n",
    "bs=60\n",
    "opt_fn = partial(optim.Adam, betas=(0.8, 0.99))\n",
    "weight_factor = 0.7\n",
    "drops = np.array([0.25, 0.1, 0.2, 0.02, 0.15])*weight_factor"
   ]
  },
  {
   "cell_type": "code",
   "execution_count": 36,
   "metadata": {},
   "outputs": [],
   "source": [
    "#data loader\n",
    "trn_dl = LanguageModelLoader(np.concatenate(trn_lm), bs, bptt)\n",
    "val_dl = LanguageModelLoader(np.concatenate(val_lm), bs, bptt)\n",
    "md = LanguageModelData(path=DATA_PATH, pad_idx=1, n_tok=vocab_size, \n",
    "                       trn_dl=trn_dl, val_dl=val_dl, bs=bs, bptt=bptt)"
   ]
  },
  {
   "cell_type": "code",
   "execution_count": 37,
   "metadata": {},
   "outputs": [],
   "source": [
    "#model fitter\n",
    "learner= md.get_model(opt_fn, em_sz, nh, nl, \n",
    "    dropouti=drops[0], dropout=drops[1], wdrop=drops[2], dropoute=drops[3], dropouth=drops[4])\n",
    "learner.metrics = [accuracy]"
   ]
  },
  {
   "cell_type": "code",
   "execution_count": 38,
   "metadata": {},
   "outputs": [],
   "source": [
    "#load the saved models + new embeddings\n",
    "learner.model.load_state_dict(wgts)"
   ]
  },
  {
   "cell_type": "code",
   "execution_count": 39,
   "metadata": {},
   "outputs": [
    {
     "data": {
      "application/vnd.jupyter.widget-view+json": {
       "model_id": "5d40f89b3c394c01813da912e502ba74",
       "version_major": 2,
       "version_minor": 0
      },
      "text/plain": [
       "HBox(children=(IntProgress(value=0, description='Epoch', max=1), HTML(value='')))"
      ]
     },
     "metadata": {},
     "output_type": "display_data"
    },
    {
     "name": "stdout",
     "output_type": "stream",
     "text": [
      "  7%|▋         | 100/1505 [01:04<15:01,  1.56it/s, loss=6.24]"
     ]
    },
    {
     "data": {
      "image/png": "[encoded data removed]",
      "text/plain": [
       "<Figure size 432x864 with 3 Axes>"
      ]
     },
     "metadata": {},
     "output_type": "display_data"
    }
   ],
   "source": [
    "#find optimal learning rate\n",
    "learner.lr_find2(start_lr = 1e-6, end_lr=0.1)\n",
    "learner.sched.plot()"
   ]
  },
  {
   "cell_type": "code",
   "execution_count": 40,
   "metadata": {},
   "outputs": [
    {
     "data": {
      "text/plain": [
       "0.003"
      ]
     },
     "execution_count": 40,
     "metadata": {},
     "output_type": "execute_result"
    }
   ],
   "source": [
    "#optimal learning rate\n",
    "lr=3e-3\n",
    "lr"
   ]
  },
  {
   "cell_type": "code",
   "execution_count": 41,
   "metadata": {},
   "outputs": [
    {
     "data": {
      "application/vnd.jupyter.widget-view+json": {
       "model_id": "0a6bb394fd984cdc9b0bc859fa0220a9",
       "version_major": 2,
       "version_minor": 0
      },
      "text/plain": [
       "HBox(children=(IntProgress(value=0, description='Epoch', max=1), HTML(value='')))"
      ]
     },
     "metadata": {},
     "output_type": "display_data"
    },
    {
     "name": "stdout",
     "output_type": "stream",
     "text": [
      "  1%|          | 12/1505 [00:04<09:11,  2.71it/s, loss=6.3]\n",
      "epoch      trn_loss   val_loss   accuracy   \n",
      "    0      4.511123   4.282623   0.273628  \n",
      "\n"
     ]
    },
    {
     "data": {
      "text/plain": [
       "[array([4.28262]), 0.27362753365088155]"
      ]
     },
     "execution_count": 41,
     "metadata": {},
     "output_type": "execute_result"
    }
   ],
   "source": [
    "#train while frozen once to warm up\n",
    "learner.freeze_to(-1)\n",
    "learner.fit(lr, 1, wds=wd, use_clr=(20,5), cycle_len=1)"
   ]
  },
  {
   "cell_type": "code",
   "execution_count": 42,
   "metadata": {},
   "outputs": [
    {
     "data": {
      "application/vnd.jupyter.widget-view+json": {
       "model_id": "dbfef539ab124595990f3ea62f6fccf7",
       "version_major": 2,
       "version_minor": 0
      },
      "text/plain": [
       "HBox(children=(IntProgress(value=0, description='Epoch', max=5), HTML(value='')))"
      ]
     },
     "metadata": {},
     "output_type": "display_data"
    },
    {
     "name": "stdout",
     "output_type": "stream",
     "text": [
      "epoch      trn_loss   val_loss   accuracy   \n",
      "    0      4.095722   3.914765   0.308273  \n",
      "    1      3.879626   3.747322   0.323322  \n",
      "    2      3.732741   3.659595   0.332689  \n",
      "    3      3.619128   3.607434   0.33802   \n",
      "    4      3.536444   3.576582   0.341772  \n",
      "\n"
     ]
    },
    {
     "data": {
      "text/plain": [
       "[array([3.57658]), 0.34177228419008887]"
      ]
     },
     "execution_count": 42,
     "metadata": {},
     "output_type": "execute_result"
    }
   ],
   "source": [
    "#use_clr (peak as ratio of lr, iterations to grow and descend e.g. 10 is 1/10 grow and 9/10 descend)\n",
    "learner.unfreeze()\n",
    "learner.fit(lr, 1, wds=wd, use_clr=(20,5), cycle_len=5)"
   ]
  },
  {
   "cell_type": "code",
   "execution_count": 43,
   "metadata": {},
   "outputs": [
    {
     "data": {
      "image/png": "[encoded data removed]",
      "text/plain": [
       "<Figure size 432x288 with 1 Axes>"
      ]
     },
     "metadata": {},
     "output_type": "display_data"
    }
   ],
   "source": [
    "learner.sched.plot_loss()"
   ]
  },
  {
   "cell_type": "code",
   "execution_count": 44,
   "metadata": {},
   "outputs": [],
   "source": [
    "learner.save('wongnai_lm')\n",
    "learner.save_encoder('wongnai_enc')"
   ]
  },
  {
   "cell_type": "markdown",
   "metadata": {},
   "source": [
    "## Classification"
   ]
  },
  {
   "cell_type": "markdown",
   "metadata": {},
   "source": [
    "With the language model trained on Wongnai dataset, we use its embeddings to initialize the review classifier. We train the classifier using discriminative learning rates, slanted triangular learning rates, gradual unfreezing and a few other tricks detailed in the [ULMFit paper](https://arxiv.org/abs/1801.06146). We have found that training only the last two layers of the model seems to be the right balance for this dataset."
   ]
  },
  {
   "cell_type": "markdown",
   "metadata": {},
   "source": [
    "### Load Tokenized Texts and Labels"
   ]
  },
  {
   "cell_type": "code",
   "execution_count": 3,
   "metadata": {},
   "outputs": [],
   "source": [
    "#load csvs and tokenizer\n",
    "max_vocab = 60000\n",
    "min_freq = 2\n",
    "df_trn = pd.read_csv(f'{DATA_PATH}train.csv',header=None,chunksize=30000)\n",
    "df_val = pd.read_csv(f'{DATA_PATH}valid.csv',header=None,chunksize=30000)\n",
    "df_tst = pd.read_csv(f'{DATA_PATH}test.csv',header=None,chunksize=30000)\n",
    "\n",
    "trn_cls,trn_tok,trn_labels,itos_cls,stoi_cls,freq = numericalizer(df_trn)\n",
    "val_cls,val_tok,val_labels,itos_cls,stoi_cls,freq = numericalizer(df_val)\n",
    "tst_cls,tst_tok,tst_labels,itos_cls,stoi_cls,freq = numericalizer(df_tst)"
   ]
  },
  {
   "cell_type": "code",
   "execution_count": 4,
   "metadata": {},
   "outputs": [],
   "source": [
    "#get labels\n",
    "trn_labels = np.squeeze(trn_labels)\n",
    "val_labels = np.squeeze(val_labels)\n",
    "tst_labels = np.squeeze(tst_labels)\n",
    "min_lbl = trn_labels.min()\n",
    "trn_labels -= min_lbl\n",
    "val_labels -= min_lbl"
   ]
  },
  {
   "cell_type": "markdown",
   "metadata": {},
   "source": [
    "### Create Data Loader"
   ]
  },
  {
   "cell_type": "code",
   "execution_count": 23,
   "metadata": {},
   "outputs": [],
   "source": [
    "#dataset object\n",
    "bs = 60\n",
    "trn_ds = TextDataset(trn_cls, trn_labels)\n",
    "val_ds = TextDataset(val_cls, val_labels)\n",
    "tst_ds = TextDataset(tst_cls, tst_labels)\n",
    "\n",
    "#sampler\n",
    "trn_samp = SortishSampler(trn_cls, key=lambda x: len(trn_cls[x]), bs=bs//2)\n",
    "val_samp = SortSampler(val_cls, key=lambda x: len(val_cls[x]))\n",
    "tst_samp = SortSampler(tst_cls, key=lambda x: len(tst_cls[x]))\n",
    "\n",
    "#data loader\n",
    "trn_dl = DataLoader(trn_ds, bs//2, transpose=True, num_workers=1, pad_idx=1, sampler=trn_samp)\n",
    "val_dl = DataLoader(val_ds, bs, transpose=True, num_workers=1, pad_idx=1, sampler=val_samp)\n",
    "tst_dl = DataLoader(tst_ds, bs, transpose=True, num_workers=1, pad_idx=1, sampler=tst_samp)\n",
    "md = ModelData(DATA_PATH, trn_dl, val_dl, tst_dl)"
   ]
  },
  {
   "cell_type": "markdown",
   "metadata": {},
   "source": [
    "### Train Classifier"
   ]
  },
  {
   "cell_type": "code",
   "execution_count": 24,
   "metadata": {},
   "outputs": [],
   "source": [
    "#parameters\n",
    "weight_factor = 0.5\n",
    "drops = np.array([0.25, 0.1, 0.2, 0.02, 0.15])*weight_factor\n",
    "bptt = 70\n",
    "em_sz = 300\n",
    "nh = 1150\n",
    "nl = 3\n",
    "vocab_size = len(itos_cls)\n",
    "nb_class=int(trn_labels.max())+1\n",
    "opt_fn = partial(optim.Adam, betas=(0.7, 0.99))\n",
    "bs = 60\n",
    "wd = 1e-7\n",
    "\n",
    "#classifier model\n",
    "# em_sz*3 for max, mean, just activations\n",
    "m = get_rnn_classifer(bptt, max_seq=1000, n_class=nb_class, \n",
    "          n_tok=vocab_size, emb_sz=em_sz, n_hid=nh, n_layers=nl, pad_token=1,\n",
    "          layers=[em_sz*3, 50, nb_class], drops=[drops[4], 0.1],\n",
    "          dropouti=drops[0], wdrop=drops[1], dropoute=drops[2], dropouth=drops[3])"
   ]
  },
  {
   "cell_type": "code",
   "execution_count": 25,
   "metadata": {},
   "outputs": [],
   "source": [
    "#get learner\n",
    "learner = RNN_Learner(md, TextModel(to_gpu(m)), opt_fn=opt_fn)\n",
    "learner.reg_fn = partial(seq2seq_reg, alpha=2, beta=1)\n",
    "learner.clip=25.\n",
    "learner.metrics = [accuracy]\n",
    "#load encoder trained earlier\n",
    "learner.load_encoder('wongnai_enc')"
   ]
  },
  {
   "cell_type": "code",
   "execution_count": 54,
   "metadata": {},
   "outputs": [
    {
     "data": {
      "application/vnd.jupyter.widget-view+json": {
       "model_id": "ac7b2809a4994be69f561e16dbc90cfd",
       "version_major": 2,
       "version_minor": 0
      },
      "text/plain": [
       "HBox(children=(IntProgress(value=0, description='Epoch', max=1), HTML(value='')))"
      ]
     },
     "metadata": {},
     "output_type": "display_data"
    },
    {
     "name": "stdout",
     "output_type": "stream",
     "text": [
      "  7%|▋         | 79/1134 [01:42<22:53,  1.30s/it, loss=8.44]"
     ]
    },
    {
     "data": {
      "image/png": "[encoded data removed]",
      "text/plain": [
       "<Figure size 432x864 with 3 Axes>"
      ]
     },
     "metadata": {},
     "output_type": "display_data"
    }
   ],
   "source": [
    "#find learning rate\n",
    "learner.lr_find2()\n",
    "learner.sched.plot()"
   ]
  },
  {
   "cell_type": "code",
   "execution_count": 26,
   "metadata": {},
   "outputs": [],
   "source": [
    "#set learning rate\n",
    "lr=1e-2\n",
    "lrm = 2.6\n",
    "lrs = np.array([lr/(lrm**4), lr/(lrm**3), lr/(lrm**2), lr/lrm, lr])"
   ]
  },
  {
   "cell_type": "code",
   "execution_count": 78,
   "metadata": {},
   "outputs": [
    {
     "data": {
      "application/vnd.jupyter.widget-view+json": {
       "model_id": "b114efd418994d7eab7235dd9e4e1e56",
       "version_major": 2,
       "version_minor": 0
      },
      "text/plain": [
       "HBox(children=(IntProgress(value=0, description='Epoch', max=10), HTML(value='')))"
      ]
     },
     "metadata": {},
     "output_type": "display_data"
    },
    {
     "name": "stdout",
     "output_type": "stream",
     "text": [
      "epoch      trn_loss   val_loss   accuracy   \n",
      "    0      1.03257    1.014478   0.531256  \n",
      "    1      1.019011   0.968788   0.566125  \n",
      "    2      1.045126   0.976428   0.558807  \n",
      "    3      1.032724   1.164531   0.509732  \n",
      "    4      1.0261     0.953859   0.549482  \n",
      "    5      1.026541   0.950932   0.559384  \n",
      "    6      1.006381   0.951118   0.564206  \n",
      "    7      0.975582   0.941487   0.555978  \n",
      "    8      0.987828   0.953995   0.548112  \n",
      "    9      0.987048   0.926532   0.56664   \n",
      "\n"
     ]
    }
   ],
   "source": [
    "#train last layer\n",
    "learner.freeze_to(-1)\n",
    "learner.fit(lrs, 1, wds=wd, cycle_len=10, use_clr=(10,10))\n",
    "learner.save('last_layer')"
   ]
  },
  {
   "cell_type": "code",
   "execution_count": 27,
   "metadata": {},
   "outputs": [
    {
     "data": {
      "application/vnd.jupyter.widget-view+json": {
       "model_id": "98095b1ac7844390921aefaf6e68a9a6",
       "version_major": 2,
       "version_minor": 0
      },
      "text/plain": [
       "HBox(children=(IntProgress(value=0, description='Epoch', max=3), HTML(value='')))"
      ]
     },
     "metadata": {},
     "output_type": "display_data"
    },
    {
     "name": "stdout",
     "output_type": "stream",
     "text": [
      "epoch      trn_loss   val_loss   accuracy   \n",
      "    0      0.964691   0.899958   0.58868   \n",
      "    1      0.911452   0.863991   0.61303   \n",
      "    2      0.812086   0.855272   0.626525  \n",
      "\n"
     ]
    }
   ],
   "source": [
    "#train last two layers\n",
    "learner.load('last_layer')\n",
    "learner.freeze_to(-2)\n",
    "learner.fit(lrs, 1, wds=wd, cycle_len=3, use_clr=(8,3))\n",
    "learner.save('last_two_layers')"
   ]
  },
  {
   "cell_type": "markdown",
   "metadata": {},
   "source": [
    "## Validation Performance"
   ]
  },
  {
   "cell_type": "code",
   "execution_count": 28,
   "metadata": {},
   "outputs": [],
   "source": [
    "learner.load('last_two_layers')\n",
    "#get validation performance\n",
    "probs,y= learner.predict_with_targs()\n",
    "preds = np.argmax(np.exp(probs),1)"
   ]
  },
  {
   "cell_type": "code",
   "execution_count": 29,
   "metadata": {},
   "outputs": [
    {
     "data": {
      "text/plain": [
       "Counter({3: 3743, 2: 1474, 1: 153, 4: 598, 0: 32})"
      ]
     },
     "execution_count": 29,
     "metadata": {},
     "output_type": "execute_result"
    }
   ],
   "source": [
    "Counter(preds)"
   ]
  },
  {
   "cell_type": "code",
   "execution_count": 30,
   "metadata": {},
   "outputs": [
    {
     "data": {
      "text/plain": [
       "Counter({4: 1056, 3: 2784, 1: 267, 2: 1828, 0: 65})"
      ]
     },
     "execution_count": 30,
     "metadata": {},
     "output_type": "execute_result"
    }
   ],
   "source": [
    "Counter(y)"
   ]
  },
  {
   "cell_type": "code",
   "execution_count": 31,
   "metadata": {},
   "outputs": [
    {
     "name": "stdout",
     "output_type": "stream",
     "text": [
      "Baseline Micro F1: 0.176\n",
      "Micro F1: 0.5976666666666667\n",
      "Confusion matrix, without normalization\n",
      "[[  14   36   13    1    1]\n",
      " [  13   80  150   22    2]\n",
      " [   5   36  945  814   28]\n",
      " [   0    0  344 2210  230]\n",
      " [   0    1   22  696  337]]\n"
     ]
    },
    {
     "data": {
      "image/png": "[encoded data removed]",
      "text/plain": [
       "<Figure size 432x288 with 2 Axes>"
      ]
     },
     "metadata": {},
     "output_type": "display_data"
    }
   ],
   "source": [
    "from sklearn.metrics import confusion_matrix\n",
    "from sklearn.metrics import fbeta_score\n",
    "\n",
    "most_frequent = np.array([4]*len(preds))\n",
    "print(f'Baseline Micro F1: {fbeta_score(y,most_frequent,1,average=\"micro\")}')\n",
    "print(f'Micro F1: {fbeta_score(y,preds,1,average=\"micro\")}')\n",
    "cm = confusion_matrix(y,preds)\n",
    "plot_confusion_matrix(cm,classes=[1,2,3,4,5])"
   ]
  },
  {
   "cell_type": "markdown",
   "metadata": {},
   "source": [
    "## Submission"
   ]
  },
  {
   "cell_type": "code",
   "execution_count": 32,
   "metadata": {},
   "outputs": [],
   "source": [
    "probs,y= learner.predict_with_targs(is_test=True)"
   ]
  },
  {
   "cell_type": "code",
   "execution_count": 33,
   "metadata": {},
   "outputs": [],
   "source": [
    "preds = np.argmax(np.exp(probs),1) + 1"
   ]
  },
  {
   "cell_type": "code",
   "execution_count": 34,
   "metadata": {},
   "outputs": [
    {
     "data": {
      "text/plain": [
       "Counter({4: 3871, 3: 1623, 5: 522, 2: 147, 1: 40})"
      ]
     },
     "execution_count": 34,
     "metadata": {},
     "output_type": "execute_result"
    }
   ],
   "source": [
    "Counter(preds)"
   ]
  },
  {
   "cell_type": "code",
   "execution_count": 37,
   "metadata": {},
   "outputs": [
    {
     "data": {
      "text/html": [
       "<div>\n",
       "<style scoped>\n",
       "    .dataframe tbody tr th:only-of-type {\n",
       "        vertical-align: middle;\n",
       "    }\n",
       "\n",
       "    .dataframe tbody tr th {\n",
       "        vertical-align: top;\n",
       "    }\n",
       "\n",
       "    .dataframe thead th {\n",
       "        text-align: right;\n",
       "    }\n",
       "</style>\n",
       "<table border=\"1\" class=\"dataframe\">\n",
       "  <thead>\n",
       "    <tr style=\"text-align: right;\">\n",
       "      <th></th>\n",
       "      <th>reviewID</th>\n",
       "      <th>rating</th>\n",
       "    </tr>\n",
       "  </thead>\n",
       "  <tbody>\n",
       "    <tr>\n",
       "      <th>0</th>\n",
       "      <td>970</td>\n",
       "      <td>4</td>\n",
       "    </tr>\n",
       "    <tr>\n",
       "      <th>1</th>\n",
       "      <td>1778</td>\n",
       "      <td>4</td>\n",
       "    </tr>\n",
       "    <tr>\n",
       "      <th>2</th>\n",
       "      <td>2050</td>\n",
       "      <td>4</td>\n",
       "    </tr>\n",
       "    <tr>\n",
       "      <th>3</th>\n",
       "      <td>3889</td>\n",
       "      <td>4</td>\n",
       "    </tr>\n",
       "    <tr>\n",
       "      <th>4</th>\n",
       "      <td>5741</td>\n",
       "      <td>3</td>\n",
       "    </tr>\n",
       "  </tbody>\n",
       "</table>\n",
       "</div>"
      ],
      "text/plain": [
       "   reviewID  rating\n",
       "0       970       4\n",
       "1      1778       4\n",
       "2      2050       4\n",
       "3      3889       4\n",
       "4      5741       3"
      ]
     },
     "execution_count": 37,
     "metadata": {},
     "output_type": "execute_result"
    }
   ],
   "source": [
    "submit_df = pd.DataFrame({'a':y,'b':preds})\n",
    "submit_df.columns = ['reviewID','rating']\n",
    "submit_df.head()"
   ]
  },
  {
   "cell_type": "code",
   "execution_count": 38,
   "metadata": {},
   "outputs": [],
   "source": [
    "submit_df.to_csv(f'{DATA_PATH}valid10_2layers_newmm.csv',index=False)"
   ]
  }
 ],
 "metadata": {
  "kernelspec": {
   "display_name": "Python 3",
   "language": "python",
   "name": "python3"
  },
  "language_info": {
   "codemirror_mode": {
    "name": "ipython",
    "version": 3
   },
   "file_extension": ".py",
   "mimetype": "text/x-python",
   "name": "python",
   "nbconvert_exporter": "python",
   "pygments_lexer": "ipython3",
   "version": "3.6.5"
  }
 },
 "nbformat": 4,
 "nbformat_minor": 2
}
