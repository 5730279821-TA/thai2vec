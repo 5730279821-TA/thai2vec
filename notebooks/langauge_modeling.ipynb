{
 "cells": [
  {
   "cell_type": "markdown",
   "metadata": {},
   "source": [
    "# Thai2Vec Language Modeling\n",
    "\n",
    "The goal of this notebook is to train Thai word embeddings using the [fast.ai](http://www.fast.ai/) version of [AWD LSTM Language Model](https://arxiv.org/abs/1708.02182)--basically LSTM with droupouts--with data from [Wikipedia](https://dumps.wikimedia.org/thwiki/latest/thwiki-latest-pages-articles.xml.bz2) (pulled on January 16, 2018). We achieved perplexity of 46.61 with 51556 embeddings, compared to [state-of-the-art on November 17, 2017](https://github.com/RedditSota/state-of-the-art-result-for-machine-learning-problems) at 40.68 for English language. To the best of our knowledge, there is no comparable research in Thai language at the point of writing (January 25, 2018)."
   ]
  },
  {
   "cell_type": "markdown",
   "metadata": {},
   "source": [
    "## Imports"
   ]
  },
  {
   "cell_type": "code",
   "execution_count": 7,
   "metadata": {
    "ExecuteTime": {
     "end_time": "2018-01-25T03:30:25.407566Z",
     "start_time": "2018-01-25T03:30:21.597641Z"
    }
   },
   "outputs": [],
   "source": [
    "%reload_ext autoreload\n",
    "%autoreload 2\n",
    "%matplotlib inline\n",
    "\n",
    "import re\n",
    "\n",
    "import torchtext\n",
    "from torchtext import vocab, data\n",
    "from torchtext.datasets import language_modeling\n",
    "\n",
    "from fastai.learner import *\n",
    "from fastai.rnn_reg import *\n",
    "from fastai.rnn_train import *\n",
    "from fastai.nlp import *\n",
    "from fastai.lm_rnn import *\n",
    "\n",
    "from pythainlp.tokenize import word_tokenize\n",
    "\n",
    "import dill as pickle\n",
    "from IPython.display import Image\n",
    "from IPython.core.display import HTML \n",
    "\n",
    "PATH='/home/ubuntu/data/thaiwiki/'\n",
    "\n",
    "EXT_PATH = 'extract/'\n",
    "TRN_PATH = 'train/'\n",
    "VAL_PATH = 'valid/'\n",
    "SAMPLE_PATH = 'sample/'\n",
    "\n",
    "EXT = f'{PATH}{EXT_PATH}'\n",
    "TRN = f'{PATH}{TRN_PATH}'\n",
    "VAL = f'{PATH}{VAL_PATH}'\n",
    "SAMPLE = f'{PATH}{SAMPLE_PATH}'\n",
    "\n",
    "ext_files = !ls {EXT}\n",
    "sample_files = !ls {SAMPLE}"
   ]
  },
  {
   "cell_type": "markdown",
   "metadata": {},
   "source": [
    "## Text Cleaning"
   ]
  },
  {
   "cell_type": "code",
   "execution_count": 15,
   "metadata": {
    "ExecuteTime": {
     "end_time": "2018-01-16T10:16:59.532902Z",
     "start_time": "2018-01-16T10:16:59.460836Z"
    }
   },
   "outputs": [],
   "source": [
    "#!cd $PATH; ls; bzip2 -dk thwiki-latest-pages-articles.xml.bz2 \n",
    "#python wikiextractor/WikiExtractor.py thwiki-latest-pages-articles.xml -o extract -b 10M --ignored_tags abbr,b,big --discard_elements gallery,timeline,noinclude"
   ]
  },
  {
   "cell_type": "markdown",
   "metadata": {},
   "source": [
    "### Save as Plain Text"
   ]
  },
  {
   "cell_type": "code",
   "execution_count": 6,
   "metadata": {
    "ExecuteTime": {
     "end_time": "2018-01-17T15:17:58.013127Z",
     "start_time": "2018-01-17T15:17:42.549529Z"
    }
   },
   "outputs": [],
   "source": [
    "cleaned_all = []\n",
    "for ext_file in ext_files:\n",
    "    raw_txt = !cat {EXT}{ext_file}\n",
    "    cleaned_doc = []\n",
    "    for line in raw_txt:\n",
    "        #remove tags\n",
    "        new_line = re.sub('<[^<]+?>', '', line)\n",
    "        new_line = re.sub('__[^<]+?__', '', new_line) \n",
    "        #remove ฯ but not ฯลฯ\n",
    "        new_line = re.sub('(?<!ฯล)ฯ(?!ลฯ)','', new_line)\n",
    "        if new_line != '':\n",
    "            cleaned_doc.append(new_line)\n",
    "        else:\n",
    "            pass\n",
    "    new_doc = '\\n'.join(cleaned_doc)\n",
    "    with open(f\"{TRN}{ext_file}.txt\", \"w\") as text_file:\n",
    "        text_file.write(new_doc)\n",
    "    text_file.close()\n",
    "    cleaned_all.append(cleaned_doc)"
   ]
  },
  {
   "cell_type": "code",
   "execution_count": 7,
   "metadata": {
    "ExecuteTime": {
     "end_time": "2018-01-17T15:18:20.910056Z",
     "start_time": "2018-01-17T15:18:20.796886Z"
    }
   },
   "outputs": [],
   "source": [
    "trn_files = !ls {TRN}\n",
    "val_files = !ls {VAL}"
   ]
  },
  {
   "cell_type": "markdown",
   "metadata": {},
   "source": [
    "### Create Validation Set"
   ]
  },
  {
   "cell_type": "code",
   "execution_count": 11,
   "metadata": {
    "ExecuteTime": {
     "end_time": "2018-01-17T15:19:28.662393Z",
     "start_time": "2018-01-17T15:19:28.603161Z"
    }
   },
   "outputs": [],
   "source": [
    "# import random\n",
    "\n",
    "# random.shuffle(trn_files)\n",
    "# val_files = trn_files[:10]\n",
    "# trn_files = trn_files[10:]"
   ]
  },
  {
   "cell_type": "code",
   "execution_count": 12,
   "metadata": {
    "ExecuteTime": {
     "end_time": "2018-01-17T15:19:34.451766Z",
     "start_time": "2018-01-17T15:19:34.392211Z"
    }
   },
   "outputs": [],
   "source": [
    "# import shutil, os\n",
    "# for root, dirs, files in os.walk(TRN):\n",
    "#     for file in files:\n",
    "#         if file.endswith(\".txt\") & (file in val_files):\n",
    "#             shutil.move(os.path.join(root, file),VAL)"
   ]
  },
  {
   "cell_type": "code",
   "execution_count": 16,
   "metadata": {
    "ExecuteTime": {
     "end_time": "2018-01-17T15:20:30.038345Z",
     "start_time": "2018-01-17T15:20:29.934723Z"
    }
   },
   "outputs": [],
   "source": [
    "trn_files = !ls {TRN}\n",
    "val_files = !ls {VAL}"
   ]
  },
  {
   "cell_type": "markdown",
   "metadata": {},
   "source": [
    "## Data Generator"
   ]
  },
  {
   "cell_type": "markdown",
   "metadata": {},
   "source": [
    "### Thai Tokenizer"
   ]
  },
  {
   "cell_type": "code",
   "execution_count": 4,
   "metadata": {
    "ExecuteTime": {
     "end_time": "2018-01-24T15:50:02.035245Z",
     "start_time": "2018-01-24T15:50:01.940191Z"
    }
   },
   "outputs": [
    {
     "data": {
      "text/plain": [
       "['วิทยาศาสตร์',\n",
       " 'ดาวเคราะห์',\n",
       " 'เป็น',\n",
       " 'สาขาวิชา',\n",
       " 'ที่',\n",
       " 'ศึกษา',\n",
       " 'เกี่ยวกับ',\n",
       " 'องค์ประกอบ',\n",
       " 'ของ',\n",
       " 'ดาวเคราะห์']"
      ]
     },
     "execution_count": 4,
     "metadata": {},
     "output_type": "execute_result"
    }
   ],
   "source": [
    "text='วิทยาศาสตร์ดาวเคราะห์เป็นสาขาวิชาที่ศึกษาเกี่ยวกับองค์ประกอบของดาวเคราะห์'\n",
    "a = word_tokenize(text)\n",
    "a"
   ]
  },
  {
   "cell_type": "markdown",
   "metadata": {},
   "source": [
    "### Min Count"
   ]
  },
  {
   "cell_type": "code",
   "execution_count": 11,
   "metadata": {
    "ExecuteTime": {
     "end_time": "2018-01-24T15:51:18.836570Z",
     "start_time": "2018-01-24T15:51:18.535781Z"
    }
   },
   "outputs": [
    {
     "data": {
      "text/html": [
       "<div>\n",
       "<style scoped>\n",
       "    .dataframe tbody tr th:only-of-type {\n",
       "        vertical-align: middle;\n",
       "    }\n",
       "\n",
       "    .dataframe tbody tr th {\n",
       "        vertical-align: top;\n",
       "    }\n",
       "\n",
       "    .dataframe thead th {\n",
       "        text-align: right;\n",
       "    }\n",
       "</style>\n",
       "<table border=\"1\" class=\"dataframe\">\n",
       "  <thead>\n",
       "    <tr style=\"text-align: right;\">\n",
       "      <th></th>\n",
       "      <th>0</th>\n",
       "    </tr>\n",
       "  </thead>\n",
       "  <tbody>\n",
       "    <tr>\n",
       "      <th></th>\n",
       "      <td>7454519</td>\n",
       "    </tr>\n",
       "    <tr>\n",
       "      <th>ใน</th>\n",
       "      <td>710698</td>\n",
       "    </tr>\n",
       "    <tr>\n",
       "      <th>ที่</th>\n",
       "      <td>631102</td>\n",
       "    </tr>\n",
       "    <tr>\n",
       "      <th>และ</th>\n",
       "      <td>587575</td>\n",
       "    </tr>\n",
       "    <tr>\n",
       "      <th>เป็น</th>\n",
       "      <td>506686</td>\n",
       "    </tr>\n",
       "    <tr>\n",
       "      <th>ของ</th>\n",
       "      <td>498293</td>\n",
       "    </tr>\n",
       "    <tr>\n",
       "      <th>มี</th>\n",
       "      <td>364049</td>\n",
       "    </tr>\n",
       "    <tr>\n",
       "      <th>ได้</th>\n",
       "      <td>314228</td>\n",
       "    </tr>\n",
       "    <tr>\n",
       "      <th>\"</th>\n",
       "      <td>299321</td>\n",
       "    </tr>\n",
       "    <tr>\n",
       "      <th>การ</th>\n",
       "      <td>288884</td>\n",
       "    </tr>\n",
       "  </tbody>\n",
       "</table>\n",
       "</div>"
      ],
      "text/plain": [
       "            0\n",
       "      7454519\n",
       "ใน     710698\n",
       "ที่    631102\n",
       "และ    587575\n",
       "เป็น   506686\n",
       "ของ    498293\n",
       "มี     364049\n",
       "ได้    314228\n",
       "\"      299321\n",
       "การ    288884"
      ]
     },
     "execution_count": 11,
     "metadata": {},
     "output_type": "execute_result"
    }
   ],
   "source": [
    "TEXT = pickle.load(open(f'{PATH}models/TEXT.pkl','rb'))\n",
    "freqs = pd.DataFrame.from_dict(TEXT.vocab.freqs,orient='index')\n",
    "freqs.sort_values(0,ascending=False).head(10)"
   ]
  },
  {
   "cell_type": "code",
   "execution_count": 12,
   "metadata": {
    "ExecuteTime": {
     "end_time": "2018-01-24T15:51:57.284742Z",
     "start_time": "2018-01-24T15:51:57.143426Z"
    }
   },
   "outputs": [],
   "source": [
    "cnt = []\n",
    "for i in range(49):\n",
    "    row_cnt = freqs[freqs[0]>=i+1].shape[0]\n",
    "    cnt.append(row_cnt)"
   ]
  },
  {
   "cell_type": "code",
   "execution_count": 13,
   "metadata": {
    "ExecuteTime": {
     "end_time": "2018-01-24T15:51:58.695888Z",
     "start_time": "2018-01-24T15:51:58.523805Z"
    }
   },
   "outputs": [
    {
     "data": {
      "text/plain": [
       "<matplotlib.lines.Line2D at 0x7f3d126a1320>"
      ]
     },
     "execution_count": 13,
     "metadata": {},
     "output_type": "execute_result"
    },
    {
     "data": {
      "image/png": "[encoded data removed]",
      "text/plain": [
       "<matplotlib.figure.Figure at 0x7f3d126a1128>"
      ]
     },
     "metadata": {},
     "output_type": "display_data"
    }
   ],
   "source": [
    "plt.plot(cnt)\n",
    "plt.axvline(x=10,color='red', linestyle='--')"
   ]
  },
  {
   "cell_type": "code",
   "execution_count": 16,
   "metadata": {
    "ExecuteTime": {
     "end_time": "2018-01-24T15:52:42.170567Z",
     "start_time": "2018-01-24T15:52:42.118686Z"
    }
   },
   "outputs": [
    {
     "data": {
      "text/html": [
       "<div>\n",
       "<style scoped>\n",
       "    .dataframe tbody tr th:only-of-type {\n",
       "        vertical-align: middle;\n",
       "    }\n",
       "\n",
       "    .dataframe tbody tr th {\n",
       "        vertical-align: top;\n",
       "    }\n",
       "\n",
       "    .dataframe thead th {\n",
       "        text-align: right;\n",
       "    }\n",
       "</style>\n",
       "<table border=\"1\" class=\"dataframe\">\n",
       "  <thead>\n",
       "    <tr style=\"text-align: right;\">\n",
       "      <th></th>\n",
       "      <th>0</th>\n",
       "    </tr>\n",
       "  </thead>\n",
       "  <tbody>\n",
       "    <tr>\n",
       "      <th>ชาติที่แล้ว</th>\n",
       "      <td>10</td>\n",
       "    </tr>\n",
       "    <tr>\n",
       "      <th>berkley</th>\n",
       "      <td>10</td>\n",
       "    </tr>\n",
       "    <tr>\n",
       "      <th>พันแสง</th>\n",
       "      <td>10</td>\n",
       "    </tr>\n",
       "    <tr>\n",
       "      <th>บักเตรี</th>\n",
       "      <td>10</td>\n",
       "    </tr>\n",
       "    <tr>\n",
       "      <th>correction</th>\n",
       "      <td>10</td>\n",
       "    </tr>\n",
       "    <tr>\n",
       "      <th>combs</th>\n",
       "      <td>10</td>\n",
       "    </tr>\n",
       "    <tr>\n",
       "      <th>확인.</th>\n",
       "      <td>10</td>\n",
       "    </tr>\n",
       "    <tr>\n",
       "      <th>curvature</th>\n",
       "      <td>10</td>\n",
       "    </tr>\n",
       "    <tr>\n",
       "      <th>sein</th>\n",
       "      <td>10</td>\n",
       "    </tr>\n",
       "    <tr>\n",
       "      <th>ngl</th>\n",
       "      <td>10</td>\n",
       "    </tr>\n",
       "  </tbody>\n",
       "</table>\n",
       "</div>"
      ],
      "text/plain": [
       "              0\n",
       "ชาติที่แล้ว  10\n",
       "berkley      10\n",
       "พันแสง       10\n",
       "บักเตรี      10\n",
       "correction   10\n",
       "combs        10\n",
       "확인.          10\n",
       "curvature    10\n",
       "sein         10\n",
       "ngl          10"
      ]
     },
     "execution_count": 16,
     "metadata": {},
     "output_type": "execute_result"
    }
   ],
   "source": [
    "#number of legitimate thai words at freqs\n",
    "freqs[freqs[0]<=10].sort_values(ascending=False,by=0).head(10)"
   ]
  },
  {
   "cell_type": "markdown",
   "metadata": {},
   "source": [
    "### Data Loader"
   ]
  },
  {
   "cell_type": "code",
   "execution_count": 54,
   "metadata": {
    "ExecuteTime": {
     "end_time": "2018-01-24T16:04:14.088043Z",
     "start_time": "2018-01-24T16:04:14.060994Z"
    }
   },
   "outputs": [],
   "source": [
    "TEXT = data.Field(lower=True, tokenize=word_tokenize)\n",
    "#batch size\n",
    "bs=32\n",
    "#backprop through time\n",
    "bptt=70"
   ]
  },
  {
   "cell_type": "code",
   "execution_count": 55,
   "metadata": {
    "ExecuteTime": {
     "end_time": "2018-01-24T16:41:27.289827Z",
     "start_time": "2018-01-24T16:04:14.892151Z"
    }
   },
   "outputs": [],
   "source": [
    "#FILES = dict(train=f'{SAMPLE_PATH}', validation=f'{SAMPLE_PATH}', test=f'{SAMPLE_PATH}')\n",
    "FILES = dict(train=f'{TRN_PATH}', validation=f'{VAL_PATH}', test=f'{SAMPLE_PATH}')\n",
    "\n",
    "md = LanguageModelData.from_text_files(PATH, TEXT, **FILES, bs=bs, bptt=bptt, min_freq=10)\n",
    "#pickle.dump(TEXT, open(f'{PATH}models/TEXT.pkl','wb'))"
   ]
  },
  {
   "cell_type": "code",
   "execution_count": 57,
   "metadata": {
    "ExecuteTime": {
     "end_time": "2018-01-24T16:41:27.379231Z",
     "start_time": "2018-01-24T16:41:27.336150Z"
    }
   },
   "outputs": [
    {
     "data": {
      "text/plain": [
       "Variable containing:\n",
       "  259\n",
       "  166\n",
       "    2\n",
       "   19\n",
       "    2\n",
       "  300\n",
       "    2\n",
       "  301\n",
       "   85\n",
       "  284\n",
       "[torch.cuda.LongTensor of size 10x1 (GPU 0)]"
      ]
     },
     "execution_count": 57,
     "metadata": {},
     "output_type": "execute_result"
    }
   ],
   "source": [
    "#trn_ds is list; one for each txt file\n",
    "txt = md.trn_ds[0].text[:10]\n",
    "TEXT.numericalize([txt])"
   ]
  },
  {
   "cell_type": "markdown",
   "metadata": {},
   "source": [
    "## Language Model"
   ]
  },
  {
   "cell_type": "markdown",
   "metadata": {},
   "source": [
    "### Training"
   ]
  },
  {
   "cell_type": "code",
   "execution_count": 58,
   "metadata": {
    "ExecuteTime": {
     "end_time": "2018-01-24T16:41:27.406405Z",
     "start_time": "2018-01-24T16:41:27.380815Z"
    }
   },
   "outputs": [],
   "source": [
    "em_sz = 300  # size of each embedding vector\n",
    "nh = 500     # number of hidden activations per layer\n",
    "nl = 3       # number of layers"
   ]
  },
  {
   "cell_type": "code",
   "execution_count": 59,
   "metadata": {
    "ExecuteTime": {
     "end_time": "2018-01-24T16:41:27.429580Z",
     "start_time": "2018-01-24T16:41:27.407646Z"
    }
   },
   "outputs": [],
   "source": [
    "opt_fn = partial(optim.Adam, betas=(0.7, 0.99))"
   ]
  },
  {
   "cell_type": "code",
   "execution_count": 60,
   "metadata": {
    "ExecuteTime": {
     "end_time": "2018-01-24T16:41:27.669131Z",
     "start_time": "2018-01-24T16:41:27.431195Z"
    }
   },
   "outputs": [],
   "source": [
    "learner = md.get_model(opt_fn, em_sz, nh, nl,\n",
    "               dropouti=0.05, dropout=0.05, wdrop=0.1, dropoute=0.02, dropouth=0.05)\n",
    "learner.reg_fn = partial(seq2seq_reg, alpha=2, beta=1)\n",
    "learner.clip=0.3"
   ]
  },
  {
   "cell_type": "code",
   "execution_count": 62,
   "metadata": {
    "ExecuteTime": {
     "end_time": "2018-01-24T16:42:11.341458Z",
     "start_time": "2018-01-24T16:41:27.701583Z"
    }
   },
   "outputs": [
    {
     "data": {
      "application/vnd.jupyter.widget-view+json": {
       "model_id": "0bbc7c2a410c400fbc8febe31b3f2f7a",
       "version_major": 2,
       "version_minor": 0
      },
      "text/html": [
       "<p>Failed to display Jupyter Widget of type <code>HBox</code>.</p>\n",
       "<p>\n",
       "  If you're reading this message in the Jupyter Notebook or JupyterLab Notebook, it may mean\n",
       "  that the widgets JavaScript is still loading. If this message persists, it\n",
       "  likely means that the widgets JavaScript library is either not installed or\n",
       "  not enabled. See the <a href=\"https://ipywidgets.readthedocs.io/en/stable/user_install.html\">Jupyter\n",
       "  Widgets Documentation</a> for setup instructions.\n",
       "</p>\n",
       "<p>\n",
       "  If you're reading this message in another frontend (for example, a static\n",
       "  rendering on GitHub or <a href=\"https://nbviewer.jupyter.org/\">NBViewer</a>),\n",
       "  it may mean that your frontend doesn't currently support widgets.\n",
       "</p>\n"
      ],
      "text/plain": [
       "HBox(children=(IntProgress(value=0, description='Epoch', max=1), HTML(value='')))"
      ]
     },
     "metadata": {},
     "output_type": "display_data"
    },
    {
     "name": "stdout",
     "output_type": "stream",
     "text": [
      " 79%|███████▉  | 344/433 [00:42<00:11,  8.02it/s, loss=26.3]"
     ]
    },
    {
     "data": {
      "image/png": "[encoded data removed]",
      "text/plain": [
       "<matplotlib.figure.Figure at 0x7f3d09bf19e8>"
      ]
     },
     "metadata": {},
     "output_type": "display_data"
    }
   ],
   "source": [
    "#find suitable learning rates\n",
    "learner.lr_find(1e-07,1e2)\n",
    "learner.sched.plot()"
   ]
  },
  {
   "cell_type": "code",
   "execution_count": null,
   "metadata": {
    "ExecuteTime": {
     "end_time": "2018-01-24T16:57:14.166255Z",
     "start_time": "2018-01-24T16:56:54.144823Z"
    }
   },
   "outputs": [],
   "source": [
    "#loss 3.85956; perplexity 47.44\n",
    "learner.fit(1e-3, 4, wds=1e-6, cycle_len=1, cycle_mult=2)\n",
    "#learner.save_encoder('adam1_enc')"
   ]
  },
  {
   "cell_type": "code",
   "execution_count": 71,
   "metadata": {
    "ExecuteTime": {
     "end_time": "2018-01-24T17:03:43.526685Z",
     "start_time": "2018-01-24T17:03:43.486167Z"
    }
   },
   "outputs": [
    {
     "data": {
      "image/png": "[encoded data removed]",
      "text/plain": [
       "<IPython.core.display.Image object>"
      ]
     },
     "execution_count": 71,
     "metadata": {},
     "output_type": "execute_result"
    }
   ],
   "source": [
    "Image(filename= \"/home/ubuntu/data/thaiwiki/png/adam1_enc.png\")"
   ]
  },
  {
   "cell_type": "code",
   "execution_count": null,
   "metadata": {
    "ExecuteTime": {
     "end_time": "2017-12-26T04:31:17.340615Z",
     "start_time": "2017-12-26T04:31:04.722284Z"
    }
   },
   "outputs": [],
   "source": [
    "#loss 3.84171; perplexity 46.61\n",
    "learner.fit(1e-3, 1, wds=1e-6, cycle_len=20, cycle_save_name='adam3_20')\n",
    "#learner.save_encoder('adam3_enc')"
   ]
  },
  {
   "cell_type": "code",
   "execution_count": 68,
   "metadata": {
    "ExecuteTime": {
     "end_time": "2018-01-24T17:01:21.317894Z",
     "start_time": "2018-01-24T17:01:21.283095Z"
    }
   },
   "outputs": [
    {
     "data": {
      "image/png": "[encoded data removed]",
      "text/plain": [
       "<IPython.core.display.Image object>"
      ]
     },
     "execution_count": 68,
     "metadata": {},
     "output_type": "execute_result"
    }
   ],
   "source": [
    "Image(filename= \"/home/ubuntu/data/thaiwiki/png/adam3_enc.png\")"
   ]
  },
  {
   "cell_type": "markdown",
   "metadata": {},
   "source": [
    "### Testing"
   ]
  },
  {
   "cell_type": "code",
   "execution_count": 75,
   "metadata": {
    "ExecuteTime": {
     "end_time": "2018-01-24T17:09:04.381055Z",
     "start_time": "2018-01-24T17:05:17.677117Z"
    }
   },
   "outputs": [
    {
     "data": {
      "text/plain": [
       "SequentialRNN (\n",
       "  (0): RNN_Encoder (\n",
       "    (encoder): Embedding(51556, 300, padding_idx=1)\n",
       "    (encoder_with_dropout): EmbeddingDropout (\n",
       "      (embed): Embedding(51556, 300, padding_idx=1)\n",
       "    )\n",
       "    (rnns): ModuleList (\n",
       "      (0): WeightDrop (\n",
       "        (module): LSTM(300, 500, dropout=0.05)\n",
       "      )\n",
       "      (1): WeightDrop (\n",
       "        (module): LSTM(500, 500, dropout=0.05)\n",
       "      )\n",
       "      (2): WeightDrop (\n",
       "        (module): LSTM(500, 300, dropout=0.05)\n",
       "      )\n",
       "    )\n",
       "    (dropouti): LockedDropout (\n",
       "    )\n",
       "    (dropouth): LockedDropout (\n",
       "    )\n",
       "  )\n",
       "  (1): LinearDecoder (\n",
       "    (decoder): Linear (300 -> 51556)\n",
       "    (dropout): LockedDropout (\n",
       "    )\n",
       "  )\n",
       ")"
      ]
     },
     "execution_count": 75,
     "metadata": {},
     "output_type": "execute_result"
    }
   ],
   "source": [
    "#m = learner.model\n",
    "#pickle.dump(m,open(f'{PATH}models/wiki_lang.pkl','wb'))\n",
    "TEXT = pickle.load(open(f'{PATH}models/TEXT.pkl','rb'))\n",
    "m = pickle.load(open(f'{PATH}models/wiki_lang.pkl','rb'))\n",
    "m[0].bs=1\n",
    "m.eval()"
   ]
  },
  {
   "cell_type": "code",
   "execution_count": 88,
   "metadata": {
    "ExecuteTime": {
     "end_time": "2018-01-24T17:13:05.644224Z",
     "start_time": "2018-01-24T17:13:05.588131Z"
    }
   },
   "outputs": [],
   "source": [
    "def gen_text(ss,topk):\n",
    "    s = [word_tokenize(ss)]\n",
    "    t = TEXT.numericalize(s)\n",
    "    m.reset()\n",
    "    pred,*_ = m(t)\n",
    "    pred_i = torch.topk(pred[-1], topk)[1]\n",
    "    return [TEXT.vocab.itos[o] for o in to_np(pred_i)]\n",
    "\n",
    "def gen_sentences(ss,nb_words):\n",
    "    result = []\n",
    "    s = [word_tokenize(ss)]\n",
    "    t = TEXT.numericalize(s)\n",
    "    m.reset()\n",
    "    pred,*_ = m(t)\n",
    "    for i in range(nb_words):\n",
    "        pred_i = pred[-1].topk(2)[1]\n",
    "        pred_i = pred_i[1] if pred_i.data[0] < 2 else pred_i[0]\n",
    "        result.append(TEXT.vocab.itos[pred_i.data[0]])\n",
    "        pred,*_ = m(pred_i[0].unsqueeze(0))\n",
    "    return(result)"
   ]
  },
  {
   "cell_type": "code",
   "execution_count": 94,
   "metadata": {
    "ExecuteTime": {
     "end_time": "2018-01-24T17:13:36.841186Z",
     "start_time": "2018-01-24T17:13:36.725232Z"
    }
   },
   "outputs": [
    {
     "data": {
      "text/plain": [
       "['แดง', 'ขาว', 'ดำ', 'เหลือง', 'หมายเลข', 'สี', 'เขียว', 'เกราะ', 'สีแดง', ' ']"
      ]
     },
     "execution_count": 94,
     "metadata": {},
     "output_type": "execute_result"
    }
   ],
   "source": [
    "ss=\"\"\"สวัสดีครับพี่น้องเสื้อ\"\"\"\n",
    "gen_text(ss,10)"
   ]
  },
  {
   "cell_type": "code",
   "execution_count": 95,
   "metadata": {
    "ExecuteTime": {
     "end_time": "2018-01-24T17:13:38.363900Z",
     "start_time": "2018-01-24T17:13:37.986379Z"
    }
   },
   "outputs": [
    {
     "data": {
      "text/plain": [
       "'แดง เป็นภาพยนตร์ไทย ออกฉายในปี พ.ศ. 2546 กำกับโดย สมชาย วงศ์สวัสดิ์ นำแสดงโดย ณัฐวุฒิ สหพงษ์ และ ณัฐวุฒิ สหพงษ์ โดยมี '"
      ]
     },
     "execution_count": 95,
     "metadata": {},
     "output_type": "execute_result"
    }
   ],
   "source": [
    "''.join(gen_sentences(ss,50))"
   ]
  },
  {
   "cell_type": "markdown",
   "metadata": {},
   "source": [
    "## Embeddings"
   ]
  },
  {
   "cell_type": "markdown",
   "metadata": {},
   "source": [
    "### Extract"
   ]
  },
  {
   "cell_type": "code",
   "execution_count": 97,
   "metadata": {
    "ExecuteTime": {
     "end_time": "2018-01-24T17:14:19.257675Z",
     "start_time": "2018-01-24T17:14:19.219043Z"
    }
   },
   "outputs": [],
   "source": [
    "emb_weights = list(learner.model.named_parameters())[0][1]\n",
    "emb_np = to_np(emb_weights.data)\n",
    "\n",
    "TEXT = pickle.load(open(f'{PATH}models/TEXT.pkl','rb'))\n",
    "TEXT.vocab.set_vectors(vectors=emb_weights.data,dim=300,stoi=TEXT.vocab.stoi)\n",
    "#pickle.dump(TEXT, open(f'{PATH}models/TEXT_vec.pkl','wb'))"
   ]
  },
  {
   "cell_type": "code",
   "execution_count": 36,
   "metadata": {
    "ExecuteTime": {
     "end_time": "2018-01-25T03:54:53.365410Z",
     "start_time": "2018-01-25T03:54:52.039915Z"
    }
   },
   "outputs": [],
   "source": [
    "TEXT_vec = pickle.load(open(f'{PATH}models/TEXT_vec.pkl','rb'))"
   ]
  },
  {
   "cell_type": "code",
   "execution_count": 38,
   "metadata": {
    "ExecuteTime": {
     "end_time": "2018-01-25T03:55:01.593405Z",
     "start_time": "2018-01-25T03:55:01.533652Z"
    }
   },
   "outputs": [
    {
     "data": {
      "text/html": [
       "<div>\n",
       "<style scoped>\n",
       "    .dataframe tbody tr th:only-of-type {\n",
       "        vertical-align: middle;\n",
       "    }\n",
       "\n",
       "    .dataframe tbody tr th {\n",
       "        vertical-align: top;\n",
       "    }\n",
       "\n",
       "    .dataframe thead th {\n",
       "        text-align: right;\n",
       "    }\n",
       "</style>\n",
       "<table border=\"1\" class=\"dataframe\">\n",
       "  <thead>\n",
       "    <tr style=\"text-align: right;\">\n",
       "      <th></th>\n",
       "      <th>0</th>\n",
       "      <th>1</th>\n",
       "      <th>2</th>\n",
       "      <th>3</th>\n",
       "      <th>4</th>\n",
       "      <th>5</th>\n",
       "      <th>6</th>\n",
       "      <th>7</th>\n",
       "      <th>8</th>\n",
       "      <th>9</th>\n",
       "      <th>...</th>\n",
       "      <th>290</th>\n",
       "      <th>291</th>\n",
       "      <th>292</th>\n",
       "      <th>293</th>\n",
       "      <th>294</th>\n",
       "      <th>295</th>\n",
       "      <th>296</th>\n",
       "      <th>297</th>\n",
       "      <th>298</th>\n",
       "      <th>299</th>\n",
       "    </tr>\n",
       "  </thead>\n",
       "  <tbody>\n",
       "    <tr>\n",
       "      <th>&lt;unk&gt;</th>\n",
       "      <td>0.193473</td>\n",
       "      <td>0.299241</td>\n",
       "      <td>0.005685</td>\n",
       "      <td>-0.218077</td>\n",
       "      <td>0.093340</td>\n",
       "      <td>-0.058177</td>\n",
       "      <td>-0.397587</td>\n",
       "      <td>-0.040135</td>\n",
       "      <td>-0.068664</td>\n",
       "      <td>0.182962</td>\n",
       "      <td>...</td>\n",
       "      <td>0.242743</td>\n",
       "      <td>0.223673</td>\n",
       "      <td>-0.063283</td>\n",
       "      <td>0.381577</td>\n",
       "      <td>0.092275</td>\n",
       "      <td>-0.153745</td>\n",
       "      <td>-0.044563</td>\n",
       "      <td>0.292112</td>\n",
       "      <td>-0.101294</td>\n",
       "      <td>-0.164983</td>\n",
       "    </tr>\n",
       "    <tr>\n",
       "      <th>&lt;pad&gt;</th>\n",
       "      <td>0.003948</td>\n",
       "      <td>-0.017877</td>\n",
       "      <td>-0.087923</td>\n",
       "      <td>0.009941</td>\n",
       "      <td>-0.024482</td>\n",
       "      <td>-0.023072</td>\n",
       "      <td>-0.016677</td>\n",
       "      <td>-0.006310</td>\n",
       "      <td>-0.009594</td>\n",
       "      <td>0.021192</td>\n",
       "      <td>...</td>\n",
       "      <td>-0.088933</td>\n",
       "      <td>-0.012771</td>\n",
       "      <td>0.014466</td>\n",
       "      <td>-0.028766</td>\n",
       "      <td>0.027811</td>\n",
       "      <td>0.116776</td>\n",
       "      <td>0.010705</td>\n",
       "      <td>0.001330</td>\n",
       "      <td>-0.027780</td>\n",
       "      <td>-0.022937</td>\n",
       "    </tr>\n",
       "    <tr>\n",
       "      <th></th>\n",
       "      <td>0.095194</td>\n",
       "      <td>-0.228250</td>\n",
       "      <td>0.120508</td>\n",
       "      <td>0.017838</td>\n",
       "      <td>-0.001278</td>\n",
       "      <td>0.027298</td>\n",
       "      <td>-2.140002</td>\n",
       "      <td>0.033625</td>\n",
       "      <td>-2.597107</td>\n",
       "      <td>0.384114</td>\n",
       "      <td>...</td>\n",
       "      <td>-0.016753</td>\n",
       "      <td>-0.025802</td>\n",
       "      <td>-0.064043</td>\n",
       "      <td>-0.129720</td>\n",
       "      <td>0.009190</td>\n",
       "      <td>0.210058</td>\n",
       "      <td>0.053755</td>\n",
       "      <td>-0.203422</td>\n",
       "      <td>-1.092552</td>\n",
       "      <td>-0.154107</td>\n",
       "    </tr>\n",
       "    <tr>\n",
       "      <th>ใน</th>\n",
       "      <td>-0.177850</td>\n",
       "      <td>-0.243708</td>\n",
       "      <td>0.088569</td>\n",
       "      <td>0.162008</td>\n",
       "      <td>-0.120948</td>\n",
       "      <td>-0.042076</td>\n",
       "      <td>-0.364857</td>\n",
       "      <td>-0.011825</td>\n",
       "      <td>-2.776280</td>\n",
       "      <td>-0.688595</td>\n",
       "      <td>...</td>\n",
       "      <td>0.057721</td>\n",
       "      <td>-0.131097</td>\n",
       "      <td>0.632772</td>\n",
       "      <td>0.302273</td>\n",
       "      <td>0.014868</td>\n",
       "      <td>0.398777</td>\n",
       "      <td>-0.102287</td>\n",
       "      <td>0.665936</td>\n",
       "      <td>-0.789762</td>\n",
       "      <td>-0.518877</td>\n",
       "    </tr>\n",
       "    <tr>\n",
       "      <th>ที่</th>\n",
       "      <td>0.308956</td>\n",
       "      <td>-0.097699</td>\n",
       "      <td>0.116745</td>\n",
       "      <td>0.215612</td>\n",
       "      <td>0.015768</td>\n",
       "      <td>-0.064163</td>\n",
       "      <td>0.062168</td>\n",
       "      <td>0.039649</td>\n",
       "      <td>0.864940</td>\n",
       "      <td>0.846904</td>\n",
       "      <td>...</td>\n",
       "      <td>-0.142418</td>\n",
       "      <td>0.033241</td>\n",
       "      <td>0.171581</td>\n",
       "      <td>-0.624864</td>\n",
       "      <td>-0.009358</td>\n",
       "      <td>0.449131</td>\n",
       "      <td>0.120130</td>\n",
       "      <td>-0.122195</td>\n",
       "      <td>-0.450617</td>\n",
       "      <td>-0.071318</td>\n",
       "    </tr>\n",
       "    <tr>\n",
       "      <th>และ</th>\n",
       "      <td>0.010751</td>\n",
       "      <td>-0.618971</td>\n",
       "      <td>0.129665</td>\n",
       "      <td>0.035460</td>\n",
       "      <td>-0.007560</td>\n",
       "      <td>0.027607</td>\n",
       "      <td>0.397824</td>\n",
       "      <td>0.026543</td>\n",
       "      <td>0.254075</td>\n",
       "      <td>0.168328</td>\n",
       "      <td>...</td>\n",
       "      <td>-0.105786</td>\n",
       "      <td>0.180930</td>\n",
       "      <td>-0.101630</td>\n",
       "      <td>0.070885</td>\n",
       "      <td>-0.037263</td>\n",
       "      <td>0.183606</td>\n",
       "      <td>-0.049088</td>\n",
       "      <td>-0.672288</td>\n",
       "      <td>-1.293044</td>\n",
       "      <td>0.592576</td>\n",
       "    </tr>\n",
       "    <tr>\n",
       "      <th>เป็น</th>\n",
       "      <td>-0.015736</td>\n",
       "      <td>-0.258926</td>\n",
       "      <td>0.052953</td>\n",
       "      <td>0.153728</td>\n",
       "      <td>-0.005985</td>\n",
       "      <td>-0.021081</td>\n",
       "      <td>0.041088</td>\n",
       "      <td>0.057312</td>\n",
       "      <td>1.633230</td>\n",
       "      <td>0.442729</td>\n",
       "      <td>...</td>\n",
       "      <td>-0.009408</td>\n",
       "      <td>-0.252576</td>\n",
       "      <td>-0.305512</td>\n",
       "      <td>0.372542</td>\n",
       "      <td>0.049151</td>\n",
       "      <td>0.568470</td>\n",
       "      <td>0.266586</td>\n",
       "      <td>0.400800</td>\n",
       "      <td>-0.784650</td>\n",
       "      <td>0.197369</td>\n",
       "    </tr>\n",
       "    <tr>\n",
       "      <th>ของ</th>\n",
       "      <td>-0.189711</td>\n",
       "      <td>-0.174774</td>\n",
       "      <td>0.171124</td>\n",
       "      <td>-0.186771</td>\n",
       "      <td>0.054294</td>\n",
       "      <td>-0.114150</td>\n",
       "      <td>-1.109456</td>\n",
       "      <td>-0.094466</td>\n",
       "      <td>-0.447015</td>\n",
       "      <td>0.042377</td>\n",
       "      <td>...</td>\n",
       "      <td>-0.168676</td>\n",
       "      <td>-0.148738</td>\n",
       "      <td>0.680404</td>\n",
       "      <td>0.097702</td>\n",
       "      <td>0.020270</td>\n",
       "      <td>0.182967</td>\n",
       "      <td>-0.083949</td>\n",
       "      <td>0.006287</td>\n",
       "      <td>-0.707434</td>\n",
       "      <td>-0.070234</td>\n",
       "    </tr>\n",
       "    <tr>\n",
       "      <th>มี</th>\n",
       "      <td>-0.156962</td>\n",
       "      <td>-0.231863</td>\n",
       "      <td>0.080312</td>\n",
       "      <td>0.323157</td>\n",
       "      <td>0.215695</td>\n",
       "      <td>0.055145</td>\n",
       "      <td>0.420794</td>\n",
       "      <td>0.016842</td>\n",
       "      <td>0.256759</td>\n",
       "      <td>0.832864</td>\n",
       "      <td>...</td>\n",
       "      <td>-0.044267</td>\n",
       "      <td>-0.147186</td>\n",
       "      <td>-0.105424</td>\n",
       "      <td>0.907078</td>\n",
       "      <td>0.009299</td>\n",
       "      <td>0.550953</td>\n",
       "      <td>0.139337</td>\n",
       "      <td>0.031696</td>\n",
       "      <td>-0.670379</td>\n",
       "      <td>-0.008048</td>\n",
       "    </tr>\n",
       "    <tr>\n",
       "      <th>ได้</th>\n",
       "      <td>-0.428813</td>\n",
       "      <td>-0.031194</td>\n",
       "      <td>0.041922</td>\n",
       "      <td>-0.036608</td>\n",
       "      <td>-0.008106</td>\n",
       "      <td>0.076470</td>\n",
       "      <td>-0.782270</td>\n",
       "      <td>0.033361</td>\n",
       "      <td>0.606864</td>\n",
       "      <td>0.440520</td>\n",
       "      <td>...</td>\n",
       "      <td>0.024458</td>\n",
       "      <td>-0.025031</td>\n",
       "      <td>0.103389</td>\n",
       "      <td>-0.078255</td>\n",
       "      <td>0.034323</td>\n",
       "      <td>0.459774</td>\n",
       "      <td>-0.748643</td>\n",
       "      <td>0.337775</td>\n",
       "      <td>-0.487408</td>\n",
       "      <td>-0.511535</td>\n",
       "    </tr>\n",
       "  </tbody>\n",
       "</table>\n",
       "<p>10 rows × 300 columns</p>\n",
       "</div>"
      ],
      "text/plain": [
       "            0         1         2         3         4         5         6    \\\n",
       "<unk>  0.193473  0.299241  0.005685 -0.218077  0.093340 -0.058177 -0.397587   \n",
       "<pad>  0.003948 -0.017877 -0.087923  0.009941 -0.024482 -0.023072 -0.016677   \n",
       "       0.095194 -0.228250  0.120508  0.017838 -0.001278  0.027298 -2.140002   \n",
       "ใน    -0.177850 -0.243708  0.088569  0.162008 -0.120948 -0.042076 -0.364857   \n",
       "ที่    0.308956 -0.097699  0.116745  0.215612  0.015768 -0.064163  0.062168   \n",
       "และ    0.010751 -0.618971  0.129665  0.035460 -0.007560  0.027607  0.397824   \n",
       "เป็น  -0.015736 -0.258926  0.052953  0.153728 -0.005985 -0.021081  0.041088   \n",
       "ของ   -0.189711 -0.174774  0.171124 -0.186771  0.054294 -0.114150 -1.109456   \n",
       "มี    -0.156962 -0.231863  0.080312  0.323157  0.215695  0.055145  0.420794   \n",
       "ได้   -0.428813 -0.031194  0.041922 -0.036608 -0.008106  0.076470 -0.782270   \n",
       "\n",
       "            7         8         9      ...          290       291       292  \\\n",
       "<unk> -0.040135 -0.068664  0.182962    ...     0.242743  0.223673 -0.063283   \n",
       "<pad> -0.006310 -0.009594  0.021192    ...    -0.088933 -0.012771  0.014466   \n",
       "       0.033625 -2.597107  0.384114    ...    -0.016753 -0.025802 -0.064043   \n",
       "ใน    -0.011825 -2.776280 -0.688595    ...     0.057721 -0.131097  0.632772   \n",
       "ที่    0.039649  0.864940  0.846904    ...    -0.142418  0.033241  0.171581   \n",
       "และ    0.026543  0.254075  0.168328    ...    -0.105786  0.180930 -0.101630   \n",
       "เป็น   0.057312  1.633230  0.442729    ...    -0.009408 -0.252576 -0.305512   \n",
       "ของ   -0.094466 -0.447015  0.042377    ...    -0.168676 -0.148738  0.680404   \n",
       "มี     0.016842  0.256759  0.832864    ...    -0.044267 -0.147186 -0.105424   \n",
       "ได้    0.033361  0.606864  0.440520    ...     0.024458 -0.025031  0.103389   \n",
       "\n",
       "            293       294       295       296       297       298       299  \n",
       "<unk>  0.381577  0.092275 -0.153745 -0.044563  0.292112 -0.101294 -0.164983  \n",
       "<pad> -0.028766  0.027811  0.116776  0.010705  0.001330 -0.027780 -0.022937  \n",
       "      -0.129720  0.009190  0.210058  0.053755 -0.203422 -1.092552 -0.154107  \n",
       "ใน     0.302273  0.014868  0.398777 -0.102287  0.665936 -0.789762 -0.518877  \n",
       "ที่   -0.624864 -0.009358  0.449131  0.120130 -0.122195 -0.450617 -0.071318  \n",
       "และ    0.070885 -0.037263  0.183606 -0.049088 -0.672288 -1.293044  0.592576  \n",
       "เป็น   0.372542  0.049151  0.568470  0.266586  0.400800 -0.784650  0.197369  \n",
       "ของ    0.097702  0.020270  0.182967 -0.083949  0.006287 -0.707434 -0.070234  \n",
       "มี     0.907078  0.009299  0.550953  0.139337  0.031696 -0.670379 -0.008048  \n",
       "ได้   -0.078255  0.034323  0.459774 -0.748643  0.337775 -0.487408 -0.511535  \n",
       "\n",
       "[10 rows x 300 columns]"
      ]
     },
     "execution_count": 38,
     "metadata": {},
     "output_type": "execute_result"
    }
   ],
   "source": [
    "thai2vec = pd.DataFrame(to_np(TEXT_vec.vocab.vectors))\n",
    "thai2vec.index = TEXT_vec.vocab.itos\n",
    "thai2vec.head(10)"
   ]
  },
  {
   "cell_type": "code",
   "execution_count": 39,
   "metadata": {
    "ExecuteTime": {
     "end_time": "2018-01-25T03:55:23.616554Z",
     "start_time": "2018-01-25T03:55:03.872457Z"
    }
   },
   "outputs": [
    {
     "data": {
      "text/plain": [
       "(51358, 300)"
      ]
     },
     "execution_count": 39,
     "metadata": {},
     "output_type": "execute_result"
    }
   ],
   "source": [
    "thai2save = thai2vec[~thai2vec.index.str.contains(' ')]\n",
    "#remove lines with weird characters due to bad segmentation\n",
    "thai2save = thai2save.iloc[3:-48,:]\n",
    "#thai2save.to_csv(f'{PATH}models/thai2vec.vec',sep=' ',header=False, line_terminator='\\n')\n",
    "#add NB_ROWS NB_COLS as header\n",
    "thai2save.shape"
   ]
  },
  {
   "cell_type": "code",
   "execution_count": 45,
   "metadata": {
    "ExecuteTime": {
     "end_time": "2018-01-25T03:59:08.601229Z",
     "start_time": "2018-01-25T03:59:01.839159Z"
    }
   },
   "outputs": [],
   "source": [
    "#model.save_word2vec_format(f'{PATH}models/thai2vec.vec',f'{PATH}models/thai2vec.vocab',False)"
   ]
  }
 ],
 "metadata": {
  "kernelspec": {
   "display_name": "Python 3",
   "language": "python",
   "name": "python3"
  },
  "language_info": {
   "codemirror_mode": {
    "name": "ipython",
    "version": 3
   },
   "file_extension": ".py",
   "mimetype": "text/x-python",
   "name": "python",
   "nbconvert_exporter": "python",
   "pygments_lexer": "ipython3",
   "version": "3.6.3"
  }
 },
 "nbformat": 4,
 "nbformat_minor": 2
}
